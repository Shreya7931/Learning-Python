{
 "cells": [
  {
   "cell_type": "code",
   "execution_count": 1,
   "id": "895eec65-f25f-4047-b829-1c53f97f327c",
   "metadata": {},
   "outputs": [],
   "source": [
    "#generator function:which generates the result continously without holding the resut\n",
    "#while return compiles the whole code then store and relesae"
   ]
  },
  {
   "cell_type": "code",
   "execution_count": 5,
   "id": "345a3903-714e-47cf-8c91-b58ed7aa574b",
   "metadata": {},
   "outputs": [],
   "source": [
    "def test_fib(n):\n",
    "    a,b=0,1\n",
    "    for i in range(n):\n",
    "        yield a#special keyword which helps in generation function\n",
    "        #no return statement.yield helps to throw the data\n",
    "        #advantage: data is removed one by one.\n",
    "        #used when data is more.if data is more then memory will be utilized more and the system will become slow.\n",
    "        a,b=b,a+b"
   ]
  },
  {
   "cell_type": "code",
   "execution_count": 3,
   "id": "9144d4b6-0a15-47e2-93d8-51d265f07ebc",
   "metadata": {},
   "outputs": [
    {
     "data": {
      "text/plain": [
       "<generator object test_fib at 0x7f11c24ed850>"
      ]
     },
     "execution_count": 3,
     "metadata": {},
     "output_type": "execute_result"
    }
   ],
   "source": [
    "test_fib(10)"
   ]
  },
  {
   "cell_type": "code",
   "execution_count": 4,
   "id": "e44e4db5-80d3-43b7-9336-7d3fb26bd823",
   "metadata": {},
   "outputs": [
    {
     "name": "stdout",
     "output_type": "stream",
     "text": [
      "0\n",
      "1\n",
      "1\n",
      "2\n",
      "3\n",
      "5\n",
      "8\n",
      "13\n",
      "21\n",
      "34\n"
     ]
    }
   ],
   "source": [
    "for i in test_fib(10):\n",
    "    print(i)"
   ]
  },
  {
   "cell_type": "code",
   "execution_count": 13,
   "id": "e4f39923-ccb8-4a62-98b6-837580805e12",
   "metadata": {},
   "outputs": [],
   "source": [
    "def test_fib1():\n",
    "    a,b=0,1\n",
    "    while True:\n",
    "        yield a\n",
    "        a,b=b,a+b"
   ]
  },
  {
   "cell_type": "code",
   "execution_count": 14,
   "id": "29120cbd-4d99-4dd6-b356-bfbbf1ed8ab9",
   "metadata": {},
   "outputs": [],
   "source": [
    "fib=test_fib1()"
   ]
  },
  {
   "cell_type": "code",
   "execution_count": 15,
   "id": "516f4155-507a-4c0b-b86e-aa742e1ead29",
   "metadata": {},
   "outputs": [
    {
     "name": "stdout",
     "output_type": "stream",
     "text": [
      "0\n",
      "1\n",
      "1\n",
      "2\n",
      "3\n",
      "5\n",
      "8\n",
      "13\n",
      "21\n",
      "34\n"
     ]
    }
   ],
   "source": [
    "for i in range(10):\n",
    "    print(next(fib))\n",
    "    "
   ]
  },
  {
   "cell_type": "code",
   "execution_count": 25,
   "id": "bf3ae590-c7a6-4759-88f2-c032d285be51",
   "metadata": {},
   "outputs": [
    {
     "name": "stdout",
     "output_type": "stream",
     "text": [
      "s\n",
      "h\n",
      "r\n",
      "e\n",
      "y\n",
      "a\n"
     ]
    },
    {
     "data": {
      "text/plain": [
       "str_iterator"
      ]
     },
     "execution_count": 25,
     "metadata": {},
     "output_type": "execute_result"
    }
   ],
   "source": [
    "s=\"shreya\"\n",
    "for i in s:\n",
    "    print(i)\n",
    "#string is not iterable\n",
    "#next(s) will only work when data is iterable\n",
    "s1=iter(s)\n",
    "next(s1)\n",
    "type(s1)"
   ]
  },
  {
   "cell_type": "code",
   "execution_count": 26,
   "id": "3bd68d6d-4921-403c-8ac5-6bd6bb04dff6",
   "metadata": {},
   "outputs": [
    {
     "data": {
      "text/plain": [
       "'h'"
      ]
     },
     "execution_count": 26,
     "metadata": {},
     "output_type": "execute_result"
    }
   ],
   "source": [
    "next(s1)"
   ]
  },
  {
   "cell_type": "code",
   "execution_count": 27,
   "id": "feab5766-e340-4e15-af23-47ced56e115d",
   "metadata": {},
   "outputs": [],
   "source": [
    "#iter and next by default is working in the for loop"
   ]
  },
  {
   "cell_type": "code",
   "execution_count": 28,
   "id": "ab7a1e56-6955-47aa-9ee0-a6ba6b682384",
   "metadata": {},
   "outputs": [
    {
     "ename": "TypeError",
     "evalue": "'int' object is not an iterator",
     "output_type": "error",
     "traceback": [
      "\u001b[0;31m---------------------------------------------------------------------------\u001b[0m",
      "\u001b[0;31mTypeError\u001b[0m                                 Traceback (most recent call last)",
      "Cell \u001b[0;32mIn[28], line 1\u001b[0m\n\u001b[0;32m----> 1\u001b[0m \u001b[38;5;28;43mnext\u001b[39;49m\u001b[43m(\u001b[49m\u001b[38;5;241;43m45\u001b[39;49m\u001b[43m)\u001b[49m\n",
      "\u001b[0;31mTypeError\u001b[0m: 'int' object is not an iterator"
     ]
    }
   ],
   "source": [
    "next(45)"
   ]
  },
  {
   "cell_type": "code",
   "execution_count": 29,
   "id": "267906f1-5578-4a3d-8759-b77adb3bacb2",
   "metadata": {},
   "outputs": [
    {
     "ename": "TypeError",
     "evalue": "'int' object is not iterable",
     "output_type": "error",
     "traceback": [
      "\u001b[0;31m---------------------------------------------------------------------------\u001b[0m",
      "\u001b[0;31mTypeError\u001b[0m                                 Traceback (most recent call last)",
      "Cell \u001b[0;32mIn[29], line 1\u001b[0m\n\u001b[0;32m----> 1\u001b[0m \u001b[38;5;28;43miter\u001b[39;49m\u001b[43m(\u001b[49m\u001b[38;5;241;43m45\u001b[39;49m\u001b[43m)\u001b[49m\n",
      "\u001b[0;31mTypeError\u001b[0m: 'int' object is not iterable"
     ]
    }
   ],
   "source": [
    "iter(45)"
   ]
  },
  {
   "cell_type": "code",
   "execution_count": 32,
   "id": "af032256-c461-4145-af49-060a88321347",
   "metadata": {},
   "outputs": [],
   "source": [
    "#string,list and tuples are by default iterable so can be converted to iter\n",
    "#iter in which we can access the data next next next\n",
    "#iterable:the data which can be converted to iterable\n",
    "#int is not iterable"
   ]
  },
  {
   "cell_type": "code",
   "execution_count": 33,
   "id": "29483ddd-2b3d-4f45-98e7-6d6c402d76af",
   "metadata": {},
   "outputs": [],
   "source": [
    "def count(n):\n",
    "    count=1\n",
    "    while(count<n):\n",
    "        yield count\n",
    "        count=count+1\n",
    "    "
   ]
  },
  {
   "cell_type": "code",
   "execution_count": 34,
   "id": "54657562-b1aa-4d06-80ab-26fe9e2c75b8",
   "metadata": {},
   "outputs": [],
   "source": [
    "c=count(10)"
   ]
  },
  {
   "cell_type": "code",
   "execution_count": 35,
   "id": "e01c62ae-9ff8-4cb8-9ba3-19a64f1491cf",
   "metadata": {},
   "outputs": [
    {
     "name": "stdout",
     "output_type": "stream",
     "text": [
      "1\n",
      "2\n",
      "3\n",
      "4\n",
      "5\n",
      "6\n",
      "7\n",
      "8\n",
      "9\n"
     ]
    }
   ],
   "source": [
    "for i in c:\n",
    "    print(i)"
   ]
  },
  {
   "cell_type": "code",
   "execution_count": 36,
   "id": "addf623e-529e-4f74-bd5c-c10f2fbb9d13",
   "metadata": {},
   "outputs": [
    {
     "data": {
      "text/plain": [
       "generator"
      ]
     },
     "execution_count": 36,
     "metadata": {},
     "output_type": "execute_result"
    }
   ],
   "source": [
    "type(c)"
   ]
  },
  {
   "cell_type": "code",
   "execution_count": null,
   "id": "26a6ba08-f90e-42ed-a177-0c25b875688b",
   "metadata": {},
   "outputs": [],
   "source": []
  }
 ],
 "metadata": {
  "kernelspec": {
   "display_name": "Python 3 (ipykernel)",
   "language": "python",
   "name": "python3"
  },
  "language_info": {
   "codemirror_mode": {
    "name": "ipython",
    "version": 3
   },
   "file_extension": ".py",
   "mimetype": "text/x-python",
   "name": "python",
   "nbconvert_exporter": "python",
   "pygments_lexer": "ipython3",
   "version": "3.10.8"
  }
 },
 "nbformat": 4,
 "nbformat_minor": 5
}
