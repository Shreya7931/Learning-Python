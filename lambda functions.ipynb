{
 "cells": [
  {
   "cell_type": "code",
   "execution_count": 1,
   "id": "df59d4a5-94c5-4477-9a61-51c8ffb58f8d",
   "metadata": {},
   "outputs": [],
   "source": [
    "#LAMBDA FUNCTIONS"
   ]
  },
  {
   "cell_type": "code",
   "execution_count": 2,
   "id": "88e56c43-625f-4718-a966-e0e2840b43c9",
   "metadata": {},
   "outputs": [],
   "source": [
    "n=3\n",
    "p=2"
   ]
  },
  {
   "cell_type": "code",
   "execution_count": 3,
   "id": "f532b1b3-cbd8-4d2f-a6fd-7c411187c2e8",
   "metadata": {},
   "outputs": [],
   "source": [
    "def test(n,p):\n",
    "    return n**p"
   ]
  },
  {
   "cell_type": "code",
   "execution_count": 4,
   "id": "9bb8f7d2-da4f-4a84-ad03-815504802d29",
   "metadata": {},
   "outputs": [
    {
     "data": {
      "text/plain": [
       "32"
      ]
     },
     "execution_count": 4,
     "metadata": {},
     "output_type": "execute_result"
    }
   ],
   "source": [
    "test(2,5)"
   ]
  },
  {
   "cell_type": "code",
   "execution_count": 10,
   "id": "dbdde95e-29d9-4e6a-bb1e-8b1c8c47a3d8",
   "metadata": {},
   "outputs": [],
   "source": [
    "#using lambda function,anonymous function\n",
    "a=lambda n,p:n**p"
   ]
  },
  {
   "cell_type": "code",
   "execution_count": 8,
   "id": "5d84d2e6-5b8c-43b4-9315-0c93317652aa",
   "metadata": {},
   "outputs": [
    {
     "data": {
      "text/plain": [
       "<function __main__.<lambda>(n, p)>"
      ]
     },
     "execution_count": 8,
     "metadata": {},
     "output_type": "execute_result"
    }
   ],
   "source": [
    "a"
   ]
  },
  {
   "cell_type": "code",
   "execution_count": 9,
   "id": "9c6b8ece-b4f6-4e2d-b6ea-9ed30af9a46d",
   "metadata": {},
   "outputs": [
    {
     "data": {
      "text/plain": [
       "32"
      ]
     },
     "execution_count": 9,
     "metadata": {},
     "output_type": "execute_result"
    }
   ],
   "source": [
    "a(2,5)"
   ]
  },
  {
   "cell_type": "code",
   "execution_count": 13,
   "id": "b4bc937f-4063-409d-99a3-5fc2658ae95d",
   "metadata": {},
   "outputs": [],
   "source": [
    "add= lambda x,y:x+y#stored in a file"
   ]
  },
  {
   "cell_type": "code",
   "execution_count": 12,
   "id": "ccdc4205-e119-49e4-a877-8ba813865980",
   "metadata": {},
   "outputs": [
    {
     "data": {
      "text/plain": [
       "5"
      ]
     },
     "execution_count": 12,
     "metadata": {},
     "output_type": "execute_result"
    }
   ],
   "source": [
    "add(2,3)"
   ]
  },
  {
   "cell_type": "code",
   "execution_count": 14,
   "id": "62884689-ee32-40b1-b904-2ee669b5a9e6",
   "metadata": {},
   "outputs": [],
   "source": [
    "#generative function is used when we generate one illion data\n",
    "#like return generates rhe output of the data at once and may take lot of time\n",
    "#but by using generative function it yields the output one by one\n",
    "#therefore reserving the memory and increasing the efficiency"
   ]
  },
  {
   "cell_type": "code",
   "execution_count": 15,
   "id": "f254c6bf-9249-436b-880e-40bfcaefad02",
   "metadata": {},
   "outputs": [],
   "source": [
    "convert=lambda c:(c*(9/5)+32)"
   ]
  },
  {
   "cell_type": "code",
   "execution_count": 17,
   "id": "168f5050-6a3b-4149-9b78-af65b21219f4",
   "metadata": {},
   "outputs": [
    {
     "data": {
      "text/plain": [
       "113.0"
      ]
     },
     "execution_count": 17,
     "metadata": {},
     "output_type": "execute_result"
    }
   ],
   "source": [
    "convert(45)"
   ]
  },
  {
   "cell_type": "code",
   "execution_count": 23,
   "id": "c2257014-ead1-40cb-a185-e9f8da6fc409",
   "metadata": {},
   "outputs": [],
   "source": [
    "max=lambda a,b : a if a>b else b"
   ]
  },
  {
   "cell_type": "code",
   "execution_count": 24,
   "id": "5b231330-bcb9-491e-bf91-774fa29b805f",
   "metadata": {},
   "outputs": [
    {
     "data": {
      "text/plain": [
       "3"
      ]
     },
     "execution_count": 24,
     "metadata": {},
     "output_type": "execute_result"
    }
   ],
   "source": [
    "max(2,3)"
   ]
  },
  {
   "cell_type": "code",
   "execution_count": 25,
   "id": "0815a8cd-275e-4f2a-a919-b4fda9ae0c9d",
   "metadata": {},
   "outputs": [],
   "source": [
    "min=lambda a,b: a if a<b else b"
   ]
  },
  {
   "cell_type": "code",
   "execution_count": 26,
   "id": "1647b961-37fe-4184-88c1-1689df6ba735",
   "metadata": {},
   "outputs": [
    {
     "data": {
      "text/plain": [
       "2"
      ]
     },
     "execution_count": 26,
     "metadata": {},
     "output_type": "execute_result"
    }
   ],
   "source": [
    "min(2,3)"
   ]
  },
  {
   "cell_type": "code",
   "execution_count": 27,
   "id": "e7fbc42f-f3d4-4763-b2d2-37fcb1032763",
   "metadata": {},
   "outputs": [],
   "source": [
    "s=\"pwskills\""
   ]
  },
  {
   "cell_type": "code",
   "execution_count": 38,
   "id": "c9bc51dd-2e6a-4cdc-83f9-f0e683f824ff",
   "metadata": {},
   "outputs": [],
   "source": [
    "length= lambda s: length(s)"
   ]
  },
  {
   "cell_type": "code",
   "execution_count": 39,
   "id": "0c6dbc33-e53f-48d9-a06e-0f8c9024206f",
   "metadata": {},
   "outputs": [
    {
     "ename": "RecursionError",
     "evalue": "maximum recursion depth exceeded",
     "output_type": "error",
     "traceback": [
      "\u001b[0;31m---------------------------------------------------------------------------\u001b[0m",
      "\u001b[0;31mRecursionError\u001b[0m                            Traceback (most recent call last)",
      "Cell \u001b[0;32mIn[39], line 1\u001b[0m\n\u001b[0;32m----> 1\u001b[0m \u001b[43mlength\u001b[49m\u001b[43m(\u001b[49m\u001b[43ms\u001b[49m\u001b[43m)\u001b[49m\n",
      "Cell \u001b[0;32mIn[38], line 1\u001b[0m, in \u001b[0;36m<lambda>\u001b[0;34m(s)\u001b[0m\n\u001b[0;32m----> 1\u001b[0m length\u001b[38;5;241m=\u001b[39m \u001b[38;5;28;01mlambda\u001b[39;00m s: \u001b[43mlength\u001b[49m\u001b[43m(\u001b[49m\u001b[43ms\u001b[49m\u001b[43m)\u001b[49m\n",
      "Cell \u001b[0;32mIn[38], line 1\u001b[0m, in \u001b[0;36m<lambda>\u001b[0;34m(s)\u001b[0m\n\u001b[0;32m----> 1\u001b[0m length\u001b[38;5;241m=\u001b[39m \u001b[38;5;28;01mlambda\u001b[39;00m s: \u001b[43mlength\u001b[49m\u001b[43m(\u001b[49m\u001b[43ms\u001b[49m\u001b[43m)\u001b[49m\n",
      "    \u001b[0;31m[... skipping similar frames: <lambda> at line 1 (2970 times)]\u001b[0m\n",
      "Cell \u001b[0;32mIn[38], line 1\u001b[0m, in \u001b[0;36m<lambda>\u001b[0;34m(s)\u001b[0m\n\u001b[0;32m----> 1\u001b[0m length\u001b[38;5;241m=\u001b[39m \u001b[38;5;28;01mlambda\u001b[39;00m s: \u001b[43mlength\u001b[49m\u001b[43m(\u001b[49m\u001b[43ms\u001b[49m\u001b[43m)\u001b[49m\n",
      "\u001b[0;31mRecursionError\u001b[0m: maximum recursion depth exceeded"
     ]
    }
   ],
   "source": [
    "length(s)"
   ]
  },
  {
   "cell_type": "code",
   "execution_count": 40,
   "id": "6f42fca9-6336-4a97-9565-6f9d0ae53a40",
   "metadata": {},
   "outputs": [],
   "source": [
    "#MAP,REDUCE AND FILTER FUNCTION"
   ]
  },
  {
   "cell_type": "code",
   "execution_count": 41,
   "id": "dc9f9294-2fe6-4096-9de8-cd3966fbd940",
   "metadata": {},
   "outputs": [],
   "source": [
    "l=[2,3,4,5,6]"
   ]
  },
  {
   "cell_type": "code",
   "execution_count": 42,
   "id": "9c2ce228-4325-4b8e-87ce-87aadc2cdd9a",
   "metadata": {},
   "outputs": [
    {
     "data": {
      "text/plain": [
       "[2, 3, 4, 5, 6]"
      ]
     },
     "execution_count": 42,
     "metadata": {},
     "output_type": "execute_result"
    }
   ],
   "source": [
    "l"
   ]
  },
  {
   "cell_type": "code",
   "execution_count": 48,
   "id": "bf543845-524b-4e3f-9b6d-a720791cffc7",
   "metadata": {},
   "outputs": [],
   "source": [
    "def test(l):\n",
    "    l1=[]\n",
    "    for i in l:\n",
    "        l1.append(i)\n",
    "    return l1"
   ]
  },
  {
   "cell_type": "code",
   "execution_count": 49,
   "id": "80f7e600-66fe-4da5-bad1-2f6bfaf0c0f2",
   "metadata": {},
   "outputs": [
    {
     "data": {
      "text/plain": [
       "[2, 3, 4, 5, 6]"
      ]
     },
     "execution_count": 49,
     "metadata": {},
     "output_type": "execute_result"
    }
   ],
   "source": [
    "test(l)"
   ]
  },
  {
   "cell_type": "code",
   "execution_count": null,
   "id": "157de526-04f4-45a7-b642-960fb0aac759",
   "metadata": {},
   "outputs": [],
   "source": []
  }
 ],
 "metadata": {
  "kernelspec": {
   "display_name": "Python 3 (ipykernel)",
   "language": "python",
   "name": "python3"
  },
  "language_info": {
   "codemirror_mode": {
    "name": "ipython",
    "version": 3
   },
   "file_extension": ".py",
   "mimetype": "text/x-python",
   "name": "python",
   "nbconvert_exporter": "python",
   "pygments_lexer": "ipython3",
   "version": "3.10.8"
  }
 },
 "nbformat": 4,
 "nbformat_minor": 5
}
