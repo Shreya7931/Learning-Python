{
 "cells": [
  {
   "cell_type": "code",
   "execution_count": 1,
   "id": "7783d045-25c5-4bed-b546-ba6628bd9823",
   "metadata": {},
   "outputs": [
    {
     "name": "stdout",
     "output_type": "stream",
     "text": [
      "hello world\n"
     ]
    }
   ],
   "source": [
    "print(\"hello world\")"
   ]
  },
  {
   "cell_type": "code",
   "execution_count": 2,
   "id": "ceaceeb5-4502-4ec0-abd6-0e60188d763c",
   "metadata": {},
   "outputs": [],
   "source": [
    "l=[1,2,3,4,5]"
   ]
  },
  {
   "cell_type": "code",
   "execution_count": 3,
   "id": "8ce08421-15c9-4f36-a400-a3613c2c1a31",
   "metadata": {},
   "outputs": [
    {
     "data": {
      "text/plain": [
       "5"
      ]
     },
     "execution_count": 3,
     "metadata": {},
     "output_type": "execute_result"
    }
   ],
   "source": [
    "len(l)"
   ]
  },
  {
   "cell_type": "code",
   "execution_count": 4,
   "id": "661fac32-4c71-44e4-b2fc-a1d56e6e04e0",
   "metadata": {},
   "outputs": [],
   "source": [
    "#inbuilt functions\n",
    "#increses reusability"
   ]
  },
  {
   "cell_type": "code",
   "execution_count": 5,
   "id": "09122f4f-45f8-4303-bbcd-94bfbb5c4825",
   "metadata": {},
   "outputs": [],
   "source": [
    "def test():\n",
    "    a,b=3,4\n",
    "    c=a+b\n",
    "    return c"
   ]
  },
  {
   "cell_type": "code",
   "execution_count": 6,
   "id": "ffdbd5a9-c6e1-4b41-a6ee-9c335ce11449",
   "metadata": {},
   "outputs": [
    {
     "data": {
      "text/plain": [
       "7"
      ]
     },
     "execution_count": 6,
     "metadata": {},
     "output_type": "execute_result"
    }
   ],
   "source": [
    "test()"
   ]
  },
  {
   "cell_type": "code",
   "execution_count": 7,
   "id": "3c42d665-a983-42fc-b216-c95fc814c9e4",
   "metadata": {},
   "outputs": [],
   "source": [
    "def test1():\n",
    "    pass"
   ]
  },
  {
   "cell_type": "code",
   "execution_count": 8,
   "id": "c43e3d89-9251-417c-adbe-35c61d784ba0",
   "metadata": {},
   "outputs": [],
   "source": [
    "def test2():\n",
    "    print(\"this is my very very first function\")"
   ]
  },
  {
   "cell_type": "code",
   "execution_count": 9,
   "id": "fb35e5a7-35cb-4903-91f9-1caeadaf4833",
   "metadata": {},
   "outputs": [
    {
     "name": "stdout",
     "output_type": "stream",
     "text": [
      "this is my very very first function\n"
     ]
    }
   ],
   "source": [
    "test2()"
   ]
  },
  {
   "cell_type": "code",
   "execution_count": 11,
   "id": "39d559d4-ff5d-4075-b715-f59fe0cd5fd8",
   "metadata": {},
   "outputs": [
    {
     "name": "stdout",
     "output_type": "stream",
     "text": [
      "this is my very very first function\n"
     ]
    },
    {
     "ename": "TypeError",
     "evalue": "unsupported operand type(s) for +: 'NoneType' and 'str'",
     "output_type": "error",
     "traceback": [
      "\u001b[0;31m---------------------------------------------------------------------------\u001b[0m",
      "\u001b[0;31mTypeError\u001b[0m                                 Traceback (most recent call last)",
      "Cell \u001b[0;32mIn[11], line 1\u001b[0m\n\u001b[0;32m----> 1\u001b[0m \u001b[43mtest2\u001b[49m\u001b[43m(\u001b[49m\u001b[43m)\u001b[49m\u001b[38;5;241;43m+\u001b[39;49m\u001b[38;5;124;43m\"\u001b[39;49m\u001b[38;5;124;43mshreya\u001b[39;49m\u001b[38;5;124;43m\"\u001b[39;49m\u001b[38;5;66;03m#function is none type\u001b[39;00m\n",
      "\u001b[0;31mTypeError\u001b[0m: unsupported operand type(s) for +: 'NoneType' and 'str'"
     ]
    }
   ],
   "source": [
    "test2()+\"shreya\"#print function is none type"
   ]
  },
  {
   "cell_type": "code",
   "execution_count": 12,
   "id": "26562edc-f3c6-4b00-a30a-dbf0691f6d15",
   "metadata": {},
   "outputs": [
    {
     "ename": "NameError",
     "evalue": "name 'test3' is not defined",
     "output_type": "error",
     "traceback": [
      "\u001b[0;31m---------------------------------------------------------------------------\u001b[0m",
      "\u001b[0;31mNameError\u001b[0m                                 Traceback (most recent call last)",
      "Cell \u001b[0;32mIn[12], line 1\u001b[0m\n\u001b[0;32m----> 1\u001b[0m \u001b[43mtest3\u001b[49m()\n",
      "\u001b[0;31mNameError\u001b[0m: name 'test3' is not defined"
     ]
    }
   ],
   "source": [
    "def test3():\n",
    "    return"
   ]
  },
  {
   "cell_type": "code",
   "execution_count": 1,
   "id": "18d49f5a-cb0a-4f2b-accf-bfdc0919f70d",
   "metadata": {},
   "outputs": [],
   "source": [
    "def test4():\n",
    "    return \"shreya\",23,345.6"
   ]
  },
  {
   "cell_type": "code",
   "execution_count": 2,
   "id": "87b872d6-a22a-4034-b780-b98fade4eb8e",
   "metadata": {},
   "outputs": [
    {
     "data": {
      "text/plain": [
       "('shreya', 23, 345.6)"
      ]
     },
     "execution_count": 2,
     "metadata": {},
     "output_type": "execute_result"
    }
   ],
   "source": [
    "test4()"
   ]
  },
  {
   "cell_type": "code",
   "execution_count": 4,
   "id": "7c8edc0a-5eee-487e-8357-de1f7d4a325f",
   "metadata": {},
   "outputs": [],
   "source": [
    "def test5():\n",
    "    a=int(input(\"enter a number\"))\n",
    "    return a"
   ]
  },
  {
   "cell_type": "code",
   "execution_count": 5,
   "id": "f8d3be78-b822-4bb1-bbf4-a4a05b00918f",
   "metadata": {},
   "outputs": [
    {
     "name": "stdin",
     "output_type": "stream",
     "text": [
      "enter a number 5\n"
     ]
    },
    {
     "data": {
      "text/plain": [
       "5"
      ]
     },
     "execution_count": 5,
     "metadata": {},
     "output_type": "execute_result"
    }
   ],
   "source": [
    "test5()"
   ]
  },
  {
   "cell_type": "code",
   "execution_count": 9,
   "id": "e025d310-5e5a-4402-a0f6-9ab87d44a764",
   "metadata": {},
   "outputs": [],
   "source": [
    "def test6(a,b,c):\n",
    "    d=a+b+c\n",
    "    return d"
   ]
  },
  {
   "cell_type": "code",
   "execution_count": 10,
   "id": "0f367240-92e3-4cb1-b7d7-a96be38088ca",
   "metadata": {},
   "outputs": [
    {
     "data": {
      "text/plain": [
       "63"
      ]
     },
     "execution_count": 10,
     "metadata": {},
     "output_type": "execute_result"
    }
   ],
   "source": [
    "test6(56,4,3)"
   ]
  },
  {
   "cell_type": "code",
   "execution_count": 11,
   "id": "40abd4a4-9142-49e3-86f5-dd410f6cd792",
   "metadata": {},
   "outputs": [
    {
     "data": {
      "text/plain": [
       "[1, 2, 3, 4, 2, 3, 4, 5, 4, 5, 6, 7]"
      ]
     },
     "execution_count": 11,
     "metadata": {},
     "output_type": "execute_result"
    }
   ],
   "source": [
    "test6([1,2,3,4],[2,3,4,5],[4,5,6,7])"
   ]
  },
  {
   "cell_type": "code",
   "execution_count": 12,
   "id": "0795fe11-d11e-4777-9401-bb578c0910e5",
   "metadata": {},
   "outputs": [],
   "source": [
    "#reusability of code is incresed"
   ]
  },
  {
   "cell_type": "code",
   "execution_count": 13,
   "id": "a16f6bf9-3983-4d21-b44b-7fc60043b3a3",
   "metadata": {},
   "outputs": [],
   "source": [
    "l=[\"shreya\",\"patil\",1,2,3,4,5]"
   ]
  },
  {
   "cell_type": "code",
   "execution_count": 14,
   "id": "9b3b1b05-d113-4e14-ad0d-24642236dba8",
   "metadata": {},
   "outputs": [
    {
     "data": {
      "text/plain": [
       "['shreya', 'patil', 1, 2, 3, 4, 5]"
      ]
     },
     "execution_count": 14,
     "metadata": {},
     "output_type": "execute_result"
    }
   ],
   "source": [
    "l"
   ]
  },
  {
   "cell_type": "code",
   "execution_count": 16,
   "id": "940745b9-0e02-4706-8be1-4f3121944142",
   "metadata": {},
   "outputs": [],
   "source": [
    "def test7(l):\n",
    "    l1=[]\n",
    "    for i in l:\n",
    "        if(type(i)==int):\n",
    "            l1.append(i)\n",
    "    return l1"
   ]
  },
  {
   "cell_type": "code",
   "execution_count": 18,
   "id": "50928071-b417-4983-a41b-1af97250f627",
   "metadata": {},
   "outputs": [
    {
     "data": {
      "text/plain": [
       "[1, 2, 3, 4, 5]"
      ]
     },
     "execution_count": 18,
     "metadata": {},
     "output_type": "execute_result"
    }
   ],
   "source": [
    "test7(l)"
   ]
  },
  {
   "cell_type": "code",
   "execution_count": 19,
   "id": "47bd3340-da4b-4625-b188-27cc0cccdc12",
   "metadata": {},
   "outputs": [
    {
     "data": {
      "text/plain": [
       "['shreya', 'patil', 1, 2, 3, 4, 5]"
      ]
     },
     "execution_count": 19,
     "metadata": {},
     "output_type": "execute_result"
    }
   ],
   "source": [
    "l"
   ]
  },
  {
   "cell_type": "code",
   "execution_count": 21,
   "id": "00e124e3-3016-43c9-9f71-6198dd5940b1",
   "metadata": {},
   "outputs": [],
   "source": [
    "l.append([1,2,3,4])"
   ]
  },
  {
   "cell_type": "code",
   "execution_count": 22,
   "id": "3e1bdb6d-9bea-46f0-b78e-765940568c5d",
   "metadata": {},
   "outputs": [
    {
     "data": {
      "text/plain": [
       "['shreya', 'patil', 1, 2, 3, 4, 5, [1, 2, 3, 4]]"
      ]
     },
     "execution_count": 22,
     "metadata": {},
     "output_type": "execute_result"
    }
   ],
   "source": [
    "l"
   ]
  },
  {
   "cell_type": "code",
   "execution_count": 36,
   "id": "ee267bc1-5996-41cb-aa38-27a2b604dae8",
   "metadata": {},
   "outputs": [],
   "source": [
    "def test8(a):#doc to explain the function when shift and tab is pressed\n",
    "    \"\"\"this is my function to extract numeric data from list\"\"\"\n",
    "    l1=[]\n",
    "    for i in a:\n",
    "        if type(i)==list:\n",
    "            for j in i:\n",
    "                l1.append(j)\n",
    "        else:\n",
    "            if type(i)==int or type(i)==float:\n",
    "                    l1.append(i)\n",
    "    return l1"
   ]
  },
  {
   "cell_type": "code",
   "execution_count": 34,
   "id": "cfb1f3f6-13fe-437a-a6fc-3f8fd002d8a8",
   "metadata": {},
   "outputs": [
    {
     "data": {
      "text/plain": [
       "[1, 2, 3, 4, 5, 1, 2, 3, 4]"
      ]
     },
     "execution_count": 34,
     "metadata": {},
     "output_type": "execute_result"
    }
   ],
   "source": [
    "test8(l)"
   ]
  },
  {
   "cell_type": "code",
   "execution_count": 35,
   "id": "73d30b71-b68e-4534-8f9c-3fc91d2b7035",
   "metadata": {},
   "outputs": [
    {
     "data": {
      "text/plain": [
       "[1, 2, 3, 4, 5, 1, 2, 3, 4]"
      ]
     },
     "execution_count": 35,
     "metadata": {},
     "output_type": "execute_result"
    }
   ],
   "source": [
    "test8(l)"
   ]
  },
  {
   "cell_type": "code",
   "execution_count": 43,
   "id": "cfe463f0-dc46-47a1-ba30-245ebee40a0d",
   "metadata": {},
   "outputs": [],
   "source": [
    "def test10(*args):#args to taken how many input given by the user\n",
    "    return args#asterik is playing an important role"
   ]
  },
  {
   "cell_type": "code",
   "execution_count": 38,
   "id": "e8805d36-aec7-4dfc-81e5-afd62be5aece",
   "metadata": {},
   "outputs": [
    {
     "data": {
      "text/plain": [
       "([1, 2, 3, 4, 5, 6],)"
      ]
     },
     "execution_count": 38,
     "metadata": {},
     "output_type": "execute_result"
    }
   ],
   "source": [
    "test10([1,2,3,4,5,6])"
   ]
  },
  {
   "cell_type": "code",
   "execution_count": 42,
   "id": "a5955872-7bf5-4bb6-be05-37896a041206",
   "metadata": {},
   "outputs": [
    {
     "data": {
      "text/plain": [
       "(45, 67, 89)"
      ]
     },
     "execution_count": 42,
     "metadata": {},
     "output_type": "execute_result"
    }
   ],
   "source": [
    "test10(45,67,89)"
   ]
  },
  {
   "cell_type": "code",
   "execution_count": 44,
   "id": "8f83cbf2-cefb-48db-b05b-7aa192429cea",
   "metadata": {},
   "outputs": [],
   "source": [
    "def test13(*args,a):\n",
    "    return args,a"
   ]
  },
  {
   "cell_type": "code",
   "execution_count": 45,
   "id": "41d3d020-08e7-4559-9f55-e0e7a6694fae",
   "metadata": {},
   "outputs": [
    {
     "data": {
      "text/plain": [
       "(([1, 2, 3, 4, 5],), 5)"
      ]
     },
     "execution_count": 45,
     "metadata": {},
     "output_type": "execute_result"
    }
   ],
   "source": [
    "test13([1,2,3,4,5],a=5)"
   ]
  },
  {
   "cell_type": "code",
   "execution_count": 49,
   "id": "8bca55f6-aaba-4ae2-b17e-825d75f11ec3",
   "metadata": {},
   "outputs": [],
   "source": [
    "def test14(c,d,a=23,b=1):#unknown should be placed first\n",
    "    return a,b,c,d"
   ]
  },
  {
   "cell_type": "code",
   "execution_count": 48,
   "id": "f7141768-c1af-4f03-9ce8-fa45fe0cc236",
   "metadata": {},
   "outputs": [
    {
     "data": {
      "text/plain": [
       "(23, 1, 23, 45)"
      ]
     },
     "execution_count": 48,
     "metadata": {},
     "output_type": "execute_result"
    }
   ],
   "source": [
    "test14(23,45)"
   ]
  },
  {
   "cell_type": "code",
   "execution_count": 52,
   "id": "224aa563-9687-4e88-8d3b-16cfa2bf5f46",
   "metadata": {},
   "outputs": [
    {
     "data": {
      "text/plain": [
       "(5, 9, 2, 5)"
      ]
     },
     "execution_count": 52,
     "metadata": {},
     "output_type": "execute_result"
    }
   ],
   "source": [
    "test14(2,5,a=5,b=9)#provision to override"
   ]
  },
  {
   "cell_type": "code",
   "execution_count": 58,
   "id": "4f278bdc-9e9b-4620-acd9-cb5f4c4c7046",
   "metadata": {},
   "outputs": [],
   "source": [
    "def test15(**kwargs):#dictionary\n",
    "    return kwargs"
   ]
  },
  {
   "cell_type": "code",
   "execution_count": 54,
   "id": "79da32d8-e3af-4188-91c4-f5e489f2c5be",
   "metadata": {},
   "outputs": [
    {
     "data": {
      "text/plain": [
       "{}"
      ]
     },
     "execution_count": 54,
     "metadata": {},
     "output_type": "execute_result"
    }
   ],
   "source": [
    "test15()"
   ]
  },
  {
   "cell_type": "code",
   "execution_count": 56,
   "id": "ceca3a76-8881-4cb9-9abd-cdd90227159e",
   "metadata": {},
   "outputs": [
    {
     "data": {
      "text/plain": [
       "dict"
      ]
     },
     "execution_count": 56,
     "metadata": {},
     "output_type": "execute_result"
    }
   ],
   "source": [
    "type(test15())"
   ]
  },
  {
   "cell_type": "code",
   "execution_count": 57,
   "id": "d87f5493-b672-484e-8bd5-3a151280abde",
   "metadata": {},
   "outputs": [
    {
     "data": {
      "text/plain": [
       "{'a': [1, 2, 3, 4], 'b': 'sudh', 'c': 23.45}"
      ]
     },
     "execution_count": 57,
     "metadata": {},
     "output_type": "execute_result"
    }
   ],
   "source": [
    "test15(a=[1,2,3,4],b=\"sudh\",c=23.45)"
   ]
  },
  {
   "cell_type": "code",
   "execution_count": 1,
   "id": "fdd148e8-8427-4059-b1ed-f3d571dd552c",
   "metadata": {},
   "outputs": [],
   "source": [
    "#generator function"
   ]
  },
  {
   "cell_type": "code",
   "execution_count": 2,
   "id": "8af0a99c-96af-4214-9ffd-33eb92bee5e2",
   "metadata": {},
   "outputs": [],
   "source": [
    "#doc string"
   ]
  },
  {
   "cell_type": "code",
   "execution_count": 3,
   "id": "6dcfe92e-6f34-4bfa-b074-3f92aa6e2173",
   "metadata": {},
   "outputs": [
    {
     "data": {
      "text/plain": [
       "range(0, 10)"
      ]
     },
     "execution_count": 3,
     "metadata": {},
     "output_type": "execute_result"
    }
   ],
   "source": [
    "#generator function:\n",
    "range(10)"
   ]
  },
  {
   "cell_type": "code",
   "execution_count": 4,
   "id": "7e2cf2d1-aa02-45e3-899b-5ca0934b2c66",
   "metadata": {},
   "outputs": [
    {
     "name": "stdout",
     "output_type": "stream",
     "text": [
      "range(0, 10)\n"
     ]
    }
   ],
   "source": [
    "print(range(10))"
   ]
  },
  {
   "cell_type": "code",
   "execution_count": 5,
   "id": "93bce3af-7a64-4351-b08c-6c6a343e6c10",
   "metadata": {},
   "outputs": [
    {
     "name": "stdout",
     "output_type": "stream",
     "text": [
      "0\n",
      "1\n",
      "2\n",
      "3\n",
      "4\n",
      "5\n",
      "6\n",
      "7\n",
      "8\n",
      "9\n"
     ]
    }
   ],
   "source": [
    "for i in range(10):\n",
    "    print(i)"
   ]
  },
  {
   "cell_type": "code",
   "execution_count": 7,
   "id": "04aec43d-a9ce-46ae-bee2-dc8fc52a7d69",
   "metadata": {},
   "outputs": [],
   "source": [
    "#generates the outcome continously without holding anything in to the memory"
   ]
  },
  {
   "cell_type": "code",
   "execution_count": 18,
   "id": "e041bd04-5148-4e47-ab9e-7bd1d72e886f",
   "metadata": {},
   "outputs": [],
   "source": [
    "def fib():\n",
    "    a,b=0,1\n",
    "    while(True):\n",
    "        yield a#yield helps in throwing the data\n",
    "        a,b=b,a+b"
   ]
  },
  {
   "cell_type": "code",
   "execution_count": 14,
   "id": "849ab3ec-2cb9-4837-a7cd-5aea88aaff78",
   "metadata": {},
   "outputs": [
    {
     "data": {
      "text/plain": [
       "<generator object fib at 0x7f4e4472ba00>"
      ]
     },
     "execution_count": 14,
     "metadata": {},
     "output_type": "execute_result"
    }
   ],
   "source": [
    "fib(10)"
   ]
  },
  {
   "cell_type": "code",
   "execution_count": 43,
   "id": "e137148c-3f06-451b-b6d8-9c2616402526",
   "metadata": {},
   "outputs": [],
   "source": [
    "fib1=fib()#creating an object\n",
    "    "
   ]
  },
  {
   "cell_type": "code",
   "execution_count": 21,
   "id": "12a34aa1-d721-4ecf-abbb-a62bd5525f2c",
   "metadata": {},
   "outputs": [
    {
     "name": "stdout",
     "output_type": "stream",
     "text": [
      "0\n",
      "1\n",
      "1\n",
      "2\n",
      "3\n",
      "5\n",
      "8\n",
      "13\n",
      "21\n",
      "34\n"
     ]
    }
   ],
   "source": [
    "for i in range(10):\n",
    "    print(next(fib1))"
   ]
  },
  {
   "cell_type": "code",
   "execution_count": 22,
   "id": "c2f3d4ef-2260-44ae-b955-1305b5d42105",
   "metadata": {},
   "outputs": [],
   "source": [
    "#string is not iterative\n",
    "# so using for loop\n",
    "s=\"shreya\""
   ]
  },
  {
   "cell_type": "code",
   "execution_count": 23,
   "id": "e2643f91-14bc-461c-9ed0-2303d3df99b8",
   "metadata": {},
   "outputs": [
    {
     "ename": "TypeError",
     "evalue": "'str' object is not an iterator",
     "output_type": "error",
     "traceback": [
      "\u001b[0;31m---------------------------------------------------------------------------\u001b[0m",
      "\u001b[0;31mTypeError\u001b[0m                                 Traceback (most recent call last)",
      "Cell \u001b[0;32mIn[23], line 1\u001b[0m\n\u001b[0;32m----> 1\u001b[0m \u001b[38;5;28;43mnext\u001b[39;49m\u001b[43m(\u001b[49m\u001b[43ms\u001b[49m\u001b[43m)\u001b[49m\n",
      "\u001b[0;31mTypeError\u001b[0m: 'str' object is not an iterator"
     ]
    }
   ],
   "source": [
    "next(s)"
   ]
  },
  {
   "cell_type": "code",
   "execution_count": 27,
   "id": "9906dda3-46d3-4ca5-8f86-131a3c5f947b",
   "metadata": {},
   "outputs": [],
   "source": [
    "s1=iter(s)#converting string to iterative"
   ]
  },
  {
   "cell_type": "code",
   "execution_count": 25,
   "id": "03509b06-9057-4959-b86d-66d692f8289f",
   "metadata": {},
   "outputs": [
    {
     "data": {
      "text/plain": [
       "'s'"
      ]
     },
     "execution_count": 25,
     "metadata": {},
     "output_type": "execute_result"
    }
   ],
   "source": [
    "next(s1)"
   ]
  },
  {
   "cell_type": "code",
   "execution_count": 26,
   "id": "3e8af137-02cc-46a6-9153-9b40eff73519",
   "metadata": {},
   "outputs": [
    {
     "data": {
      "text/plain": [
       "'h'"
      ]
     },
     "execution_count": 26,
     "metadata": {},
     "output_type": "execute_result"
    }
   ],
   "source": [
    "next(s1)"
   ]
  },
  {
   "cell_type": "code",
   "execution_count": 29,
   "id": "c8c4f28c-02ba-4f16-a97e-69db86be1b33",
   "metadata": {},
   "outputs": [
    {
     "ename": "TypeError",
     "evalue": "'int' object is not iterable",
     "output_type": "error",
     "traceback": [
      "\u001b[0;31m---------------------------------------------------------------------------\u001b[0m",
      "\u001b[0;31mTypeError\u001b[0m                                 Traceback (most recent call last)",
      "Cell \u001b[0;32mIn[29], line 1\u001b[0m\n\u001b[0;32m----> 1\u001b[0m s2\u001b[38;5;241m=\u001b[39m\u001b[38;5;28;43miter\u001b[39;49m\u001b[43m(\u001b[49m\u001b[38;5;241;43m45\u001b[39;49m\u001b[43m)\u001b[49m\u001b[38;5;66;03m#string is defaul iterble\u001b[39;00m\n",
      "\u001b[0;31mTypeError\u001b[0m: 'int' object is not iterable"
     ]
    }
   ],
   "source": [
    "s2=iter(45)#string is defaul iterble"
   ]
  },
  {
   "cell_type": "code",
   "execution_count": 30,
   "id": "dbe92f2e-b51b-4350-992f-5b22fff9fb3f",
   "metadata": {},
   "outputs": [],
   "source": [
    "#generator next\n",
    "#iterable which are iterable"
   ]
  },
  {
   "cell_type": "code",
   "execution_count": 42,
   "id": "787831da-1ca0-47c0-8d97-740775a7de99",
   "metadata": {},
   "outputs": [],
   "source": [
    "def count1(n):\n",
    "    count=1\n",
    "    while count<=n:\n",
    "        yield count#return gives a data at a short\n",
    "        #while yield gives data one by one\n",
    "        count=count+1"
   ]
  },
  {
   "cell_type": "code",
   "execution_count": 40,
   "id": "a620d513-dc29-4c7b-81ac-6dc59a0d743e",
   "metadata": {},
   "outputs": [],
   "source": [
    "c=count1(5)"
   ]
  },
  {
   "cell_type": "code",
   "execution_count": 41,
   "id": "70fe7e2d-aa2f-4639-8705-e36be728a35b",
   "metadata": {},
   "outputs": [
    {
     "name": "stdout",
     "output_type": "stream",
     "text": [
      "1\n",
      "2\n",
      "3\n",
      "4\n",
      "5\n"
     ]
    }
   ],
   "source": [
    "for i in c:\n",
    "    print(i)"
   ]
  },
  {
   "cell_type": "code",
   "execution_count": null,
   "id": "8d9a7694-539c-4799-b1c5-05321329d01e",
   "metadata": {},
   "outputs": [],
   "source": []
  }
 ],
 "metadata": {
  "kernelspec": {
   "display_name": "Python 3 (ipykernel)",
   "language": "python",
   "name": "python3"
  },
  "language_info": {
   "codemirror_mode": {
    "name": "ipython",
    "version": 3
   },
   "file_extension": ".py",
   "mimetype": "text/x-python",
   "name": "python",
   "nbconvert_exporter": "python",
   "pygments_lexer": "ipython3",
   "version": "3.10.8"
  }
 },
 "nbformat": 4,
 "nbformat_minor": 5
}
