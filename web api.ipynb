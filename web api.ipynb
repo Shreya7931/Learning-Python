{
 "cells": [
  {
   "cell_type": "code",
   "execution_count": 1,
   "id": "212489ee-4a61-453b-b271-0ce1629c6c9e",
   "metadata": {},
   "outputs": [],
   "source": [
    "#web api"
   ]
  },
  {
   "cell_type": "code",
   "execution_count": 2,
   "id": "a4a0e4a6-07b0-4723-918d-5b3bdd8e041f",
   "metadata": {},
   "outputs": [],
   "source": [
    "#application program interface"
   ]
  },
  {
   "cell_type": "code",
   "execution_count": null,
   "id": "4eab79b4-d995-47d2-b80d-19cdc29cd9df",
   "metadata": {},
   "outputs": [],
   "source": [
    "#"
   ]
  }
 ],
 "metadata": {
  "kernelspec": {
   "display_name": "Python 3 (ipykernel)",
   "language": "python",
   "name": "python3"
  },
  "language_info": {
   "codemirror_mode": {
    "name": "ipython",
    "version": 3
   },
   "file_extension": ".py",
   "mimetype": "text/x-python",
   "name": "python",
   "nbconvert_exporter": "python",
   "pygments_lexer": "ipython3",
   "version": "3.10.8"
  }
 },
 "nbformat": 4,
 "nbformat_minor": 5
}
