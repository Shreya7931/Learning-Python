{
 "cells": [
  {
   "cell_type": "code",
   "execution_count": 1,
   "id": "2172cf9d-053a-439c-88f1-96821c1727b7",
   "metadata": {},
   "outputs": [],
   "source": [
    "#DICTIONARY\n",
    "#key and value paird\n",
    "d={}"
   ]
  },
  {
   "cell_type": "code",
   "execution_count": 2,
   "id": "e6f9fd79-c30f-4fb5-919d-b6605393f7ce",
   "metadata": {},
   "outputs": [
    {
     "data": {
      "text/plain": [
       "dict"
      ]
     },
     "execution_count": 2,
     "metadata": {},
     "output_type": "execute_result"
    }
   ],
   "source": [
    "type(d)"
   ]
  },
  {
   "cell_type": "code",
   "execution_count": 3,
   "id": "985a754a-c605-4ad5-b87a-0088157ab4c6",
   "metadata": {},
   "outputs": [],
   "source": [
    "d={(1,24),(2,34)}"
   ]
  },
  {
   "cell_type": "code",
   "execution_count": 4,
   "id": "b4dfa664-86fb-4156-a64c-6ee38287b8bf",
   "metadata": {},
   "outputs": [
    {
     "data": {
      "text/plain": [
       "{(1, 24), (2, 34)}"
      ]
     },
     "execution_count": 4,
     "metadata": {},
     "output_type": "execute_result"
    }
   ],
   "source": [
    "d"
   ]
  },
  {
   "cell_type": "code",
   "execution_count": 5,
   "id": "7728c873-c47b-42d7-9743-166b260e2a06",
   "metadata": {},
   "outputs": [
    {
     "data": {
      "text/plain": [
       "set"
      ]
     },
     "execution_count": 5,
     "metadata": {},
     "output_type": "execute_result"
    }
   ],
   "source": [
    "type(d)"
   ]
  },
  {
   "cell_type": "code",
   "execution_count": 6,
   "id": "fed43933-0e8b-4224-bcbf-7fb9706ad660",
   "metadata": {},
   "outputs": [],
   "source": [
    "d={1:24,2:31}"
   ]
  },
  {
   "cell_type": "code",
   "execution_count": 7,
   "id": "b3b097e7-93ad-4290-8644-7f0a690f292b",
   "metadata": {},
   "outputs": [
    {
     "data": {
      "text/plain": [
       "dict"
      ]
     },
     "execution_count": 7,
     "metadata": {},
     "output_type": "execute_result"
    }
   ],
   "source": [
    "type(d)"
   ]
  },
  {
   "cell_type": "code",
   "execution_count": 8,
   "id": "15bbd122-df9c-4780-933b-79f2f4d266a8",
   "metadata": {},
   "outputs": [
    {
     "data": {
      "text/plain": [
       "{1: 24, 2: 31}"
      ]
     },
     "execution_count": 8,
     "metadata": {},
     "output_type": "execute_result"
    }
   ],
   "source": [
    "d"
   ]
  },
  {
   "cell_type": "code",
   "execution_count": 9,
   "id": "56078a5d-be14-45cb-b361-1a2917738260",
   "metadata": {},
   "outputs": [],
   "source": [
    "#key should always be unique\n",
    "#value \n",
    "d1={'key':\"shreya\"}"
   ]
  },
  {
   "cell_type": "code",
   "execution_count": 10,
   "id": "759cad67-9fd5-4949-9d8b-f7b02011117b",
   "metadata": {},
   "outputs": [
    {
     "data": {
      "text/plain": [
       "{'key': 'shreya'}"
      ]
     },
     "execution_count": 10,
     "metadata": {},
     "output_type": "execute_result"
    }
   ],
   "source": [
    "d1"
   ]
  },
  {
   "cell_type": "code",
   "execution_count": 11,
   "id": "21e37af4-df4f-4fbb-91ce-7340859f3a61",
   "metadata": {},
   "outputs": [],
   "source": [
    "d2={'name':\"shreya\",\"email\":\"shreya@gmail.com\"}"
   ]
  },
  {
   "cell_type": "code",
   "execution_count": 12,
   "id": "083bd588-579c-4f64-8f31-4f5bfce68291",
   "metadata": {},
   "outputs": [
    {
     "data": {
      "text/plain": [
       "{'name': 'shreya', 'email': 'shreya@gmail.com'}"
      ]
     },
     "execution_count": 12,
     "metadata": {},
     "output_type": "execute_result"
    }
   ],
   "source": [
    "d2"
   ]
  },
  {
   "cell_type": "code",
   "execution_count": 18,
   "id": "2b264172-862b-456b-850d-c546d6a01b7d",
   "metadata": {},
   "outputs": [
    {
     "data": {
      "text/plain": [
       "{'name': 'shreya', 'email': 'shreya@gmail.com'}"
      ]
     },
     "execution_count": 18,
     "metadata": {},
     "output_type": "execute_result"
    }
   ],
   "source": [
    "d2"
   ]
  },
  {
   "cell_type": "code",
   "execution_count": 22,
   "id": "dcf1bc82-fd6d-42ec-985a-f9dcb6738159",
   "metadata": {},
   "outputs": [],
   "source": [
    "d3={234:\"shreya\",\"patil\":\"patil\",True:23456}"
   ]
  },
  {
   "cell_type": "code",
   "execution_count": 23,
   "id": "7f4fd7ae-258f-4316-994d-4593d7bcf255",
   "metadata": {},
   "outputs": [
    {
     "data": {
      "text/plain": [
       "{234: 'shreya', 'patil': 'patil', True: 23456}"
      ]
     },
     "execution_count": 23,
     "metadata": {},
     "output_type": "execute_result"
    }
   ],
   "source": [
    "d3"
   ]
  },
  {
   "cell_type": "code",
   "execution_count": 27,
   "id": "4deb0640-bbe0-431f-925c-5f3a2a745ea1",
   "metadata": {},
   "outputs": [
    {
     "data": {
      "text/plain": [
       "'shreya'"
      ]
     },
     "execution_count": 27,
     "metadata": {},
     "output_type": "execute_result"
    }
   ],
   "source": [
    "d3[234]#to find the value of key 234"
   ]
  },
  {
   "cell_type": "code",
   "execution_count": 29,
   "id": "3f27a194-2fd4-4d63-932f-7c8b8f1e4afc",
   "metadata": {},
   "outputs": [
    {
     "data": {
      "text/plain": [
       "23456"
      ]
     },
     "execution_count": 29,
     "metadata": {},
     "output_type": "execute_result"
    }
   ],
   "source": [
    "d3[1]#True is 1"
   ]
  },
  {
   "cell_type": "code",
   "execution_count": 33,
   "id": "227cc8cf-d582-4dff-a143-4b866b34af02",
   "metadata": {},
   "outputs": [],
   "source": [
    "d4={\"name\":\"shreya\",\"mail\":\"shreya@gmail.com\", \"phone\":4567788 ,\"name\":\"patil\"}"
   ]
  },
  {
   "cell_type": "code",
   "execution_count": 34,
   "id": "6c2c7861-e77d-4d79-addf-e365542499af",
   "metadata": {},
   "outputs": [
    {
     "data": {
      "text/plain": [
       "{'name': 'patil', 'mail': 'shreya@gmail.com', 'phone': 4567788}"
      ]
     },
     "execution_count": 34,
     "metadata": {},
     "output_type": "execute_result"
    }
   ],
   "source": [
    "d4\n"
   ]
  },
  {
   "cell_type": "code",
   "execution_count": 36,
   "id": "a833aa77-4381-426d-8c77-9a09ebc7e412",
   "metadata": {},
   "outputs": [
    {
     "data": {
      "text/plain": [
       "'patil'"
      ]
     },
     "execution_count": 36,
     "metadata": {},
     "output_type": "execute_result"
    }
   ],
   "source": [
    "d4['name']#over0rides with the new value"
   ]
  },
  {
   "cell_type": "code",
   "execution_count": null,
   "id": "d057cabe-076b-463c-9653-3991be572650",
   "metadata": {},
   "outputs": [],
   "source": [
    "d4.patil"
   ]
  },
  {
   "cell_type": "code",
   "execution_count": null,
   "id": "3ff1d294-8356-4768-a890-d5d07f933fac",
   "metadata": {},
   "outputs": [],
   "source": [
    "d4.\"patil\""
   ]
  },
  {
   "cell_type": "code",
   "execution_count": null,
   "id": "e5156ddd-6d9b-42a1-9f04-4897cdd6971d",
   "metadata": {},
   "outputs": [],
   "source": [
    "d4"
   ]
  },
  {
   "cell_type": "code",
   "execution_count": null,
   "id": "2a208d38-05d3-4aec-936f-754674ecf440",
   "metadata": {},
   "outputs": [],
   "source": [
    "d3={234:\"shreya\",\"patil\":\"patil\",True:23456}"
   ]
  },
  {
   "cell_type": "code",
   "execution_count": null,
   "id": "fa67a351-366d-4b0e-b425-9936812b1d94",
   "metadata": {},
   "outputs": [],
   "source": [
    "d3"
   ]
  },
  {
   "cell_type": "code",
   "execution_count": null,
   "id": "da9d638a-1035-44cf-b73c-f42395f1c559",
   "metadata": {},
   "outputs": [],
   "source": [
    "d3.shreya"
   ]
  },
  {
   "cell_type": "code",
   "execution_count": null,
   "id": "5dca0fba-5f72-4806-9c58-c5574fca917c",
   "metadata": {},
   "outputs": [],
   "source": [
    "d3.\"shreya\""
   ]
  },
  {
   "cell_type": "code",
   "execution_count": null,
   "id": "928ac2df-a445-4a9a-abc9-8f6770a6fab2",
   "metadata": {},
   "outputs": [],
   "source": [
    "d3"
   ]
  },
  {
   "cell_type": "code",
   "execution_count": 1,
   "id": "2b983b10-5c57-49ce-b050-7d33c0e574c2",
   "metadata": {},
   "outputs": [],
   "source": [
    "d3={234:\"shreya\",\"patil\":\"patil\",True:23456}"
   ]
  },
  {
   "cell_type": "code",
   "execution_count": 2,
   "id": "141a4742-0467-4890-a873-e6646eb8a87c",
   "metadata": {},
   "outputs": [
    {
     "data": {
      "text/plain": [
       "{234: 'shreya', 'patil': 'patil', True: 23456}"
      ]
     },
     "execution_count": 2,
     "metadata": {},
     "output_type": "execute_result"
    }
   ],
   "source": [
    "d3"
   ]
  },
  {
   "cell_type": "code",
   "execution_count": 5,
   "id": "d5fdb61e-0673-431e-bab6-ed8cb2160d50",
   "metadata": {},
   "outputs": [
    {
     "data": {
      "text/plain": [
       "<function dict.values>"
      ]
     },
     "execution_count": 5,
     "metadata": {},
     "output_type": "execute_result"
    }
   ],
   "source": [
    "d3.values"
   ]
  },
  {
   "cell_type": "code",
   "execution_count": 6,
   "id": "4e07f9b8-c564-4b11-87c6-5554d2cee70b",
   "metadata": {},
   "outputs": [
    {
     "data": {
      "text/plain": [
       "<function dict.keys>"
      ]
     },
     "execution_count": 6,
     "metadata": {},
     "output_type": "execute_result"
    }
   ],
   "source": [
    "d3.keys"
   ]
  },
  {
   "cell_type": "code",
   "execution_count": 7,
   "id": "91f70790-9960-4f09-b4e4-6b88077bbb6f",
   "metadata": {},
   "outputs": [],
   "source": [
    "d5={\"company\":\"pwskills\",\"course\":[\"web\",\"data science\"]}"
   ]
  },
  {
   "cell_type": "code",
   "execution_count": 8,
   "id": "7d08e0ba-1a3c-4935-b20c-8fd6683f08f5",
   "metadata": {},
   "outputs": [
    {
     "data": {
      "text/plain": [
       "{'company': 'pwskills', 'course': ['web', 'data science']}"
      ]
     },
     "execution_count": 8,
     "metadata": {},
     "output_type": "execute_result"
    }
   ],
   "source": [
    "d5"
   ]
  },
  {
   "cell_type": "code",
   "execution_count": 12,
   "id": "dcbcd66c-853b-4288-aaab-2f754cf65705",
   "metadata": {},
   "outputs": [
    {
     "data": {
      "text/plain": [
       "'data science'"
      ]
     },
     "execution_count": 12,
     "metadata": {},
     "output_type": "execute_result"
    }
   ],
   "source": [
    "d5['course'][1]"
   ]
  },
  {
   "cell_type": "code",
   "execution_count": 13,
   "id": "b2b209da-896f-4dd5-880c-8f815ba3e03c",
   "metadata": {},
   "outputs": [],
   "source": [
    "d6={\"number\":[2,34,3,34,34],\"assignment\":(1,2,3,4,5,6)}"
   ]
  },
  {
   "cell_type": "code",
   "execution_count": 14,
   "id": "276e38d4-71ad-44cc-afd2-fa8a78568490",
   "metadata": {},
   "outputs": [
    {
     "data": {
      "text/plain": [
       "{'number': [2, 34, 3, 34, 34], 'assignment': (1, 2, 3, 4, 5, 6)}"
      ]
     },
     "execution_count": 14,
     "metadata": {},
     "output_type": "execute_result"
    }
   ],
   "source": [
    "d6"
   ]
  },
  {
   "cell_type": "code",
   "execution_count": 16,
   "id": "75cfacba-7509-4628-928b-8ea03bc0a89e",
   "metadata": {},
   "outputs": [
    {
     "data": {
      "text/plain": [
       "[2, 34, 3, 34, 34]"
      ]
     },
     "execution_count": 16,
     "metadata": {},
     "output_type": "execute_result"
    }
   ],
   "source": [
    "d6[\"number\"]"
   ]
  },
  {
   "cell_type": "code",
   "execution_count": 17,
   "id": "ccd7263b-f074-43fa-8a1c-a28b48ea83fa",
   "metadata": {},
   "outputs": [
    {
     "data": {
      "text/plain": [
       "dict_keys(['number', 'assignment'])"
      ]
     },
     "execution_count": 17,
     "metadata": {},
     "output_type": "execute_result"
    }
   ],
   "source": [
    "d6.keys()"
   ]
  },
  {
   "cell_type": "code",
   "execution_count": 18,
   "id": "6e7829e7-5659-43e7-a417-e2beb2b4a6ea",
   "metadata": {},
   "outputs": [
    {
     "data": {
      "text/plain": [
       "dict_values([[2, 34, 3, 34, 34], (1, 2, 3, 4, 5, 6)])"
      ]
     },
     "execution_count": 18,
     "metadata": {},
     "output_type": "execute_result"
    }
   ],
   "source": [
    "d6.values()"
   ]
  },
  {
   "cell_type": "code",
   "execution_count": 19,
   "id": "bd4dbcbf-eee2-44ca-9303-abeaf50fc3e2",
   "metadata": {},
   "outputs": [],
   "source": [
    "d6[\"mentor\"]=[\"shreya\",\"patil\"]"
   ]
  },
  {
   "cell_type": "code",
   "execution_count": 20,
   "id": "3de19d43-43d3-4d4e-8f99-c95eb73dc60b",
   "metadata": {},
   "outputs": [
    {
     "data": {
      "text/plain": [
       "{'number': [2, 34, 3, 34, 34],\n",
       " 'assignment': (1, 2, 3, 4, 5, 6),\n",
       " 'mentor': ['shreya', 'patil']}"
      ]
     },
     "execution_count": 20,
     "metadata": {},
     "output_type": "execute_result"
    }
   ],
   "source": [
    "d6"
   ]
  },
  {
   "cell_type": "code",
   "execution_count": 22,
   "id": "6ba14401-9c2f-498f-b893-18af08c5a916",
   "metadata": {},
   "outputs": [
    {
     "data": {
      "text/plain": [
       "[[2, 34, 3, 34, 34], (1, 2, 3, 4, 5, 6), ['shreya', 'patil']]"
      ]
     },
     "execution_count": 22,
     "metadata": {},
     "output_type": "execute_result"
    }
   ],
   "source": [
    "list(d6.values())"
   ]
  },
  {
   "cell_type": "code",
   "execution_count": 23,
   "id": "d6a54f95-2564-4c07-a56b-4f6a355563fc",
   "metadata": {},
   "outputs": [
    {
     "data": {
      "text/plain": [
       "[('number', [2, 34, 3, 34, 34]),\n",
       " ('assignment', (1, 2, 3, 4, 5, 6)),\n",
       " ('mentor', ['shreya', 'patil'])]"
      ]
     },
     "execution_count": 23,
     "metadata": {},
     "output_type": "execute_result"
    }
   ],
   "source": [
    "list(d6.items())"
   ]
  },
  {
   "cell_type": "code",
   "execution_count": 25,
   "id": "175dfa89-0edb-4f01-ad33-3833ea69ca9f",
   "metadata": {},
   "outputs": [
    {
     "data": {
      "text/plain": [
       "dict_items([('number', [2, 34, 3, 34, 34]), ('assignment', (1, 2, 3, 4, 5, 6)), ('mentor', ['shreya', 'patil'])])"
      ]
     },
     "execution_count": 25,
     "metadata": {},
     "output_type": "execute_result"
    }
   ],
   "source": [
    "d6.items()#stored as tuple"
   ]
  },
  {
   "cell_type": "code",
   "execution_count": 26,
   "id": "f4441a83-53f8-44a3-8e67-a8344b671848",
   "metadata": {},
   "outputs": [
    {
     "data": {
      "text/plain": [
       "(1, 2, 3, 4, 5, 6)"
      ]
     },
     "execution_count": 26,
     "metadata": {},
     "output_type": "execute_result"
    }
   ],
   "source": [
    "d6.pop(\"assignment\")"
   ]
  },
  {
   "cell_type": "code",
   "execution_count": 27,
   "id": "4f0bcaee-fdb3-4ef9-9755-f83a7cebbf45",
   "metadata": {},
   "outputs": [
    {
     "data": {
      "text/plain": [
       "{'number': [2, 34, 3, 34, 34], 'mentor': ['shreya', 'patil']}"
      ]
     },
     "execution_count": 27,
     "metadata": {},
     "output_type": "execute_result"
    }
   ],
   "source": [
    "d6"
   ]
  },
  {
   "cell_type": "code",
   "execution_count": 28,
   "id": "0ee7529e-370f-49c1-bb84-abda1b510bed",
   "metadata": {},
   "outputs": [
    {
     "ename": "TypeError",
     "evalue": "pop expected at least 1 argument, got 0",
     "output_type": "error",
     "traceback": [
      "\u001b[0;31m---------------------------------------------------------------------------\u001b[0m",
      "\u001b[0;31mTypeError\u001b[0m                                 Traceback (most recent call last)",
      "Cell \u001b[0;32mIn[28], line 1\u001b[0m\n\u001b[0;32m----> 1\u001b[0m \u001b[43md6\u001b[49m\u001b[38;5;241;43m.\u001b[39;49m\u001b[43mpop\u001b[49m\u001b[43m(\u001b[49m\u001b[43m)\u001b[49m\n",
      "\u001b[0;31mTypeError\u001b[0m: pop expected at least 1 argument, got 0"
     ]
    }
   ],
   "source": [
    "d6.pop()#as in list there will be last value\n",
    "#but in dictionary there in nothing first and last"
   ]
  },
  {
   "cell_type": "code",
   "execution_count": 29,
   "id": "7ca26217-4eac-4828-a553-bb2f2aa4cffb",
   "metadata": {},
   "outputs": [],
   "source": [
    "#dictionary is mutable"
   ]
  },
  {
   "cell_type": "code",
   "execution_count": 30,
   "id": "e99c0da7-a6e6-4cea-8652-518e197412cb",
   "metadata": {},
   "outputs": [],
   "source": [
    "#===>control statement"
   ]
  },
  {
   "cell_type": "code",
   "execution_count": 14,
   "id": "100ddbca-5a96-4bbf-8883-249c812bc191",
   "metadata": {},
   "outputs": [
    {
     "name": "stdin",
     "output_type": "stream",
     "text": [
      "enter your marks: 45\n"
     ]
    },
    {
     "name": "stdout",
     "output_type": "stream",
     "text": [
      "you will be part of B3 batch\n"
     ]
    }
   ],
   "source": [
    "marks=int(input(\"enter your marks:\"))#input function converts the input to string\n",
    "if marks>80 and marks==80:#typecasting from string to int\n",
    "    print(\"you will be part of A0 batch\")\n",
    "elif marks>60 and marks<80:\n",
    "    print(\"you will be part of B1 batch\")\n",
    "else:\n",
    "    print(\"you will be part of B3 batch\")"
   ]
  },
  {
   "cell_type": "code",
   "execution_count": 15,
   "id": "8e46adc7-6681-47fa-8f45-064204681d2d",
   "metadata": {},
   "outputs": [
    {
     "data": {
      "text/plain": [
       "int"
      ]
     },
     "execution_count": 15,
     "metadata": {},
     "output_type": "execute_result"
    }
   ],
   "source": [
    "type(marks)"
   ]
  },
  {
   "cell_type": "code",
   "execution_count": 19,
   "id": "c79e14dc-1d83-4155-acc6-b22694885869",
   "metadata": {},
   "outputs": [
    {
     "name": "stdin",
     "output_type": "stream",
     "text": [
      "enter the amount present with you 40000\n"
     ]
    },
    {
     "name": "stdout",
     "output_type": "stream",
     "text": [
      "i will not purchase\n",
      "this is too much\n"
     ]
    }
   ],
   "source": [
    "#shopping\n",
    "rupee=int(input(\"enter the amount present with you\"))\n",
    "if rupee>1000:\n",
    "    print(\"i will not purchase\")\n",
    "    if rupee>5000:\n",
    "        print(\"this is too much\")"
   ]
  },
  {
   "cell_type": "code",
   "execution_count": 21,
   "id": "92554eaf-d730-4465-9036-d6af7a1f6877",
   "metadata": {},
   "outputs": [],
   "source": [
    "l=[1,2,3,4,5,6,7,8,9]"
   ]
  },
  {
   "cell_type": "code",
   "execution_count": 26,
   "id": "1ce00229-b49b-42ba-8b79-18dd004ce5be",
   "metadata": {},
   "outputs": [
    {
     "ename": "SyntaxError",
     "evalue": "invalid syntax. Maybe you meant '==' or ':=' instead of '='? (121918612.py, line 1)",
     "output_type": "error",
     "traceback": [
      "\u001b[0;36m  Cell \u001b[0;32mIn[26], line 1\u001b[0;36m\u001b[0m\n\u001b[0;31m    for( i=0;i<len(l);i++):\u001b[0m\n\u001b[0m         ^\u001b[0m\n\u001b[0;31mSyntaxError\u001b[0m\u001b[0;31m:\u001b[0m invalid syntax. Maybe you meant '==' or ':=' instead of '='?\n"
     ]
    }
   ],
   "source": [
    "\n",
    "for(i=0;i<len(l);i++):\n",
    "    l[i]=l[i]+1\n",
    "print(\"the list after adding 1 is\")\n",
    "for( i=0;i<len(l);i++)\n",
    "    print(l[i])"
   ]
  },
  {
   "cell_type": "code",
   "execution_count": 28,
   "id": "b13bf693-1391-4f64-acdb-42d9a4f5f8d0",
   "metadata": {},
   "outputs": [
    {
     "ename": "SyntaxError",
     "evalue": "invalid syntax (1475196573.py, line 5)",
     "output_type": "error",
     "traceback": [
      "\u001b[0;36m  Cell \u001b[0;32mIn[28], line 5\u001b[0;36m\u001b[0m\n\u001b[0;31m    i=i++\u001b[0m\n\u001b[0m         ^\u001b[0m\n\u001b[0;31mSyntaxError\u001b[0m\u001b[0;31m:\u001b[0m invalid syntax\n"
     ]
    }
   ],
   "source": [
    "i=0\n",
    "if(i<len(l)):\n",
    "    l[i]=l[i]+1\n",
    "    print(l[i])\n",
    "    i++\n",
    "else:\n",
    "    print(\"invalid\")"
   ]
  },
  {
   "cell_type": "code",
   "execution_count": 32,
   "id": "abd65036-bafe-41b7-81ac-116070e77961",
   "metadata": {},
   "outputs": [
    {
     "name": "stdout",
     "output_type": "stream",
     "text": [
      "2\n",
      "3\n",
      "4\n",
      "5\n",
      "6\n",
      "7\n",
      "8\n",
      "9\n",
      "10\n"
     ]
    }
   ],
   "source": [
    "for i in l:#use for i in the list\n",
    "    print(i+1)"
   ]
  },
  {
   "cell_type": "code",
   "execution_count": 33,
   "id": "e352de64-061a-42e1-adc3-7b15a05ca175",
   "metadata": {},
   "outputs": [
    {
     "name": "stdout",
     "output_type": "stream",
     "text": [
      "[1, 2, 3, 4, 5, 6, 7, 8, 9]\n",
      "[1, 2, 3, 4, 5, 6, 7, 8, 9]\n",
      "[1, 2, 3, 4, 5, 6, 7, 8, 9]\n",
      "[1, 2, 3, 4, 5, 6, 7, 8, 9]\n",
      "[1, 2, 3, 4, 5, 6, 7, 8, 9]\n",
      "[1, 2, 3, 4, 5, 6, 7, 8, 9]\n",
      "[1, 2, 3, 4, 5, 6, 7, 8, 9]\n",
      "[1, 2, 3, 4, 5, 6, 7, 8, 9]\n",
      "[1, 2, 3, 4, 5, 6, 7, 8, 9]\n"
     ]
    }
   ],
   "source": [
    "for i in l:\n",
    "    print(l)"
   ]
  },
  {
   "cell_type": "code",
   "execution_count": 34,
   "id": "9a79b8e9-e1f7-4d30-a0bd-4622b5a72fc0",
   "metadata": {},
   "outputs": [],
   "source": [
    "l=[\"sudh\",\"kumar\",\"pwskills\",\"course\"]"
   ]
  },
  {
   "cell_type": "code",
   "execution_count": 47,
   "id": "04ea7ece-e104-4fc4-a5f5-6cfc42ff06ba",
   "metadata": {},
   "outputs": [
    {
     "name": "stdout",
     "output_type": "stream",
     "text": [
      "sudh\n",
      "kumar\n",
      "pwskills\n",
      "course\n",
      "<built-in method upper of str object at 0x7ff2f4204bb0>\n"
     ]
    },
    {
     "ename": "AttributeError",
     "evalue": "'builtin_function_or_method' object has no attribute 'upper'",
     "output_type": "error",
     "traceback": [
      "\u001b[0;31m---------------------------------------------------------------------------\u001b[0m",
      "\u001b[0;31mAttributeError\u001b[0m                            Traceback (most recent call last)",
      "Cell \u001b[0;32mIn[47], line 4\u001b[0m\n\u001b[1;32m      2\u001b[0m \u001b[38;5;28;01mfor\u001b[39;00m i \u001b[38;5;129;01min\u001b[39;00m l:\n\u001b[1;32m      3\u001b[0m     \u001b[38;5;28mprint\u001b[39m(i)\n\u001b[0;32m----> 4\u001b[0m     l1\u001b[38;5;241m.\u001b[39mappend(\u001b[43mi\u001b[49m\u001b[38;5;241;43m.\u001b[39;49m\u001b[43mupper\u001b[49m())\n",
      "\u001b[0;31mAttributeError\u001b[0m: 'builtin_function_or_method' object has no attribute 'upper'"
     ]
    }
   ],
   "source": [
    "l1=[]\n",
    "for i in l:\n",
    "    print(i)\n",
    "    l1.append(i.upper())#append at last"
   ]
  },
  {
   "cell_type": "code",
   "execution_count": 48,
   "id": "d6346269-c85f-44f7-969c-81b290648f33",
   "metadata": {},
   "outputs": [
    {
     "data": {
      "text/plain": [
       "['SUDH', 'KUMAR', 'PWSKILLS', 'COURSE']"
      ]
     },
     "execution_count": 48,
     "metadata": {},
     "output_type": "execute_result"
    }
   ],
   "source": [
    "l1"
   ]
  },
  {
   "cell_type": "code",
   "execution_count": 49,
   "id": "774f362d-14cd-4ecd-a19f-8f8b09adb9eb",
   "metadata": {},
   "outputs": [],
   "source": [
    "l=[1,2,3,4,4,\"shreya\",\"patil\",324,34,456,\"abc\"]"
   ]
  },
  {
   "cell_type": "code",
   "execution_count": 50,
   "id": "6cfdc78b-b0d6-45c0-b536-46f7b54ac571",
   "metadata": {},
   "outputs": [
    {
     "name": "stdout",
     "output_type": "stream",
     "text": [
      "1\n",
      "2\n",
      "3\n",
      "4\n",
      "4\n",
      "shreya\n",
      "patil\n",
      "324\n",
      "34\n",
      "456\n",
      "abc\n"
     ]
    }
   ],
   "source": [
    "l1=[]\n",
    "l2=[]\n",
    "for i in l:\n",
    "    if(type(i)==int):\n",
    "        print(i)\n",
    "        l1.append(i)\n",
    "    else:\n",
    "        print(i)\n",
    "        l2.append(i)"
   ]
  },
  {
   "cell_type": "code",
   "execution_count": 51,
   "id": "dc63bbba-220d-4fa3-9ed9-531a5d5928c5",
   "metadata": {},
   "outputs": [
    {
     "data": {
      "text/plain": [
       "[1, 2, 3, 4, 4, 324, 34, 456]"
      ]
     },
     "execution_count": 51,
     "metadata": {},
     "output_type": "execute_result"
    }
   ],
   "source": [
    "l1\n"
   ]
  },
  {
   "cell_type": "code",
   "execution_count": 52,
   "id": "31ced1c9-fa29-4691-b770-384d564f281a",
   "metadata": {},
   "outputs": [
    {
     "data": {
      "text/plain": [
       "['shreya', 'patil', 'abc']"
      ]
     },
     "execution_count": 52,
     "metadata": {},
     "output_type": "execute_result"
    }
   ],
   "source": [
    "l2"
   ]
  },
  {
   "cell_type": "code",
   "execution_count": null,
   "id": "39166330-d0f1-483b-b273-38619a9dd321",
   "metadata": {},
   "outputs": [],
   "source": []
  }
 ],
 "metadata": {
  "kernelspec": {
   "display_name": "Python 3 (ipykernel)",
   "language": "python",
   "name": "python3"
  },
  "language_info": {
   "codemirror_mode": {
    "name": "ipython",
    "version": 3
   },
   "file_extension": ".py",
   "mimetype": "text/x-python",
   "name": "python",
   "nbconvert_exporter": "python",
   "pygments_lexer": "ipython3",
   "version": "3.10.8"
  }
 },
 "nbformat": 4,
 "nbformat_minor": 5
}
