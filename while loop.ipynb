{
 "cells": [
  {
   "cell_type": "code",
   "execution_count": 2,
   "id": "f46cba4a-2451-4447-ad90-6a18c23345da",
   "metadata": {},
   "outputs": [
    {
     "name": "stdout",
     "output_type": "stream",
     "text": [
      "1\n",
      "3\n",
      "5\n",
      "7\n",
      "9\n"
     ]
    }
   ],
   "source": [
    "#first checks the comdition\n",
    "a=1\n",
    "while a<=10:\n",
    "    print(a)\n",
    "    a=a+2"
   ]
  },
  {
   "cell_type": "code",
   "execution_count": 13,
   "id": "b139ba43-ed65-41c5-b7c8-0c15fb43cbaf",
   "metadata": {},
   "outputs": [
    {
     "name": "stdin",
     "output_type": "stream",
     "text": [
      "enter the number till which u want 5\n"
     ]
    },
    {
     "name": "stdout",
     "output_type": "stream",
     "text": [
      "15\n"
     ]
    }
   ],
   "source": [
    "sum=0\n",
    "i=0\n",
    "n=int(input(\"enter the number till which u want\"))\n",
    "while i<=n:\n",
    "    sum=sum+i\n",
    "    i=i+1\n",
    "print(sum)"
   ]
  },
  {
   "cell_type": "code",
   "execution_count": null,
   "id": "9dd2f5a8-7511-496b-9b03-e1084387751b",
   "metadata": {},
   "outputs": [],
   "source": [
    "#factorial\n",
    "i=0;\n",
    "f=1\n",
    "n=int(input(\"enter the number\"))\n",
    "while n>0:\n",
    "    f=f*n\n",
    "    n=n+1\n",
    "print(f)"
   ]
  },
  {
   "cell_type": "code",
   "execution_count": 2,
   "id": "2775e407-b101-4d2f-baae-c64db05710e1",
   "metadata": {},
   "outputs": [
    {
     "name": "stdin",
     "output_type": "stream",
     "text": [
      "enter the number 5\n"
     ]
    },
    {
     "name": "stdout",
     "output_type": "stream",
     "text": [
      "the factorial is 120\n"
     ]
    }
   ],
   "source": [
    "#factorial\n",
    "i=0;\n",
    "f=1\n",
    "n=int(input(\"enter the number\"))\n",
    "while n>0:\n",
    "    f=f*n\n",
    "    n=n-1\n",
    "print(\"the factorial is\",f)"
   ]
  },
  {
   "cell_type": "code",
   "execution_count": 12,
   "id": "0984ddd7-f747-4f69-ad9d-6b5bf43b7a76",
   "metadata": {},
   "outputs": [
    {
     "ename": "TypeError",
     "evalue": "'module' object is not subscriptable",
     "output_type": "error",
     "traceback": [
      "\u001b[0;31m---------------------------------------------------------------------------\u001b[0m",
      "\u001b[0;31mTypeError\u001b[0m                                 Traceback (most recent call last)",
      "Cell \u001b[0;32mIn[12], line 3\u001b[0m\n\u001b[1;32m      1\u001b[0m \u001b[38;5;66;03m#fibonacci series\u001b[39;00m\n\u001b[1;32m      2\u001b[0m \u001b[38;5;28;01mimport\u001b[39;00m \u001b[38;5;21;01marray\u001b[39;00m\n\u001b[0;32m----> 3\u001b[0m f\u001b[38;5;241m=\u001b[39m\u001b[43marray\u001b[49m\u001b[43m[\u001b[49m\u001b[38;5;241;43m5\u001b[39;49m\u001b[43m]\u001b[49m\n\u001b[1;32m      4\u001b[0m i\u001b[38;5;241m=\u001b[39m\u001b[38;5;241m0\u001b[39m\n\u001b[1;32m      5\u001b[0m \u001b[38;5;28;01mwhile\u001b[39;00m i\u001b[38;5;241m>\u001b[39m\u001b[38;5;241m5\u001b[39m:\n",
      "\u001b[0;31mTypeError\u001b[0m: 'module' object is not subscriptable"
     ]
    }
   ],
   "source": [
    "#fibonacci series\n",
    "import array\n",
    "f=array[5]\n",
    "i=0\n",
    "while i>5:\n",
    "    f[i]=f[i-1]+f[i-2]\n",
    "for i in range(0,5):\n",
    "    print(f[i])"
   ]
  },
  {
   "cell_type": "code",
   "execution_count": 13,
   "id": "c0bb739e-0265-4526-a150-647d12042a09",
   "metadata": {},
   "outputs": [],
   "source": [
    "a=\"shreya\"\n"
   ]
  },
  {
   "cell_type": "code",
   "execution_count": 14,
   "id": "3b1d28de-5e10-4ca8-94eb-6791dff27523",
   "metadata": {},
   "outputs": [
    {
     "data": {
      "text/plain": [
       "'shreya'"
      ]
     },
     "execution_count": 14,
     "metadata": {},
     "output_type": "execute_result"
    }
   ],
   "source": [
    "a"
   ]
  },
  {
   "cell_type": "code",
   "execution_count": 15,
   "id": "fd51d950-82aa-42b9-9a81-cba4243580d6",
   "metadata": {},
   "outputs": [
    {
     "data": {
      "text/plain": [
       "'ayerhs'"
      ]
     },
     "execution_count": 15,
     "metadata": {},
     "output_type": "execute_result"
    }
   ],
   "source": [
    "a[::-1]"
   ]
  },
  {
   "cell_type": "code",
   "execution_count": 19,
   "id": "25dac826-38a1-46b7-bb13-e8f1ecac9a51",
   "metadata": {},
   "outputs": [
    {
     "name": "stdin",
     "output_type": "stream",
     "text": [
      "enter a word shreya\n"
     ]
    },
    {
     "name": "stdout",
     "output_type": "stream",
     "text": [
      "ayerhs\n"
     ]
    }
   ],
   "source": [
    "reverse=\"\"\n",
    "word=input(\"enter a word\")\n",
    "length=len(word)\n",
    "while length>0:\n",
    "    \n",
    "    reverse=reverse+word[length -1]\n",
    "    length=length-1\n",
    "print(reverse)"
   ]
  },
  {
   "cell_type": "code",
   "execution_count": null,
   "id": "84570c0c-89b7-47b7-bcc0-9a41c0a2abd3",
   "metadata": {},
   "outputs": [],
   "source": [
    "#print table of numbers\n",
    "for i in range(0,11,n):\n",
    "    print(i,\"*\""
   ]
  }
 ],
 "metadata": {
  "kernelspec": {
   "display_name": "Python 3 (ipykernel)",
   "language": "python",
   "name": "python3"
  },
  "language_info": {
   "codemirror_mode": {
    "name": "ipython",
    "version": 3
   },
   "file_extension": ".py",
   "mimetype": "text/x-python",
   "name": "python",
   "nbconvert_exporter": "python",
   "pygments_lexer": "ipython3",
   "version": "3.10.8"
  }
 },
 "nbformat": 4,
 "nbformat_minor": 5
}
