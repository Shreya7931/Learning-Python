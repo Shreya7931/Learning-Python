{
 "cells": [
  {
   "cell_type": "code",
   "execution_count": 1,
   "id": "fb17ad64-7fe7-49f6-98c0-e01b062d6819",
   "metadata": {},
   "outputs": [],
   "source": [
    "#LISTS\n",
    "#storage of variables of different datatype\n",
    "l=[1,345,356,678,\"shreya\",True,5+7j,7.908]"
   ]
  },
  {
   "cell_type": "code",
   "execution_count": 2,
   "id": "94117c85-6bac-4e3c-a9b5-d5ec45d8947a",
   "metadata": {},
   "outputs": [
    {
     "data": {
      "text/plain": [
       "[1, 345, 356, 678, 'shreya', True, (5+7j), 7.908]"
      ]
     },
     "execution_count": 2,
     "metadata": {},
     "output_type": "execute_result"
    }
   ],
   "source": [
    "l"
   ]
  },
  {
   "cell_type": "code",
   "execution_count": 3,
   "id": "a7f4304d-ad4c-45b1-b044-2999d73e3a86",
   "metadata": {},
   "outputs": [
    {
     "data": {
      "text/plain": [
       "list"
      ]
     },
     "execution_count": 3,
     "metadata": {},
     "output_type": "execute_result"
    }
   ],
   "source": [
    "type(l)"
   ]
  },
  {
   "cell_type": "code",
   "execution_count": 4,
   "id": "2a6ba195-966e-411d-ad49-e00d25c1b879",
   "metadata": {},
   "outputs": [
    {
     "data": {
      "text/plain": [
       "[345, 356, 678, 'shreya', True, (5+7j), 7.908]"
      ]
     },
     "execution_count": 4,
     "metadata": {},
     "output_type": "execute_result"
    }
   ],
   "source": [
    "l[1:]#removing 1"
   ]
  },
  {
   "cell_type": "code",
   "execution_count": 6,
   "id": "7ce5d1f1-77bc-406f-a6ac-8b57b0d02101",
   "metadata": {},
   "outputs": [],
   "source": [
    "#l[90] will give error as index is out of range"
   ]
  },
  {
   "cell_type": "code",
   "execution_count": 7,
   "id": "0b6f3695-d6f7-4fe8-8920-c76c9edcc6ba",
   "metadata": {},
   "outputs": [
    {
     "data": {
      "text/plain": [
       "[1, 345, 356]"
      ]
     },
     "execution_count": 7,
     "metadata": {},
     "output_type": "execute_result"
    }
   ],
   "source": [
    "l[0:3]"
   ]
  },
  {
   "cell_type": "code",
   "execution_count": 8,
   "id": "99917f99-12ff-411c-a9b9-2b88fccc60c2",
   "metadata": {},
   "outputs": [
    {
     "data": {
      "text/plain": [
       "7.908"
      ]
     },
     "execution_count": 8,
     "metadata": {},
     "output_type": "execute_result"
    }
   ],
   "source": [
    "l[-1]"
   ]
  },
  {
   "cell_type": "code",
   "execution_count": 9,
   "id": "540ab457-536b-4a6a-9983-23a9cef2d1fa",
   "metadata": {},
   "outputs": [
    {
     "data": {
      "text/plain": [
       "[7.908, (5+7j), True, 'shreya', 678, 356, 345, 1]"
      ]
     },
     "execution_count": 9,
     "metadata": {},
     "output_type": "execute_result"
    }
   ],
   "source": [
    "#reversing\n",
    "l[::-1]"
   ]
  },
  {
   "cell_type": "code",
   "execution_count": 10,
   "id": "be3948e3-2b22-427e-b29f-773b011391a9",
   "metadata": {},
   "outputs": [
    {
     "data": {
      "text/plain": [
       "[1, 356, 'shreya', (5+7j)]"
      ]
     },
     "execution_count": 10,
     "metadata": {},
     "output_type": "execute_result"
    }
   ],
   "source": [
    "l[::2]#even index elements"
   ]
  },
  {
   "cell_type": "code",
   "execution_count": 11,
   "id": "bf8985ee-d522-4cbe-8eef-c1535fb00754",
   "metadata": {},
   "outputs": [
    {
     "data": {
      "text/plain": [
       "[1, 345, 356, 678, 'shreya', True, (5+7j), 7.908]"
      ]
     },
     "execution_count": 11,
     "metadata": {},
     "output_type": "execute_result"
    }
   ],
   "source": [
    "l"
   ]
  },
  {
   "cell_type": "code",
   "execution_count": 12,
   "id": "63057e62-629a-4e02-851b-83a7ba7d2a05",
   "metadata": {},
   "outputs": [],
   "source": [
    "s=\"pwskills\""
   ]
  },
  {
   "cell_type": "code",
   "execution_count": 14,
   "id": "d2deae4c-4c0d-4216-bda6-bbd5b0cba1d6",
   "metadata": {},
   "outputs": [],
   "source": [
    "l1=[12,\"patil\",False,12.0]"
   ]
  },
  {
   "cell_type": "code",
   "execution_count": 15,
   "id": "3d3a7880-ac3c-4b42-9632-023825b08374",
   "metadata": {},
   "outputs": [
    {
     "data": {
      "text/plain": [
       "[1, 345, 356, 678, 'shreya', True, (5+7j), 7.908, 12, 'patil', False, 12.0]"
      ]
     },
     "execution_count": 15,
     "metadata": {},
     "output_type": "execute_result"
    }
   ],
   "source": [
    "l+l1"
   ]
  },
  {
   "cell_type": "code",
   "execution_count": 16,
   "id": "5586e120-8366-4dbb-be63-4262fa2f7f00",
   "metadata": {},
   "outputs": [
    {
     "data": {
      "text/plain": [
       "[12, 'patil', False, 12.0, 1, 345, 356, 678, 'shreya', True, (5+7j), 7.908]"
      ]
     },
     "execution_count": 16,
     "metadata": {},
     "output_type": "execute_result"
    }
   ],
   "source": [
    "l1+l"
   ]
  },
  {
   "cell_type": "code",
   "execution_count": 17,
   "id": "c87716ee-a3e1-4239-b78d-325a221a2600",
   "metadata": {},
   "outputs": [
    {
     "data": {
      "text/plain": [
       "['p', 'w', 's', 'k', 'i', 'l', 'l', 's']"
      ]
     },
     "execution_count": 17,
     "metadata": {},
     "output_type": "execute_result"
    }
   ],
   "source": [
    "list(s)#list as a function"
   ]
  },
  {
   "cell_type": "code",
   "execution_count": 19,
   "id": "3a92f5fb-4916-45df-b0a6-c462b8d748ff",
   "metadata": {},
   "outputs": [
    {
     "data": {
      "text/plain": [
       "['p',\n",
       " 'w',\n",
       " 's',\n",
       " 'k',\n",
       " 'i',\n",
       " 'l',\n",
       " 'l',\n",
       " 's',\n",
       " 1,\n",
       " 345,\n",
       " 356,\n",
       " 678,\n",
       " 'shreya',\n",
       " True,\n",
       " (5+7j),\n",
       " 7.908]"
      ]
     },
     "execution_count": 19,
     "metadata": {},
     "output_type": "execute_result"
    }
   ],
   "source": [
    "list(s)+l"
   ]
  },
  {
   "cell_type": "code",
   "execution_count": 20,
   "id": "19a675f0-db2b-431f-8bca-daa83f63fa39",
   "metadata": {},
   "outputs": [
    {
     "data": {
      "text/plain": [
       "[1, 345, 356, 678, 'shreya', True, (5+7j), 7.908]"
      ]
     },
     "execution_count": 20,
     "metadata": {},
     "output_type": "execute_result"
    }
   ],
   "source": [
    "#append and extend function\n",
    "l"
   ]
  },
  {
   "cell_type": "code",
   "execution_count": 21,
   "id": "e723ee51-fbc6-4935-964e-df796203eee1",
   "metadata": {},
   "outputs": [
    {
     "data": {
      "text/plain": [
       "[1, 345, 356, 678, 'shreya', True, (5+7j), 7.908]"
      ]
     },
     "execution_count": 21,
     "metadata": {},
     "output_type": "execute_result"
    }
   ],
   "source": [
    "l[0:5]+l[5:]"
   ]
  },
  {
   "cell_type": "code",
   "execution_count": 22,
   "id": "5d63aa61-2005-405a-bdff-f4d4715b4c6e",
   "metadata": {},
   "outputs": [
    {
     "data": {
      "text/plain": [
       "'shreya'"
      ]
     },
     "execution_count": 22,
     "metadata": {},
     "output_type": "execute_result"
    }
   ],
   "source": [
    "l[4]"
   ]
  },
  {
   "cell_type": "code",
   "execution_count": 24,
   "id": "93b4849c-44c3-4b80-b37d-58f999eb6e09",
   "metadata": {},
   "outputs": [
    {
     "data": {
      "text/plain": [
       "'shr'"
      ]
     },
     "execution_count": 24,
     "metadata": {},
     "output_type": "execute_result"
    }
   ],
   "source": [
    "l[4][0:3]#removing shr from shreya\n",
    "#shreya is present at 4th position"
   ]
  },
  {
   "cell_type": "code",
   "execution_count": 25,
   "id": "d18e300a-00b8-4727-9c3c-be793cdbbddc",
   "metadata": {},
   "outputs": [
    {
     "data": {
      "text/plain": [
       "'sh'"
      ]
     },
     "execution_count": 25,
     "metadata": {},
     "output_type": "execute_result"
    }
   ],
   "source": [
    "str(l[4])[0:2]"
   ]
  },
  {
   "cell_type": "code",
   "execution_count": 26,
   "id": "de52ea3e-1750-4dcc-87a9-b19b9b993437",
   "metadata": {},
   "outputs": [
    {
     "data": {
      "text/plain": [
       "[1, 345, 356, 678, 'shreya', True, (5+7j), 7.908]"
      ]
     },
     "execution_count": 26,
     "metadata": {},
     "output_type": "execute_result"
    }
   ],
   "source": [
    "l\n"
   ]
  },
  {
   "cell_type": "code",
   "execution_count": 29,
   "id": "58725dd0-d04a-4a82-867a-2ccc7bff1d42",
   "metadata": {},
   "outputs": [
    {
     "data": {
      "text/plain": [
       "[1, 345, 356, 678, 'shreya', True, (5+7j), 7.908, '5']"
      ]
     },
     "execution_count": 29,
     "metadata": {},
     "output_type": "execute_result"
    }
   ],
   "source": [
    "l+list(str(5))"
   ]
  },
  {
   "cell_type": "code",
   "execution_count": 30,
   "id": "92d3f7c1-ca2d-4117-a6ec-737081af0d28",
   "metadata": {},
   "outputs": [],
   "source": [
    "l2=[3,4,5]"
   ]
  },
  {
   "cell_type": "code",
   "execution_count": 31,
   "id": "139505f4-ce80-4659-9967-552f93387021",
   "metadata": {},
   "outputs": [
    {
     "data": {
      "text/plain": [
       "[1, 345, 356, 678, 'shreya', True, (5+7j), 7.908, 3, 4, 5]"
      ]
     },
     "execution_count": 31,
     "metadata": {},
     "output_type": "execute_result"
    }
   ],
   "source": [
    "l+l2"
   ]
  },
  {
   "cell_type": "code",
   "execution_count": 32,
   "id": "db7f00ac-7e8d-4a4a-bf33-3357e80e905c",
   "metadata": {},
   "outputs": [
    {
     "data": {
      "text/plain": [
       "[3, 4, 5]"
      ]
     },
     "execution_count": 32,
     "metadata": {},
     "output_type": "execute_result"
    }
   ],
   "source": [
    "l2"
   ]
  },
  {
   "cell_type": "code",
   "execution_count": 33,
   "id": "b4f82638-49cf-4747-8194-7af689db8c51",
   "metadata": {},
   "outputs": [
    {
     "data": {
      "text/plain": [
       "[3, 4, 5, 3, 4, 5, 3, 4, 5]"
      ]
     },
     "execution_count": 33,
     "metadata": {},
     "output_type": "execute_result"
    }
   ],
   "source": [
    "l2*3#multiplication is possible"
   ]
  },
  {
   "cell_type": "code",
   "execution_count": 34,
   "id": "30743191-c516-4715-b3e1-aee9ca815b9c",
   "metadata": {},
   "outputs": [
    {
     "data": {
      "text/plain": [
       "8"
      ]
     },
     "execution_count": 34,
     "metadata": {},
     "output_type": "execute_result"
    }
   ],
   "source": [
    "len(l)"
   ]
  },
  {
   "cell_type": "code",
   "execution_count": 35,
   "id": "73279a5d-fc72-4a22-aa43-98c39833ac25",
   "metadata": {},
   "outputs": [
    {
     "data": {
      "text/plain": [
       "3"
      ]
     },
     "execution_count": 35,
     "metadata": {},
     "output_type": "execute_result"
    }
   ],
   "source": [
    "len(l2)"
   ]
  },
  {
   "cell_type": "code",
   "execution_count": 36,
   "id": "1c36f870-d330-4843-9db0-13e0d937f882",
   "metadata": {},
   "outputs": [
    {
     "data": {
      "text/plain": [
       "[1, 345, 356, 678, 'shreya', True, (5+7j), 7.908]"
      ]
     },
     "execution_count": 36,
     "metadata": {},
     "output_type": "execute_result"
    }
   ],
   "source": [
    "l"
   ]
  },
  {
   "cell_type": "code",
   "execution_count": 37,
   "id": "9af35498-6249-461b-8816-61414e5eece6",
   "metadata": {},
   "outputs": [],
   "source": [
    "l.append(5)#append adds 5(integer)"
   ]
  },
  {
   "cell_type": "code",
   "execution_count": 38,
   "id": "d416da96-2364-4850-aa10-d53ac24c9aad",
   "metadata": {},
   "outputs": [
    {
     "data": {
      "text/plain": [
       "[1, 345, 356, 678, 'shreya', True, (5+7j), 7.908, 5]"
      ]
     },
     "execution_count": 38,
     "metadata": {},
     "output_type": "execute_result"
    }
   ],
   "source": [
    "l"
   ]
  },
  {
   "cell_type": "code",
   "execution_count": 39,
   "id": "0a167980-9ddc-45a8-9dc3-3f7c7ed8d7d3",
   "metadata": {},
   "outputs": [
    {
     "data": {
      "text/plain": [
       "5"
      ]
     },
     "execution_count": 39,
     "metadata": {},
     "output_type": "execute_result"
    }
   ],
   "source": [
    "l.pop()"
   ]
  },
  {
   "cell_type": "code",
   "execution_count": 40,
   "id": "1a05e151-920b-44a4-80cd-ea592db2d5b5",
   "metadata": {},
   "outputs": [
    {
     "data": {
      "text/plain": [
       "[1, 345, 356, 678, 'shreya', True, (5+7j), 7.908]"
      ]
     },
     "execution_count": 40,
     "metadata": {},
     "output_type": "execute_result"
    }
   ],
   "source": [
    "l"
   ]
  },
  {
   "cell_type": "code",
   "execution_count": 44,
   "id": "4e84ff53-1177-44f7-978c-25a7517b7c15",
   "metadata": {},
   "outputs": [],
   "source": [
    "l.insert(9,5)"
   ]
  },
  {
   "cell_type": "code",
   "execution_count": 45,
   "id": "5236ad21-4925-4248-a341-6eb480f59456",
   "metadata": {},
   "outputs": [
    {
     "data": {
      "text/plain": [
       "[1, 345, 356, 678, 'shreya', True, (5+7j), 7.908, 5, 5]"
      ]
     },
     "execution_count": 45,
     "metadata": {},
     "output_type": "execute_result"
    }
   ],
   "source": [
    "l"
   ]
  },
  {
   "cell_type": "code",
   "execution_count": 46,
   "id": "a7084d0f-e7b5-46ff-945c-49d092c7db8d",
   "metadata": {},
   "outputs": [],
   "source": [
    "l.append(s)"
   ]
  },
  {
   "cell_type": "code",
   "execution_count": 47,
   "id": "091b31da-33d6-4266-9c86-9c26d3c540b2",
   "metadata": {},
   "outputs": [
    {
     "data": {
      "text/plain": [
       "[1, 345, 356, 678, 'shreya', True, (5+7j), 7.908, 5, 5, 'pwskills']"
      ]
     },
     "execution_count": 47,
     "metadata": {},
     "output_type": "execute_result"
    }
   ],
   "source": [
    "l"
   ]
  },
  {
   "cell_type": "code",
   "execution_count": 48,
   "id": "60e6860a-9a66-499d-8480-7f6ca6b6427d",
   "metadata": {},
   "outputs": [],
   "source": [
    "l.append(l2)#nested list"
   ]
  },
  {
   "cell_type": "code",
   "execution_count": 49,
   "id": "ed125def-0931-43e1-852b-2b348a4978b7",
   "metadata": {},
   "outputs": [
    {
     "data": {
      "text/plain": [
       "[1, 345, 356, 678, 'shreya', True, (5+7j), 7.908, 5, 5, 'pwskills', [3, 4, 5]]"
      ]
     },
     "execution_count": 49,
     "metadata": {},
     "output_type": "execute_result"
    }
   ],
   "source": [
    "l"
   ]
  },
  {
   "cell_type": "code",
   "execution_count": 57,
   "id": "aa809875-479b-4813-b67b-0c1129b856d3",
   "metadata": {},
   "outputs": [
    {
     "data": {
      "text/plain": [
       "''"
      ]
     },
     "execution_count": 57,
     "metadata": {},
     "output_type": "execute_result"
    }
   ],
   "source": [
    "l[-1][1:2]#-1 for last"
   ]
  },
  {
   "cell_type": "code",
   "execution_count": 56,
   "id": "67532de3-5517-4d34-90ee-b4ffece73e51",
   "metadata": {},
   "outputs": [],
   "source": [
    "#extend:separating the characters and then adding to the list\n",
    "l.extend(\"shreya\")"
   ]
  },
  {
   "cell_type": "code",
   "execution_count": 55,
   "id": "cdcf1212-4bf0-414d-b28b-f596d3a2ff73",
   "metadata": {},
   "outputs": [
    {
     "data": {
      "text/plain": [
       "[1,\n",
       " 345,\n",
       " 356,\n",
       " 678,\n",
       " 'shreya',\n",
       " True,\n",
       " (5+7j),\n",
       " 7.908,\n",
       " 5,\n",
       " 5,\n",
       " 'pwskills',\n",
       " [3, 4, 5],\n",
       " 's',\n",
       " 'h',\n",
       " 'r',\n",
       " 'e',\n",
       " 'y',\n",
       " 'a']"
      ]
     },
     "execution_count": 55,
     "metadata": {},
     "output_type": "execute_result"
    }
   ],
   "source": [
    "l#pass iterable data(data inside data)"
   ]
  },
  {
   "cell_type": "code",
   "execution_count": 58,
   "id": "effbb11c-9c83-45df-8676-48f8eb62848d",
   "metadata": {},
   "outputs": [
    {
     "data": {
      "text/plain": [
       "[1,\n",
       " 345,\n",
       " 356,\n",
       " 678,\n",
       " 'shreya',\n",
       " True,\n",
       " (5+7j),\n",
       " 7.908,\n",
       " 5,\n",
       " 5,\n",
       " 'pwskills',\n",
       " [3, 4, 5],\n",
       " 's',\n",
       " 'h',\n",
       " 'r',\n",
       " 'e',\n",
       " 'y',\n",
       " 'a',\n",
       " 's',\n",
       " 'h',\n",
       " 'r',\n",
       " 'e',\n",
       " 'y',\n",
       " 'a']"
      ]
     },
     "execution_count": 58,
     "metadata": {},
     "output_type": "execute_result"
    }
   ],
   "source": [
    "#integers cannot be broken into indexes\n",
    "#extend for iterables only\n",
    "l"
   ]
  },
  {
   "cell_type": "code",
   "execution_count": 61,
   "id": "2c1c851c-8f5e-4172-9b34-945e43563073",
   "metadata": {},
   "outputs": [],
   "source": [
    "l.extend([3,4,5])#broke 3,4,5\n",
    "#while in append same list was appended"
   ]
  },
  {
   "cell_type": "code",
   "execution_count": 60,
   "id": "f7bce6ff-b5a3-4d5c-914c-4b06e719ec2d",
   "metadata": {},
   "outputs": [
    {
     "data": {
      "text/plain": [
       "[1,\n",
       " 345,\n",
       " 356,\n",
       " 678,\n",
       " 'shreya',\n",
       " True,\n",
       " (5+7j),\n",
       " 7.908,\n",
       " 5,\n",
       " 5,\n",
       " 'pwskills',\n",
       " [3, 4, 5],\n",
       " 's',\n",
       " 'h',\n",
       " 'r',\n",
       " 'e',\n",
       " 'y',\n",
       " 'a',\n",
       " 's',\n",
       " 'h',\n",
       " 'r',\n",
       " 'e',\n",
       " 'y',\n",
       " 'a',\n",
       " 3,\n",
       " 4,\n",
       " 5]"
      ]
     },
     "execution_count": 60,
     "metadata": {},
     "output_type": "execute_result"
    }
   ],
   "source": [
    "l"
   ]
  },
  {
   "cell_type": "code",
   "execution_count": 62,
   "id": "450b05ee-b3f7-4bd0-916b-bb7fa7a5f465",
   "metadata": {},
   "outputs": [
    {
     "data": {
      "text/plain": [
       "[3, 4, 5]"
      ]
     },
     "execution_count": 62,
     "metadata": {},
     "output_type": "execute_result"
    }
   ],
   "source": [
    "#duplication of data allowed in lists\n",
    "l2"
   ]
  },
  {
   "cell_type": "code",
   "execution_count": 64,
   "id": "26a80d51-2107-4871-bb66-2f026b52b35d",
   "metadata": {},
   "outputs": [],
   "source": [
    "l.append(\"hello world\")"
   ]
  },
  {
   "cell_type": "code",
   "execution_count": 65,
   "id": "12a67fed-18aa-48ca-9ddd-a6910fa5ce2d",
   "metadata": {},
   "outputs": [
    {
     "data": {
      "text/plain": [
       "[1,\n",
       " 345,\n",
       " 356,\n",
       " 678,\n",
       " 'shreya',\n",
       " True,\n",
       " (5+7j),\n",
       " 7.908,\n",
       " 5,\n",
       " 5,\n",
       " 'pwskills',\n",
       " [3, 4, 5],\n",
       " 's',\n",
       " 'h',\n",
       " 'r',\n",
       " 'e',\n",
       " 'y',\n",
       " 'a',\n",
       " 's',\n",
       " 'h',\n",
       " 'r',\n",
       " 'e',\n",
       " 'y',\n",
       " 'a',\n",
       " 3,\n",
       " 4,\n",
       " 5,\n",
       " 3,\n",
       " 4,\n",
       " 5,\n",
       " 'hello world']"
      ]
     },
     "execution_count": 65,
     "metadata": {},
     "output_type": "execute_result"
    }
   ],
   "source": [
    "l"
   ]
  },
  {
   "cell_type": "code",
   "execution_count": 66,
   "id": "44adb688-a419-497f-9c63-8edd764642bb",
   "metadata": {},
   "outputs": [],
   "source": [
    "l.insert(0,\"hello world\")#inserting object at a particular index"
   ]
  },
  {
   "cell_type": "code",
   "execution_count": 67,
   "id": "be9d6b02-ffe7-4467-b3e1-1eeaecfe36dc",
   "metadata": {},
   "outputs": [
    {
     "data": {
      "text/plain": [
       "['hello world',\n",
       " 1,\n",
       " 345,\n",
       " 356,\n",
       " 678,\n",
       " 'shreya',\n",
       " True,\n",
       " (5+7j),\n",
       " 7.908,\n",
       " 5,\n",
       " 5,\n",
       " 'pwskills',\n",
       " [3, 4, 5],\n",
       " 's',\n",
       " 'h',\n",
       " 'r',\n",
       " 'e',\n",
       " 'y',\n",
       " 'a',\n",
       " 's',\n",
       " 'h',\n",
       " 'r',\n",
       " 'e',\n",
       " 'y',\n",
       " 'a',\n",
       " 3,\n",
       " 4,\n",
       " 5,\n",
       " 3,\n",
       " 4,\n",
       " 5,\n",
       " 'hello world']"
      ]
     },
     "execution_count": 67,
     "metadata": {},
     "output_type": "execute_result"
    }
   ],
   "source": [
    "l"
   ]
  },
  {
   "cell_type": "code",
   "execution_count": 69,
   "id": "3d37063e-8fce-403e-ba71-c94f21ab4490",
   "metadata": {},
   "outputs": [],
   "source": [
    "l2.insert(-1,45)"
   ]
  },
  {
   "cell_type": "code",
   "execution_count": 70,
   "id": "e4ad76ba-7c7e-49a1-af05-c89cf87490c1",
   "metadata": {},
   "outputs": [
    {
     "data": {
      "text/plain": [
       "[3, 4, 45, 5]"
      ]
     },
     "execution_count": 70,
     "metadata": {},
     "output_type": "execute_result"
    }
   ],
   "source": [
    "l2"
   ]
  },
  {
   "cell_type": "code",
   "execution_count": 71,
   "id": "a5ae7d1c-692c-4355-ba6e-3127ba0f75f7",
   "metadata": {},
   "outputs": [
    {
     "data": {
      "text/plain": [
       "[3, 4, 45, 5]"
      ]
     },
     "execution_count": 71,
     "metadata": {},
     "output_type": "execute_result"
    }
   ],
   "source": [
    "l2\n"
   ]
  },
  {
   "cell_type": "code",
   "execution_count": 72,
   "id": "a22cdcfd-3932-404b-95da-52e9127af11b",
   "metadata": {},
   "outputs": [],
   "source": [
    "l2.remove(4)"
   ]
  },
  {
   "cell_type": "code",
   "execution_count": 73,
   "id": "606af00d-acde-49c3-8d47-3d8f3caeef16",
   "metadata": {},
   "outputs": [
    {
     "data": {
      "text/plain": [
       "[3, 45, 5]"
      ]
     },
     "execution_count": 73,
     "metadata": {},
     "output_type": "execute_result"
    }
   ],
   "source": [
    "l2"
   ]
  },
  {
   "cell_type": "code",
   "execution_count": 74,
   "id": "109e49e8-b2aa-4b79-9175-984e79607abf",
   "metadata": {},
   "outputs": [
    {
     "data": {
      "text/plain": [
       "45"
      ]
     },
     "execution_count": 74,
     "metadata": {},
     "output_type": "execute_result"
    }
   ],
   "source": [
    "l2.pop(1)"
   ]
  },
  {
   "cell_type": "code",
   "execution_count": 75,
   "id": "6102625c-ef7d-4c24-947a-ec9c4bcdcadc",
   "metadata": {},
   "outputs": [
    {
     "data": {
      "text/plain": [
       "[3, 5]"
      ]
     },
     "execution_count": 75,
     "metadata": {},
     "output_type": "execute_result"
    }
   ],
   "source": [
    "l2"
   ]
  },
  {
   "cell_type": "code",
   "execution_count": 76,
   "id": "244c52cf-a6dd-4d0f-8cac-c4419a89e6b5",
   "metadata": {},
   "outputs": [],
   "source": [
    "l2.clear()"
   ]
  },
  {
   "cell_type": "code",
   "execution_count": 77,
   "id": "f8ade07b-0629-446a-a347-7d7da8e44362",
   "metadata": {},
   "outputs": [
    {
     "data": {
      "text/plain": [
       "[]"
      ]
     },
     "execution_count": 77,
     "metadata": {},
     "output_type": "execute_result"
    }
   ],
   "source": [
    "l2"
   ]
  },
  {
   "cell_type": "code",
   "execution_count": 79,
   "id": "b11f16f7-8eb3-475e-b2b4-41b34b5d1fb1",
   "metadata": {},
   "outputs": [
    {
     "data": {
      "text/plain": [
       "345"
      ]
     },
     "execution_count": 79,
     "metadata": {},
     "output_type": "execute_result"
    }
   ],
   "source": [
    "l.pop(2)"
   ]
  },
  {
   "cell_type": "code",
   "execution_count": 80,
   "id": "71472a9a-6182-4755-9ee1-9ed8c5d3feac",
   "metadata": {},
   "outputs": [
    {
     "data": {
      "text/plain": [
       "['hello world',\n",
       " 1,\n",
       " 356,\n",
       " 678,\n",
       " 'shreya',\n",
       " True,\n",
       " (5+7j),\n",
       " 7.908,\n",
       " 5,\n",
       " 5,\n",
       " 'pwskills',\n",
       " [],\n",
       " 's',\n",
       " 'h',\n",
       " 'r',\n",
       " 'e',\n",
       " 'y',\n",
       " 'a',\n",
       " 's',\n",
       " 'h',\n",
       " 'r',\n",
       " 'e',\n",
       " 'y',\n",
       " 'a',\n",
       " 3,\n",
       " 4,\n",
       " 5,\n",
       " 3,\n",
       " 4,\n",
       " 5,\n",
       " 'hello world']"
      ]
     },
     "execution_count": 80,
     "metadata": {},
     "output_type": "execute_result"
    }
   ],
   "source": [
    "l"
   ]
  },
  {
   "cell_type": "code",
   "execution_count": 81,
   "id": "e61d6178-583d-456c-8081-308344cddb71",
   "metadata": {},
   "outputs": [
    {
     "data": {
      "text/plain": [
       "[12, 'patil', False, 12.0]"
      ]
     },
     "execution_count": 81,
     "metadata": {},
     "output_type": "execute_result"
    }
   ],
   "source": [
    "l1"
   ]
  },
  {
   "cell_type": "code",
   "execution_count": 82,
   "id": "71cddbfa-0e77-4841-a342-e4919e027c38",
   "metadata": {},
   "outputs": [
    {
     "data": {
      "text/plain": [
       "['s', 'h', 'r', 'e', 'y', 'a']"
      ]
     },
     "execution_count": 82,
     "metadata": {},
     "output_type": "execute_result"
    }
   ],
   "source": [
    "list(\"shreya\")"
   ]
  },
  {
   "cell_type": "code",
   "execution_count": 6,
   "id": "39cae3a1-9aad-464e-af80-d657fafcbf9c",
   "metadata": {},
   "outputs": [],
   "source": [
    "l=[1,2,45,\"shreya\",89.0]"
   ]
  },
  {
   "cell_type": "code",
   "execution_count": 7,
   "id": "3cbe78f0-1815-458d-bb70-ed2f7dea4f5c",
   "metadata": {},
   "outputs": [
    {
     "data": {
      "text/plain": [
       "[1, 2, 45, 'shreya', 89.0]"
      ]
     },
     "execution_count": 7,
     "metadata": {},
     "output_type": "execute_result"
    }
   ],
   "source": [
    "l"
   ]
  },
  {
   "cell_type": "code",
   "execution_count": 8,
   "id": "20b18525-a2b6-439f-ba13-ca0ac809ee9d",
   "metadata": {},
   "outputs": [],
   "source": [
    "l1=[\"shreya\",\"patil\"]"
   ]
  },
  {
   "cell_type": "code",
   "execution_count": 9,
   "id": "0dd4c273-dc30-45a0-8198-a3ed14b19e76",
   "metadata": {},
   "outputs": [
    {
     "data": {
      "text/plain": [
       "['shreya', 'patil']"
      ]
     },
     "execution_count": 9,
     "metadata": {},
     "output_type": "execute_result"
    }
   ],
   "source": [
    "l1"
   ]
  },
  {
   "cell_type": "code",
   "execution_count": 10,
   "id": "344bdf2c-89d0-4344-a592-46e6de3619df",
   "metadata": {},
   "outputs": [],
   "source": [
    "l.append([2,3,5])"
   ]
  },
  {
   "cell_type": "code",
   "execution_count": 11,
   "id": "a82bfdc7-a64a-4142-926f-10301db4e7b9",
   "metadata": {},
   "outputs": [
    {
     "data": {
      "text/plain": [
       "[1, 2, 45, 'shreya', 89.0, [2, 3, 5]]"
      ]
     },
     "execution_count": 11,
     "metadata": {},
     "output_type": "execute_result"
    }
   ],
   "source": [
    "l"
   ]
  },
  {
   "cell_type": "code",
   "execution_count": 15,
   "id": "2c64ea2d-2526-4b89-b655-60dc16efecec",
   "metadata": {},
   "outputs": [
    {
     "data": {
      "text/plain": [
       "['shreya', 'patil']"
      ]
     },
     "execution_count": 15,
     "metadata": {},
     "output_type": "execute_result"
    }
   ],
   "source": [
    "l1"
   ]
  },
  {
   "cell_type": "code",
   "execution_count": 16,
   "id": "1ff765ed-cb3e-44b0-a1f9-580862cba6c9",
   "metadata": {},
   "outputs": [
    {
     "data": {
      "text/plain": [
       "[1, 2, 45, 89.0, [2, 3, 5]]"
      ]
     },
     "execution_count": 16,
     "metadata": {},
     "output_type": "execute_result"
    }
   ],
   "source": [
    "l"
   ]
  },
  {
   "cell_type": "code",
   "execution_count": 20,
   "id": "a2cdca11-ab95-4930-bfa2-966043c08f7d",
   "metadata": {},
   "outputs": [
    {
     "data": {
      "text/plain": [
       "[2, 5]"
      ]
     },
     "execution_count": 20,
     "metadata": {},
     "output_type": "execute_result"
    }
   ],
   "source": [
    "l[4]#removing from the nested list"
   ]
  },
  {
   "cell_type": "code",
   "execution_count": 18,
   "id": "de19ce94-acc8-48ea-83fd-af606098d356",
   "metadata": {},
   "outputs": [],
   "source": [
    "l[4].remove(3)"
   ]
  },
  {
   "cell_type": "code",
   "execution_count": 19,
   "id": "c7b12451-205e-4812-931f-31eceb522411",
   "metadata": {},
   "outputs": [
    {
     "data": {
      "text/plain": [
       "[1, 2, 45, 89.0, [2, 5]]"
      ]
     },
     "execution_count": 19,
     "metadata": {},
     "output_type": "execute_result"
    }
   ],
   "source": [
    "l"
   ]
  },
  {
   "cell_type": "code",
   "execution_count": 22,
   "id": "efb63913-d6b5-4579-bb63-19285e6caa4f",
   "metadata": {},
   "outputs": [
    {
     "data": {
      "text/plain": [
       "['shreya', 'patil']"
      ]
     },
     "execution_count": 22,
     "metadata": {},
     "output_type": "execute_result"
    }
   ],
   "source": [
    "l1"
   ]
  },
  {
   "cell_type": "code",
   "execution_count": 23,
   "id": "cb37c86b-f208-40a9-89c0-d84e758b9ec9",
   "metadata": {},
   "outputs": [
    {
     "data": {
      "text/plain": [
       "'shreya'"
      ]
     },
     "execution_count": 23,
     "metadata": {},
     "output_type": "execute_result"
    }
   ],
   "source": [
    "l1[0]#string in immutable only from a list can be removed\n",
    "#list is muttable while string is immutable"
   ]
  },
  {
   "cell_type": "code",
   "execution_count": 26,
   "id": "5b32440d-7b55-447b-8c44-46efe1423c09",
   "metadata": {},
   "outputs": [
    {
     "data": {
      "text/plain": [
       "['shreya', 'patil']"
      ]
     },
     "execution_count": 26,
     "metadata": {},
     "output_type": "execute_result"
    }
   ],
   "source": [
    "l1"
   ]
  },
  {
   "cell_type": "code",
   "execution_count": 27,
   "id": "e70084d5-f263-451e-ac1e-a9bbea670d31",
   "metadata": {},
   "outputs": [],
   "source": [
    "l1.append(4)"
   ]
  },
  {
   "cell_type": "code",
   "execution_count": 28,
   "id": "0dec7583-0e5f-4cd1-9b6a-720b16e0c03f",
   "metadata": {},
   "outputs": [
    {
     "data": {
      "text/plain": [
       "['shreya', 'patil', 4]"
      ]
     },
     "execution_count": 28,
     "metadata": {},
     "output_type": "execute_result"
    }
   ],
   "source": [
    "l1"
   ]
  },
  {
   "cell_type": "code",
   "execution_count": 29,
   "id": "0425d652-e00b-4357-adfd-a2dbea054797",
   "metadata": {},
   "outputs": [
    {
     "data": {
      "text/plain": [
       "[1, 2, 45, 89.0, [2, 5]]"
      ]
     },
     "execution_count": 29,
     "metadata": {},
     "output_type": "execute_result"
    }
   ],
   "source": [
    "l"
   ]
  },
  {
   "cell_type": "code",
   "execution_count": 33,
   "id": "edca1c78-f722-4af5-bdfc-54c3de06df16",
   "metadata": {},
   "outputs": [],
   "source": [
    "l.remove(45)#removes the first occurence of the value"
   ]
  },
  {
   "cell_type": "code",
   "execution_count": 31,
   "id": "1ad9dd3b-8066-465f-8804-2c6caa3fc37c",
   "metadata": {},
   "outputs": [
    {
     "data": {
      "text/plain": [
       "[1, 45, 89.0, [2, 5]]"
      ]
     },
     "execution_count": 31,
     "metadata": {},
     "output_type": "execute_result"
    }
   ],
   "source": [
    "l"
   ]
  },
  {
   "cell_type": "code",
   "execution_count": 34,
   "id": "26180d46-b7ff-4b9c-8f09-f2d3ab85f522",
   "metadata": {},
   "outputs": [
    {
     "data": {
      "text/plain": [
       "[1, 89.0, [2, 5]]"
      ]
     },
     "execution_count": 34,
     "metadata": {},
     "output_type": "execute_result"
    }
   ],
   "source": [
    "l"
   ]
  },
  {
   "cell_type": "code",
   "execution_count": 35,
   "id": "c5e4590e-8967-4ce1-be06-4cbd67b15236",
   "metadata": {},
   "outputs": [
    {
     "data": {
      "text/plain": [
       "[[2, 5], 89.0, 1]"
      ]
     },
     "execution_count": 35,
     "metadata": {},
     "output_type": "execute_result"
    }
   ],
   "source": [
    "l[::-1]#temporary reverse"
   ]
  },
  {
   "cell_type": "code",
   "execution_count": 36,
   "id": "6b6b82ed-5e58-44f8-9c3b-ea1e6cde3df1",
   "metadata": {},
   "outputs": [],
   "source": [
    "l.reverse()#permanent reverse"
   ]
  },
  {
   "cell_type": "code",
   "execution_count": 37,
   "id": "0933eff1-c589-4834-b3cb-f6be050e63ce",
   "metadata": {},
   "outputs": [
    {
     "data": {
      "text/plain": [
       "[[2, 5], 89.0, 1]"
      ]
     },
     "execution_count": 37,
     "metadata": {},
     "output_type": "execute_result"
    }
   ],
   "source": [
    "l"
   ]
  },
  {
   "cell_type": "code",
   "execution_count": 38,
   "id": "23f9c6d5-9a24-4e85-826e-4914735bbe44",
   "metadata": {},
   "outputs": [
    {
     "ename": "TypeError",
     "evalue": "'<' not supported between instances of 'float' and 'list'",
     "output_type": "error",
     "traceback": [
      "\u001b[0;31m---------------------------------------------------------------------------\u001b[0m",
      "\u001b[0;31mTypeError\u001b[0m                                 Traceback (most recent call last)",
      "Cell \u001b[0;32mIn[38], line 1\u001b[0m\n\u001b[0;32m----> 1\u001b[0m \u001b[43ml\u001b[49m\u001b[38;5;241;43m.\u001b[39;49m\u001b[43msort\u001b[49m\u001b[43m(\u001b[49m\u001b[43m)\u001b[49m\n",
      "\u001b[0;31mTypeError\u001b[0m: '<' not supported between instances of 'float' and 'list'"
     ]
    }
   ],
   "source": [
    "l.sort()"
   ]
  },
  {
   "cell_type": "code",
   "execution_count": 39,
   "id": "a6a5a62b-9c42-4969-92c7-0f90ce7b2925",
   "metadata": {},
   "outputs": [],
   "source": [
    "l2=[45,33,90,0,89,3,4,5,6,7]"
   ]
  },
  {
   "cell_type": "code",
   "execution_count": 40,
   "id": "b2df1dd7-e0d5-4fb3-a8db-c1b0eefdead9",
   "metadata": {},
   "outputs": [
    {
     "data": {
      "text/plain": [
       "[45, 33, 90, 0, 89, 3, 4, 5, 6, 7]"
      ]
     },
     "execution_count": 40,
     "metadata": {},
     "output_type": "execute_result"
    }
   ],
   "source": [
    "l2"
   ]
  },
  {
   "cell_type": "code",
   "execution_count": 41,
   "id": "a4c24902-df3f-4286-aac3-2396ec47e366",
   "metadata": {},
   "outputs": [],
   "source": [
    "l2.sort()"
   ]
  },
  {
   "cell_type": "code",
   "execution_count": 42,
   "id": "4b075bed-09b9-4eb0-bbfe-9c91e6c4e0e6",
   "metadata": {},
   "outputs": [
    {
     "data": {
      "text/plain": [
       "[0, 3, 4, 5, 6, 7, 33, 45, 89, 90]"
      ]
     },
     "execution_count": 42,
     "metadata": {},
     "output_type": "execute_result"
    }
   ],
   "source": [
    "l2"
   ]
  },
  {
   "cell_type": "code",
   "execution_count": 43,
   "id": "ecb674cd-a552-4222-961e-6b30b9fcbfc7",
   "metadata": {},
   "outputs": [
    {
     "data": {
      "text/plain": [
       "['shreya', 'patil', 4]"
      ]
     },
     "execution_count": 43,
     "metadata": {},
     "output_type": "execute_result"
    }
   ],
   "source": [
    "l1"
   ]
  },
  {
   "cell_type": "code",
   "execution_count": 44,
   "id": "0f10506b-3307-455e-985d-fd06ff140678",
   "metadata": {},
   "outputs": [
    {
     "data": {
      "text/plain": [
       "[[2, 5], 89.0, 1]"
      ]
     },
     "execution_count": 44,
     "metadata": {},
     "output_type": "execute_result"
    }
   ],
   "source": [
    "l"
   ]
  },
  {
   "cell_type": "code",
   "execution_count": 45,
   "id": "28b1e9de-a8a2-488a-92f5-8243d9ed652f",
   "metadata": {},
   "outputs": [],
   "source": [
    "#comparision between the similar datatype then only it can sort\n",
    "l3=[34,\"shreya\",45,12,\"patil\"]"
   ]
  },
  {
   "cell_type": "code",
   "execution_count": 46,
   "id": "0f00db7c-b969-4f41-8fb9-11b9837e7c2c",
   "metadata": {},
   "outputs": [],
   "source": [
    "l4=[\"shreya\",\"patil\",\"pwskills\",\"data\"]"
   ]
  },
  {
   "cell_type": "code",
   "execution_count": 47,
   "id": "678a1f6c-d7da-4092-b70b-412d36113f4a",
   "metadata": {},
   "outputs": [],
   "source": [
    "l4.sort()"
   ]
  },
  {
   "cell_type": "code",
   "execution_count": 48,
   "id": "b839b6a5-b324-47d6-88c3-049a31cf221b",
   "metadata": {},
   "outputs": [
    {
     "data": {
      "text/plain": [
       "['data', 'patil', 'pwskills', 'shreya']"
      ]
     },
     "execution_count": 48,
     "metadata": {},
     "output_type": "execute_result"
    }
   ],
   "source": [
    "l4#ascending alphabetical order sort"
   ]
  },
  {
   "cell_type": "code",
   "execution_count": 49,
   "id": "f0ea7733-03c1-4115-b264-e433514f1221",
   "metadata": {},
   "outputs": [],
   "source": [
    "l4.sort(reverse=True)"
   ]
  },
  {
   "cell_type": "code",
   "execution_count": 50,
   "id": "a434905c-773c-436c-a0b0-79dd5438ddc0",
   "metadata": {},
   "outputs": [
    {
     "data": {
      "text/plain": [
       "['shreya', 'pwskills', 'patil', 'data']"
      ]
     },
     "execution_count": 50,
     "metadata": {},
     "output_type": "execute_result"
    }
   ],
   "source": [
    "l4"
   ]
  },
  {
   "cell_type": "code",
   "execution_count": 51,
   "id": "dee35b4f-3996-4d18-a9ea-9da969a1786f",
   "metadata": {},
   "outputs": [
    {
     "data": {
      "text/plain": [
       "0"
      ]
     },
     "execution_count": 51,
     "metadata": {},
     "output_type": "execute_result"
    }
   ],
   "source": [
    "l4.count(\"sh\")"
   ]
  },
  {
   "cell_type": "code",
   "execution_count": 52,
   "id": "d863f193-8f1b-45dc-a81d-9d43746f92bb",
   "metadata": {},
   "outputs": [
    {
     "data": {
      "text/plain": [
       "2"
      ]
     },
     "execution_count": 52,
     "metadata": {},
     "output_type": "execute_result"
    }
   ],
   "source": [
    "l4.index(\"patil\")"
   ]
  },
  {
   "cell_type": "code",
   "execution_count": 53,
   "id": "9a2598e5-4ca8-4e0f-abd2-21f09336ba42",
   "metadata": {},
   "outputs": [
    {
     "data": {
      "text/plain": [
       "1"
      ]
     },
     "execution_count": 53,
     "metadata": {},
     "output_type": "execute_result"
    }
   ],
   "source": [
    "l4.count(\"shreya\")"
   ]
  },
  {
   "cell_type": "code",
   "execution_count": 54,
   "id": "6184c1a0-7da8-4d91-a04d-126eefa149ee",
   "metadata": {},
   "outputs": [],
   "source": [
    "l4.append(\"this is shreya\")"
   ]
  },
  {
   "cell_type": "code",
   "execution_count": 55,
   "id": "4079cbf7-883e-4322-8575-8ae1d12b3634",
   "metadata": {},
   "outputs": [
    {
     "data": {
      "text/plain": [
       "['shreya', 'pwskills', 'patil', 'data', 'this is shreya']"
      ]
     },
     "execution_count": 55,
     "metadata": {},
     "output_type": "execute_result"
    }
   ],
   "source": [
    "l4"
   ]
  },
  {
   "cell_type": "code",
   "execution_count": 56,
   "id": "76b5c408-bd3e-49fc-b63c-e48fce33e913",
   "metadata": {},
   "outputs": [
    {
     "data": {
      "text/plain": [
       "0"
      ]
     },
     "execution_count": 56,
     "metadata": {},
     "output_type": "execute_result"
    }
   ],
   "source": [
    "l4.count(\"is\")"
   ]
  },
  {
   "cell_type": "code",
   "execution_count": 57,
   "id": "5dd0d599-b814-49f4-a145-0369d963cdc3",
   "metadata": {},
   "outputs": [],
   "source": [
    "s=\"shreya\""
   ]
  },
  {
   "cell_type": "code",
   "execution_count": 58,
   "id": "5ba743de-8625-4df3-ad62-3bf656dcb5b8",
   "metadata": {},
   "outputs": [],
   "source": [
    "l5=[3,4,5,6]"
   ]
  },
  {
   "cell_type": "code",
   "execution_count": 59,
   "id": "4ef771bf-a8ca-49f5-bea2-a2448bb505b3",
   "metadata": {},
   "outputs": [
    {
     "data": {
      "text/plain": [
       "'s'"
      ]
     },
     "execution_count": 59,
     "metadata": {},
     "output_type": "execute_result"
    }
   ],
   "source": [
    "s[0]"
   ]
  },
  {
   "cell_type": "code",
   "execution_count": 62,
   "id": "f41b6bc5-75e3-42a2-9e38-54502b5afb8e",
   "metadata": {},
   "outputs": [
    {
     "ename": "AttributeError",
     "evalue": "'str' object has no attribute 'insert'",
     "output_type": "error",
     "traceback": [
      "\u001b[0;31m---------------------------------------------------------------------------\u001b[0m",
      "\u001b[0;31mAttributeError\u001b[0m                            Traceback (most recent call last)",
      "Cell \u001b[0;32mIn[62], line 1\u001b[0m\n\u001b[0;32m----> 1\u001b[0m \u001b[43ms\u001b[49m\u001b[38;5;241;43m.\u001b[39;49m\u001b[43minsert\u001b[49m(\u001b[38;5;241m0\u001b[39m,\u001b[38;5;124m\"\u001b[39m\u001b[38;5;124ma\u001b[39m\u001b[38;5;124m\"\u001b[39m)\u001b[38;5;66;03m#string so cannot insert\u001b[39;00m\n\u001b[1;32m      2\u001b[0m \u001b[38;5;66;03m#can insert only in the list\u001b[39;00m\n",
      "\u001b[0;31mAttributeError\u001b[0m: 'str' object has no attribute 'insert'"
     ]
    }
   ],
   "source": [
    "s.insert(0,\"a\")#string so cannot insert\n",
    "#can insert only in the list"
   ]
  },
  {
   "cell_type": "code",
   "execution_count": 63,
   "id": "e3544db2-2e05-41e4-8dd9-a23ca7d2f974",
   "metadata": {},
   "outputs": [],
   "source": [
    "l5[0]=4"
   ]
  },
  {
   "cell_type": "code",
   "execution_count": 64,
   "id": "43a74eb4-27c8-438b-ab33-2c3eb5abad45",
   "metadata": {},
   "outputs": [
    {
     "data": {
      "text/plain": [
       "[4, 4, 5, 6]"
      ]
     },
     "execution_count": 64,
     "metadata": {},
     "output_type": "execute_result"
    }
   ],
   "source": [
    "l5"
   ]
  },
  {
   "cell_type": "code",
   "execution_count": 67,
   "id": "6fe65c36-93bb-4af5-87ef-672b9cf71291",
   "metadata": {},
   "outputs": [],
   "source": [
    "#mutability:cannot mutate a string if u can change the position of the element at a index\n",
    "#string is not mutable\n",
    "#list is mutable"
   ]
  },
  {
   "cell_type": "code",
   "execution_count": 68,
   "id": "cb79b013-ba0e-48c4-89e2-62349c61ea20",
   "metadata": {},
   "outputs": [
    {
     "data": {
      "text/plain": [
       "'ahreya'"
      ]
     },
     "execution_count": 68,
     "metadata": {},
     "output_type": "execute_result"
    }
   ],
   "source": [
    "s.replace('s','a')"
   ]
  },
  {
   "cell_type": "code",
   "execution_count": 69,
   "id": "3cfc4edd-0a92-447b-a063-e115bbee4380",
   "metadata": {},
   "outputs": [
    {
     "data": {
      "text/plain": [
       "'shreya'"
      ]
     },
     "execution_count": 69,
     "metadata": {},
     "output_type": "execute_result"
    }
   ],
   "source": [
    "s"
   ]
  },
  {
   "cell_type": "code",
   "execution_count": 70,
   "id": "46ff874b-144c-445d-940f-8e36c2de3af6",
   "metadata": {},
   "outputs": [],
   "source": [
    "#oriiginal s did not change"
   ]
  },
  {
   "cell_type": "code",
   "execution_count": 71,
   "id": "740d506e-bf6f-4911-8ec1-ae5a69394b49",
   "metadata": {},
   "outputs": [],
   "source": [
    "#===>TUPLES"
   ]
  },
  {
   "cell_type": "code",
   "execution_count": 72,
   "id": "e29150ca-4585-4807-886a-572fa457395d",
   "metadata": {},
   "outputs": [],
   "source": [
    "t=(2,3,4,5,\"shreya\",True,5+8j,45.78)"
   ]
  },
  {
   "cell_type": "code",
   "execution_count": 73,
   "id": "28ebbf43-451e-41e3-a458-cd87bf05d4f1",
   "metadata": {},
   "outputs": [
    {
     "data": {
      "text/plain": [
       "(2, 3, 4, 5, 'shreya', True, (5+8j), 45.78)"
      ]
     },
     "execution_count": 73,
     "metadata": {},
     "output_type": "execute_result"
    }
   ],
   "source": [
    "t"
   ]
  },
  {
   "cell_type": "code",
   "execution_count": 74,
   "id": "ca1fa4b6-b7df-4eed-aea3-83493d9837b0",
   "metadata": {},
   "outputs": [
    {
     "data": {
      "text/plain": [
       "tuple"
      ]
     },
     "execution_count": 74,
     "metadata": {},
     "output_type": "execute_result"
    }
   ],
   "source": [
    "type(t)"
   ]
  },
  {
   "cell_type": "code",
   "execution_count": 75,
   "id": "e7a7b715-d87c-4c2f-8325-74c44d71783a",
   "metadata": {},
   "outputs": [
    {
     "data": {
      "text/plain": [
       "8"
      ]
     },
     "execution_count": 75,
     "metadata": {},
     "output_type": "execute_result"
    }
   ],
   "source": [
    "len(t)"
   ]
  },
  {
   "cell_type": "code",
   "execution_count": 76,
   "id": "ff02670a-d182-4d43-b47b-2fb953a3beae",
   "metadata": {},
   "outputs": [
    {
     "data": {
      "text/plain": [
       "2"
      ]
     },
     "execution_count": 76,
     "metadata": {},
     "output_type": "execute_result"
    }
   ],
   "source": [
    "t[0]"
   ]
  },
  {
   "cell_type": "code",
   "execution_count": 77,
   "id": "e9059bb7-9ce4-4dad-982c-7c02ee12602f",
   "metadata": {},
   "outputs": [
    {
     "data": {
      "text/plain": [
       "(2, 4, 'shreya', (5+8j))"
      ]
     },
     "execution_count": 77,
     "metadata": {},
     "output_type": "execute_result"
    }
   ],
   "source": [
    "t[0::2]"
   ]
  },
  {
   "cell_type": "code",
   "execution_count": 78,
   "id": "8ef6fe70-8001-472b-8e77-779d79244520",
   "metadata": {},
   "outputs": [
    {
     "data": {
      "text/plain": [
       "45.78"
      ]
     },
     "execution_count": 78,
     "metadata": {},
     "output_type": "execute_result"
    }
   ],
   "source": [
    "t[-1]"
   ]
  },
  {
   "cell_type": "code",
   "execution_count": 79,
   "id": "d8f32282-3a07-4ed8-840f-997003fca1b5",
   "metadata": {},
   "outputs": [
    {
     "data": {
      "text/plain": [
       "(45.78, (5+8j), True, 'shreya', 5, 4, 3, 2)"
      ]
     },
     "execution_count": 79,
     "metadata": {},
     "output_type": "execute_result"
    }
   ],
   "source": [
    "t[::-1]"
   ]
  },
  {
   "cell_type": "code",
   "execution_count": 81,
   "id": "db97a27b-72ca-4c1a-aaf3-e6fe85edbc44",
   "metadata": {},
   "outputs": [
    {
     "data": {
      "text/plain": [
       "0"
      ]
     },
     "execution_count": 81,
     "metadata": {},
     "output_type": "execute_result"
    }
   ],
   "source": [
    "t.count(\"sh\")"
   ]
  },
  {
   "cell_type": "code",
   "execution_count": 82,
   "id": "66d3062e-c64c-4f1a-be2f-997f31c4bef3",
   "metadata": {},
   "outputs": [
    {
     "data": {
      "text/plain": [
       "4"
      ]
     },
     "execution_count": 82,
     "metadata": {},
     "output_type": "execute_result"
    }
   ],
   "source": [
    "t.index(\"shreya\")"
   ]
  },
  {
   "cell_type": "code",
   "execution_count": 83,
   "id": "e44fdf7e-27e9-450e-a998-3ead25857a27",
   "metadata": {},
   "outputs": [
    {
     "data": {
      "text/plain": [
       "[4, 4, 5, 6]"
      ]
     },
     "execution_count": 83,
     "metadata": {},
     "output_type": "execute_result"
    }
   ],
   "source": [
    "l5"
   ]
  },
  {
   "cell_type": "code",
   "execution_count": 84,
   "id": "72d167c6-4144-4ef9-83ee-aea88befd55d",
   "metadata": {},
   "outputs": [
    {
     "data": {
      "text/plain": [
       "['shreya', 'pwskills', 'patil', 'data', 'this is shreya']"
      ]
     },
     "execution_count": 84,
     "metadata": {},
     "output_type": "execute_result"
    }
   ],
   "source": [
    "l4"
   ]
  },
  {
   "cell_type": "code",
   "execution_count": 87,
   "id": "545c7743-4c22-44c2-90ac-a026028547df",
   "metadata": {},
   "outputs": [],
   "source": [
    "l4[0]=22345#replaced string by number"
   ]
  },
  {
   "cell_type": "code",
   "execution_count": 86,
   "id": "d4a5b741-3edd-4108-8cae-86e03df30adf",
   "metadata": {},
   "outputs": [
    {
     "data": {
      "text/plain": [
       "[22345, 'pwskills', 'patil', 'data', 'this is shreya']"
      ]
     },
     "execution_count": 86,
     "metadata": {},
     "output_type": "execute_result"
    }
   ],
   "source": [
    "l4"
   ]
  },
  {
   "cell_type": "code",
   "execution_count": 88,
   "id": "62fd9a5d-4169-44f5-8f26-2fc89c5aea28",
   "metadata": {},
   "outputs": [
    {
     "data": {
      "text/plain": [
       "(2, 3, 4, 5, 'shreya', True, (5+8j), 45.78)"
      ]
     },
     "execution_count": 88,
     "metadata": {},
     "output_type": "execute_result"
    }
   ],
   "source": [
    "t"
   ]
  },
  {
   "cell_type": "code",
   "execution_count": 90,
   "id": "986b644d-48e8-4281-8d51-8499b034bc98",
   "metadata": {},
   "outputs": [
    {
     "ename": "TypeError",
     "evalue": "'tuple' object does not support item assignment",
     "output_type": "error",
     "traceback": [
      "\u001b[0;31m---------------------------------------------------------------------------\u001b[0m",
      "\u001b[0;31mTypeError\u001b[0m                                 Traceback (most recent call last)",
      "Cell \u001b[0;32mIn[90], line 1\u001b[0m\n\u001b[0;32m----> 1\u001b[0m \u001b[43mt\u001b[49m\u001b[43m[\u001b[49m\u001b[38;5;241;43m0\u001b[39;49m\u001b[43m]\u001b[49m\u001b[38;5;241m=\u001b[39m\u001b[38;5;124m\"\u001b[39m\u001b[38;5;124mshreya\u001b[39m\u001b[38;5;124m\"\u001b[39m\u001b[38;5;66;03m#tuples are immutable\u001b[39;00m\n\u001b[1;32m      2\u001b[0m \u001b[38;5;66;03m#while lists are muttable\u001b[39;00m\n",
      "\u001b[0;31mTypeError\u001b[0m: 'tuple' object does not support item assignment"
     ]
    }
   ],
   "source": [
    "t[0]=\"shreya\"#tuples are immutable\n",
    "#while lists are muttable"
   ]
  },
  {
   "cell_type": "code",
   "execution_count": 91,
   "id": "8fde6cbb-7d1d-4625-960c-93b93b69f001",
   "metadata": {},
   "outputs": [],
   "source": [
    "#tuples are used where data should not be changed afterwards\n",
    "#example password"
   ]
  },
  {
   "cell_type": "code",
   "execution_count": 92,
   "id": "a11c99b5-9ab9-49d2-972c-b0c00977bc99",
   "metadata": {},
   "outputs": [
    {
     "data": {
      "text/plain": [
       "(45.78, (5+8j), True, 'shreya', 5, 4, 3, 2)"
      ]
     },
     "execution_count": 92,
     "metadata": {},
     "output_type": "execute_result"
    }
   ],
   "source": [
    "t[::-1]"
   ]
  },
  {
   "cell_type": "code",
   "execution_count": 95,
   "id": "353cbd8f-4ac7-4a75-a072-0ae4346172de",
   "metadata": {},
   "outputs": [
    {
     "ename": "AttributeError",
     "evalue": "'tuple' object has no attribute 'reverse'",
     "output_type": "error",
     "traceback": [
      "\u001b[0;31m---------------------------------------------------------------------------\u001b[0m",
      "\u001b[0;31mAttributeError\u001b[0m                            Traceback (most recent call last)",
      "Cell \u001b[0;32mIn[95], line 1\u001b[0m\n\u001b[0;32m----> 1\u001b[0m \u001b[43mt\u001b[49m\u001b[38;5;241;43m.\u001b[39;49m\u001b[43mreverse\u001b[49m()\u001b[38;5;66;03m#permanent change not possible\u001b[39;00m\n\u001b[1;32m      2\u001b[0m \u001b[38;5;66;03m#immutable\u001b[39;00m\n",
      "\u001b[0;31mAttributeError\u001b[0m: 'tuple' object has no attribute 'reverse'"
     ]
    }
   ],
   "source": [
    "t.reverse()#permanent change not possible\n",
    "#immutable"
   ]
  },
  {
   "cell_type": "code",
   "execution_count": 96,
   "id": "f4b903b3-1bfb-43b9-98ff-b67b4b22cadf",
   "metadata": {},
   "outputs": [],
   "source": [
    "#tuple has only count and index function"
   ]
  },
  {
   "cell_type": "code",
   "execution_count": 97,
   "id": "f4447d40-495b-4373-ad2a-6418140a0533",
   "metadata": {},
   "outputs": [
    {
     "data": {
      "text/plain": [
       "(2, 3, 4, 5, 'shreya', True, (5+8j), 45.78)"
      ]
     },
     "execution_count": 97,
     "metadata": {},
     "output_type": "execute_result"
    }
   ],
   "source": [
    "t\n"
   ]
  },
  {
   "cell_type": "code",
   "execution_count": 98,
   "id": "61ce9118-345b-4aab-aafb-c3477ea8e645",
   "metadata": {},
   "outputs": [
    {
     "data": {
      "text/plain": [
       "1"
      ]
     },
     "execution_count": 98,
     "metadata": {},
     "output_type": "execute_result"
    }
   ],
   "source": [
    "t.count(5)"
   ]
  },
  {
   "cell_type": "code",
   "execution_count": 99,
   "id": "2f03d13a-761c-43ea-8141-3b32b69cc380",
   "metadata": {},
   "outputs": [
    {
     "data": {
      "text/plain": [
       "4"
      ]
     },
     "execution_count": 99,
     "metadata": {},
     "output_type": "execute_result"
    }
   ],
   "source": [
    "t.index(\"shreya\")"
   ]
  },
  {
   "cell_type": "code",
   "execution_count": 100,
   "id": "1b045223-a33d-43f5-8260-774f4fa8f492",
   "metadata": {},
   "outputs": [],
   "source": [
    "#===>SETS\n",
    "s1={}"
   ]
  },
  {
   "cell_type": "code",
   "execution_count": 101,
   "id": "86320047-b9f2-4602-8ed4-588b88cc5d22",
   "metadata": {},
   "outputs": [
    {
     "data": {
      "text/plain": [
       "str"
      ]
     },
     "execution_count": 101,
     "metadata": {},
     "output_type": "execute_result"
    }
   ],
   "source": [
    "type(s)"
   ]
  },
  {
   "cell_type": "code",
   "execution_count": 102,
   "id": "6cd3b7dd-65ff-488f-85c8-817c5cd7efb2",
   "metadata": {},
   "outputs": [
    {
     "data": {
      "text/plain": [
       "str"
      ]
     },
     "execution_count": 102,
     "metadata": {},
     "output_type": "execute_result"
    }
   ],
   "source": [
    "type(s)"
   ]
  },
  {
   "cell_type": "code",
   "execution_count": 103,
   "id": "bb84d4bb-6acd-47fe-ae65-fcf7c5951b64",
   "metadata": {},
   "outputs": [
    {
     "data": {
      "text/plain": [
       "dict"
      ]
     },
     "execution_count": 103,
     "metadata": {},
     "output_type": "execute_result"
    }
   ],
   "source": [
    "type(s1)"
   ]
  },
  {
   "cell_type": "code",
   "execution_count": 104,
   "id": "a4b05741-c52d-451a-8849-9e027d5dcd90",
   "metadata": {},
   "outputs": [],
   "source": [
    "s2={}"
   ]
  },
  {
   "cell_type": "code",
   "execution_count": 105,
   "id": "511bdfb1-5b3f-4e5e-89b7-45b05b3088e8",
   "metadata": {},
   "outputs": [],
   "source": [
    "s2={2,3,4,55,6}"
   ]
  },
  {
   "cell_type": "code",
   "execution_count": 106,
   "id": "2286cf82-1ed9-4bdd-9628-3d5a7eadff6e",
   "metadata": {},
   "outputs": [
    {
     "data": {
      "text/plain": [
       "set"
      ]
     },
     "execution_count": 106,
     "metadata": {},
     "output_type": "execute_result"
    }
   ],
   "source": [
    "type(s2)"
   ]
  },
  {
   "cell_type": "code",
   "execution_count": 107,
   "id": "8ae41009-4a2e-41e3-a894-fc6120472d44",
   "metadata": {},
   "outputs": [],
   "source": [
    "#blank curly braces python thinks dictionary\n",
    "#but when numbers are inserted it considers as set"
   ]
  },
  {
   "cell_type": "code",
   "execution_count": 110,
   "id": "10d680ec-dd3f-4141-80ea-cf322c8d56a8",
   "metadata": {},
   "outputs": [],
   "source": [
    "s3={23,345,567,\"shreya\",4+5j}#cannot include a list as one of its element"
   ]
  },
  {
   "cell_type": "code",
   "execution_count": 111,
   "id": "c07bbc34-3e06-4684-aa33-4e08fa94e1b4",
   "metadata": {},
   "outputs": [
    {
     "data": {
      "text/plain": [
       "{(4+5j), 23, 345, 567, 'shreya'}"
      ]
     },
     "execution_count": 111,
     "metadata": {},
     "output_type": "execute_result"
    }
   ],
   "source": [
    "s3#accepts tuple"
   ]
  },
  {
   "cell_type": "code",
   "execution_count": 112,
   "id": "fcd0da59-2159-4729-b5f9-17b5f7d5f9f0",
   "metadata": {},
   "outputs": [],
   "source": [
    "s={2,3,4,5,6,6,7,8,8,1,2,3,4}"
   ]
  },
  {
   "cell_type": "code",
   "execution_count": 116,
   "id": "b05380b1-38b0-42e7-992a-f6e3f89f17e5",
   "metadata": {},
   "outputs": [
    {
     "data": {
      "text/plain": [
       "{1, 2, 3, 4, 5, 6, 7, 8}"
      ]
     },
     "execution_count": 116,
     "metadata": {},
     "output_type": "execute_result"
    }
   ],
   "source": [
    "s#will take the element only once\n",
    "#will take only unique element"
   ]
  },
  {
   "cell_type": "code",
   "execution_count": 117,
   "id": "a1795bb1-8d67-4a26-8633-29222fdc75ab",
   "metadata": {},
   "outputs": [
    {
     "data": {
      "text/plain": [
       "[1, 2, 3, 4, 5, 6, 7, 8]"
      ]
     },
     "execution_count": 117,
     "metadata": {},
     "output_type": "execute_result"
    }
   ],
   "source": [
    "list(s)"
   ]
  },
  {
   "cell_type": "code",
   "execution_count": 118,
   "id": "82ec2106-6af1-4124-bcda-9d455b19ca4f",
   "metadata": {},
   "outputs": [
    {
     "data": {
      "text/plain": [
       "{1, 2, 3, 4, 5, 6, 7, 8}"
      ]
     },
     "execution_count": 118,
     "metadata": {},
     "output_type": "execute_result"
    }
   ],
   "source": [
    "set(s)"
   ]
  },
  {
   "cell_type": "code",
   "execution_count": 121,
   "id": "b880aa01-c0b7-4f3e-9d94-bf0ecde278aa",
   "metadata": {},
   "outputs": [
    {
     "data": {
      "text/plain": [
       "{4, 5, 6}"
      ]
     },
     "execution_count": 121,
     "metadata": {},
     "output_type": "execute_result"
    }
   ],
   "source": [
    "set(l5)#used to remove duplicates and does not arrange the records in ascending order"
   ]
  },
  {
   "cell_type": "code",
   "execution_count": 123,
   "id": "49a39730-0925-4d37-813f-566a3147a32d",
   "metadata": {},
   "outputs": [],
   "source": [
    "s5={234,345,12,342,789,\"abc\",456,7,8,89}"
   ]
  },
  {
   "cell_type": "code",
   "execution_count": 124,
   "id": "32c7ec2b-49a1-4f3f-bc71-093f36bfa075",
   "metadata": {},
   "outputs": [
    {
     "data": {
      "text/plain": [
       "{12, 234, 342, 345, 456, 7, 789, 8, 89, 'abc'}"
      ]
     },
     "execution_count": 124,
     "metadata": {},
     "output_type": "execute_result"
    }
   ],
   "source": [
    "s5#set never arranges the data"
   ]
  },
  {
   "cell_type": "code",
   "execution_count": 126,
   "id": "eca19c80-44f2-4f2a-ac1a-c3df55cc36f7",
   "metadata": {},
   "outputs": [
    {
     "ename": "TypeError",
     "evalue": "'set' object is not subscriptable",
     "output_type": "error",
     "traceback": [
      "\u001b[0;31m---------------------------------------------------------------------------\u001b[0m",
      "\u001b[0;31mTypeError\u001b[0m                                 Traceback (most recent call last)",
      "Cell \u001b[0;32mIn[126], line 1\u001b[0m\n\u001b[0;32m----> 1\u001b[0m \u001b[43ms5\u001b[49m\u001b[43m[\u001b[49m\u001b[38;5;241;43m0\u001b[39;49m\u001b[43m]\u001b[49m\u001b[38;5;66;03m#cannot remove element\u001b[39;00m\n",
      "\u001b[0;31mTypeError\u001b[0m: 'set' object is not subscriptable"
     ]
    }
   ],
   "source": [
    "s5[0]#cannot remove element"
   ]
  },
  {
   "cell_type": "code",
   "execution_count": 127,
   "id": "67beecb7-0f91-42bf-bb18-d07f591719f4",
   "metadata": {},
   "outputs": [
    {
     "ename": "TypeError",
     "evalue": "'set' object is not subscriptable",
     "output_type": "error",
     "traceback": [
      "\u001b[0;31m---------------------------------------------------------------------------\u001b[0m",
      "\u001b[0;31mTypeError\u001b[0m                                 Traceback (most recent call last)",
      "Cell \u001b[0;32mIn[127], line 1\u001b[0m\n\u001b[0;32m----> 1\u001b[0m \u001b[43ms5\u001b[49m\u001b[43m[\u001b[49m\u001b[43m:\u001b[49m\u001b[43m:\u001b[49m\u001b[38;5;241;43m-\u001b[39;49m\u001b[38;5;241;43m1\u001b[39;49m\u001b[43m]\u001b[49m\n",
      "\u001b[0;31mTypeError\u001b[0m: 'set' object is not subscriptable"
     ]
    }
   ],
   "source": [
    "s5[::-1]"
   ]
  },
  {
   "cell_type": "code",
   "execution_count": 128,
   "id": "9aa80904-5bd2-4614-8aad-8fe4af76f210",
   "metadata": {},
   "outputs": [],
   "source": [
    "#slicing and removing is not available in sets"
   ]
  },
  {
   "cell_type": "code",
   "execution_count": 129,
   "id": "e5bcf08b-b567-45b0-9dc0-7d6718822748",
   "metadata": {},
   "outputs": [
    {
     "data": {
      "text/plain": [
       "{12, 234, 342, 345, 456, 7, 789, 8, 89, 'abc'}"
      ]
     },
     "execution_count": 129,
     "metadata": {},
     "output_type": "execute_result"
    }
   ],
   "source": [
    "s5.union(s1)"
   ]
  },
  {
   "cell_type": "code",
   "execution_count": 130,
   "id": "2a93e063-c1d2-4802-beb3-2d65520be818",
   "metadata": {},
   "outputs": [
    {
     "data": {
      "text/plain": [
       "set()"
      ]
     },
     "execution_count": 130,
     "metadata": {},
     "output_type": "execute_result"
    }
   ],
   "source": [
    "s5.intersection(s1)"
   ]
  },
  {
   "cell_type": "markdown",
   "id": "96f0beff-3dc6-4f1a-a03f-911e15383e4c",
   "metadata": {},
   "source": [
    "s5.add(4)"
   ]
  },
  {
   "cell_type": "code",
   "execution_count": 131,
   "id": "51322fb3-061e-4704-9298-78dce3433727",
   "metadata": {},
   "outputs": [
    {
     "data": {
      "text/plain": [
       "{12, 234, 342, 345, 456, 7, 789, 8, 89, 'abc'}"
      ]
     },
     "execution_count": 131,
     "metadata": {},
     "output_type": "execute_result"
    }
   ],
   "source": [
    "s5"
   ]
  },
  {
   "cell_type": "code",
   "execution_count": 132,
   "id": "c3c3c696-3302-4009-a7e9-855023a3f0bb",
   "metadata": {},
   "outputs": [],
   "source": [
    "s5.add(4)"
   ]
  },
  {
   "cell_type": "code",
   "execution_count": 133,
   "id": "da2c4ea4-6595-4084-b6a2-39db9d55dae1",
   "metadata": {},
   "outputs": [
    {
     "data": {
      "text/plain": [
       "{12, 234, 342, 345, 4, 456, 7, 789, 8, 89, 'abc'}"
      ]
     },
     "execution_count": 133,
     "metadata": {},
     "output_type": "execute_result"
    }
   ],
   "source": [
    "s5"
   ]
  },
  {
   "cell_type": "code",
   "execution_count": 134,
   "id": "c6040107-1b7b-483d-9856-9dde0e571c6c",
   "metadata": {},
   "outputs": [],
   "source": [
    "#set does not have indexing\n",
    "#it has hashing"
   ]
  },
  {
   "cell_type": "code",
   "execution_count": 135,
   "id": "37d47076-6775-481c-a6e6-6b9caf534eea",
   "metadata": {},
   "outputs": [],
   "source": [
    "#to maintain unique value generates different key(hashing)"
   ]
  },
  {
   "cell_type": "code",
   "execution_count": 136,
   "id": "aff4666c-f583-4d4e-bb44-266db6170b3e",
   "metadata": {},
   "outputs": [],
   "source": [
    "#append to insert at last in the list\n",
    "#sorting of same data type"
   ]
  },
  {
   "cell_type": "code",
   "execution_count": null,
   "id": "4ffc4bc8-7398-421d-9b58-13714172958d",
   "metadata": {},
   "outputs": [],
   "source": []
  }
 ],
 "metadata": {
  "kernelspec": {
   "display_name": "Python 3 (ipykernel)",
   "language": "python",
   "name": "python3"
  },
  "language_info": {
   "codemirror_mode": {
    "name": "ipython",
    "version": 3
   },
   "file_extension": ".py",
   "mimetype": "text/x-python",
   "name": "python",
   "nbconvert_exporter": "python",
   "pygments_lexer": "ipython3",
   "version": "3.10.8"
  }
 },
 "nbformat": 4,
 "nbformat_minor": 5
}
