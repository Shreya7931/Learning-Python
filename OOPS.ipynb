{
 "cells": [
  {
   "cell_type": "code",
   "execution_count": 3,
   "id": "fbac7e42-dae2-434f-b378-5bab0d93f5d9",
   "metadata": {},
   "outputs": [],
   "source": [
    "#OBJECT ORIENTED PROGRAMMING"
   ]
  },
  {
   "cell_type": "code",
   "execution_count": 4,
   "id": "460fc695-5f07-43a1-9a00-2bed5b7cacba",
   "metadata": {},
   "outputs": [],
   "source": [
    "a=1"
   ]
  },
  {
   "cell_type": "code",
   "execution_count": 5,
   "id": "367ab992-79de-4a03-b92e-0387ae81a46b",
   "metadata": {},
   "outputs": [
    {
     "name": "stdout",
     "output_type": "stream",
     "text": [
      "<class 'int'>\n"
     ]
    }
   ],
   "source": [
    "print(type(a))"
   ]
  },
  {
   "cell_type": "code",
   "execution_count": 6,
   "id": "fb4a600b-aaf3-4abb-93c9-db3932daaab7",
   "metadata": {},
   "outputs": [],
   "source": [
    "#class is classification"
   ]
  },
  {
   "cell_type": "code",
   "execution_count": 7,
   "id": "c0fa86a3-9872-4c28-8ac1-d6bff2f7ae96",
   "metadata": {},
   "outputs": [],
   "source": [
    "#object is a real world entity"
   ]
  },
  {
   "cell_type": "code",
   "execution_count": 8,
   "id": "b46d1779-2134-4070-a9bd-fd1f7ed457d4",
   "metadata": {},
   "outputs": [],
   "source": [
    "class test:\n",
    "    pass#blank class\n",
    "#class is used to make a class and write the modules/contributors in the class"
   ]
  },
  {
   "cell_type": "code",
   "execution_count": 9,
   "id": "7de3e37e-43dc-420e-a5d2-4d06367a7d6f",
   "metadata": {},
   "outputs": [],
   "source": [
    "a=test()"
   ]
  },
  {
   "cell_type": "code",
   "execution_count": 10,
   "id": "1b95a01e-4773-4804-bdbf-047f7a1b0e12",
   "metadata": {},
   "outputs": [
    {
     "data": {
      "text/plain": [
       "__main__.test"
      ]
     },
     "execution_count": 10,
     "metadata": {},
     "output_type": "execute_result"
    }
   ],
   "source": [
    "type(a)"
   ]
  },
  {
   "cell_type": "code",
   "execution_count": 11,
   "id": "cfde5641-4209-433c-97e6-3549884185d8",
   "metadata": {},
   "outputs": [
    {
     "name": "stdout",
     "output_type": "stream",
     "text": [
      "<class '__main__.test'>\n"
     ]
    }
   ],
   "source": [
    "print(type(a))#type is test class"
   ]
  },
  {
   "cell_type": "code",
   "execution_count": 16,
   "id": "df44f93b-0841-410b-9c4a-6afa4cf73395",
   "metadata": {},
   "outputs": [],
   "source": [
    "class pwskills:\n",
    "    def welcome_message(self):\n",
    "        print(\"welcome to pwskills\")"
   ]
  },
  {
   "cell_type": "code",
   "execution_count": 17,
   "id": "df9cc155-d00f-439b-a18e-5c9aa61c6f88",
   "metadata": {},
   "outputs": [],
   "source": [
    "rohan=pwskills()"
   ]
  },
  {
   "cell_type": "code",
   "execution_count": 18,
   "id": "4c09be25-8015-4b07-9d5b-d6e0f1b0c092",
   "metadata": {},
   "outputs": [
    {
     "name": "stdout",
     "output_type": "stream",
     "text": [
      "<class '__main__.pwskills'>\n"
     ]
    }
   ],
   "source": [
    "print(type(rohan))"
   ]
  },
  {
   "cell_type": "code",
   "execution_count": 19,
   "id": "342fed4e-8a94-47d5-a41b-e28857846298",
   "metadata": {},
   "outputs": [
    {
     "name": "stdout",
     "output_type": "stream",
     "text": [
      "welcome to pwskills\n"
     ]
    }
   ],
   "source": [
    "rohan.welcome_message()"
   ]
  },
  {
   "cell_type": "code",
   "execution_count": 20,
   "id": "28c8bba5-eb14-4961-be29-79c8a685d29a",
   "metadata": {},
   "outputs": [],
   "source": [
    "class pwskills1:\n",
    "    def __init__(self,phone_number,email_id,student_id):#constructor\n",
    "        self.phone_number=phone_number\n",
    "        self.email_id=email_id\n",
    "        self.student_id=student_id\n",
    "    def return_student_details(self):\n",
    "        return self.student_id,self.phone_number,self.email_id\n",
    "        "
   ]
  },
  {
   "cell_type": "code",
   "execution_count": 22,
   "id": "e2ae228d-8eeb-49a5-abd4-d86d33c973eb",
   "metadata": {},
   "outputs": [],
   "source": [
    "rohan=pwskills1(8618242537,\"shreyapatil@123\",1234)"
   ]
  },
  {
   "cell_type": "code",
   "execution_count": 24,
   "id": "e73cc69e-02b2-482b-8f1d-2e9fde39a3d4",
   "metadata": {},
   "outputs": [
    {
     "data": {
      "text/plain": [
       "(1234, 8618242537, 'shreyapatil@123')"
      ]
     },
     "execution_count": 24,
     "metadata": {},
     "output_type": "execute_result"
    }
   ],
   "source": [
    "rohan.return_student_details()"
   ]
  },
  {
   "cell_type": "code",
   "execution_count": 25,
   "id": "ea84a9e0-a761-4a31-ad15-1493be247ad3",
   "metadata": {},
   "outputs": [],
   "source": [
    "shreya=pwskills1(56473839,\"dfgr@\",3456)"
   ]
  },
  {
   "cell_type": "code",
   "execution_count": 26,
   "id": "f03a5312-15bb-4bd2-aff9-cf8aecc0f31e",
   "metadata": {},
   "outputs": [
    {
     "data": {
      "text/plain": [
       "(3456, 56473839, 'dfgr@')"
      ]
     },
     "execution_count": 26,
     "metadata": {},
     "output_type": "execute_result"
    }
   ],
   "source": [
    "shreya.return_student_details()"
   ]
  },
  {
   "cell_type": "code",
   "execution_count": 27,
   "id": "e0b33c13-c276-42f7-8c31-081f0b889ea5",
   "metadata": {},
   "outputs": [
    {
     "data": {
      "text/plain": [
       "56473839"
      ]
     },
     "execution_count": 27,
     "metadata": {},
     "output_type": "execute_result"
    }
   ],
   "source": [
    "shreya.phone_number\n",
    "    "
   ]
  },
  {
   "cell_type": "code",
   "execution_count": 28,
   "id": "14648eb6-cd54-438b-841b-0e1f5e7f65e4",
   "metadata": {},
   "outputs": [
    {
     "data": {
      "text/plain": [
       "8618242537"
      ]
     },
     "execution_count": 28,
     "metadata": {},
     "output_type": "execute_result"
    }
   ],
   "source": [
    "rohan.phone_number"
   ]
  },
  {
   "cell_type": "code",
   "execution_count": 29,
   "id": "123f26a5-3697-426a-891a-729672cd9ba8",
   "metadata": {},
   "outputs": [],
   "source": [
    "class pwskills2:\n",
    "    def __init__(self,phone_number,email_id,student_id):#constructor(__init__)\n",
    "        self.phone_number1=phone_number\n",
    "        self.email_id1=email_id\n",
    "        self.student_id1=student_id\n",
    "    def return_student_details(self):\n",
    "        return self.student_id1,self.phone_numbe1r,self.email_id1"
   ]
  },
  {
   "cell_type": "code",
   "execution_count": 30,
   "id": "34ee58f6-cc11-48c2-b050-91c9969b4ee8",
   "metadata": {},
   "outputs": [
    {
     "data": {
      "text/plain": [
       "(3456, 56473839, 'dfgr@')"
      ]
     },
     "execution_count": 30,
     "metadata": {},
     "output_type": "execute_result"
    }
   ],
   "source": [
    "shreya.return_student_details()"
   ]
  },
  {
   "cell_type": "code",
   "execution_count": 33,
   "id": "dbb0ba5d-6751-4935-ab6f-affbc69095f7",
   "metadata": {},
   "outputs": [
    {
     "data": {
      "text/plain": [
       "3456"
      ]
     },
     "execution_count": 33,
     "metadata": {},
     "output_type": "execute_result"
    }
   ],
   "source": [
    "shreya.student_id"
   ]
  },
  {
   "cell_type": "code",
   "execution_count": 34,
   "id": "642447c9-c7e7-446c-83e3-c08233997acf",
   "metadata": {},
   "outputs": [],
   "source": [
    "a=1\n",
    "b=2\n",
    "c=3\n",
    "#all three are different objects"
   ]
  },
  {
   "cell_type": "code",
   "execution_count": 35,
   "id": "e1903d02-daf4-450d-9ce2-c97411a4df18",
   "metadata": {},
   "outputs": [],
   "source": [
    "class pwskills2:\n",
    "    def __init__(shreya,phone_number,email_id,student_id):#constructor(__init__)\n",
    "        shreya.phone_number1=phone_number\n",
    "        shreya.email_id1=email_id\n",
    "        shreya.student_id1=student_id\n",
    "    def return_student_details(shreya):\n",
    "        return shreya.student_id1,shreya.phone_numbe1r,shreya.email_id1"
   ]
  },
  {
   "cell_type": "code",
   "execution_count": 41,
   "id": "74d9966d-19ab-4dac-9239-90f00b61e0fc",
   "metadata": {},
   "outputs": [],
   "source": [
    "rohans=pwskills2(8618242537,\"avd\",890)"
   ]
  },
  {
   "cell_type": "code",
   "execution_count": 42,
   "id": "5989ba8e-ccc0-44f0-adc0-e00b465c5823",
   "metadata": {},
   "outputs": [
    {
     "data": {
      "text/plain": [
       "'avd'"
      ]
     },
     "execution_count": 42,
     "metadata": {},
     "output_type": "execute_result"
    }
   ],
   "source": [
    "rohans.email_id1"
   ]
  },
  {
   "cell_type": "code",
   "execution_count": 43,
   "id": "d2f614fe-bea2-4bc8-a880-c1847af0c19f",
   "metadata": {},
   "outputs": [
    {
     "ename": "AttributeError",
     "evalue": "'pwskills1' object has no attribute 'student_id1'",
     "output_type": "error",
     "traceback": [
      "\u001b[0;31m---------------------------------------------------------------------------\u001b[0m",
      "\u001b[0;31mAttributeError\u001b[0m                            Traceback (most recent call last)",
      "Cell \u001b[0;32mIn[43], line 1\u001b[0m\n\u001b[0;32m----> 1\u001b[0m \u001b[43mrohans\u001b[49m\u001b[38;5;241;43m.\u001b[39;49m\u001b[43mreturn_student_details\u001b[49m\u001b[43m(\u001b[49m\u001b[43m)\u001b[49m\n",
      "Cell \u001b[0;32mIn[35], line 7\u001b[0m, in \u001b[0;36mpwskills2.return_student_details\u001b[0;34m(self)\u001b[0m\n\u001b[1;32m      6\u001b[0m \u001b[38;5;28;01mdef\u001b[39;00m \u001b[38;5;21mreturn_student_details\u001b[39m(\u001b[38;5;28mself\u001b[39m):\n\u001b[0;32m----> 7\u001b[0m     \u001b[38;5;28;01mreturn\u001b[39;00m \u001b[43mshreya\u001b[49m\u001b[38;5;241;43m.\u001b[39;49m\u001b[43mstudent_id1\u001b[49m,shreya\u001b[38;5;241m.\u001b[39mphone_numbe1r,shreya\u001b[38;5;241m.\u001b[39memail_id1\n",
      "\u001b[0;31mAttributeError\u001b[0m: 'pwskills1' object has no attribute 'student_id1'"
     ]
    }
   ],
   "source": [
    "rohans.return_student_details()"
   ]
  },
  {
   "cell_type": "code",
   "execution_count": null,
   "id": "751c3e81-d339-4ddd-ab06-eb642ddd233c",
   "metadata": {},
   "outputs": [],
   "source": []
  }
 ],
 "metadata": {
  "kernelspec": {
   "display_name": "Python 3 (ipykernel)",
   "language": "python",
   "name": "python3"
  },
  "language_info": {
   "codemirror_mode": {
    "name": "ipython",
    "version": 3
   },
   "file_extension": ".py",
   "mimetype": "text/x-python",
   "name": "python",
   "nbconvert_exporter": "python",
   "pygments_lexer": "ipython3",
   "version": "3.10.8"
  }
 },
 "nbformat": 4,
 "nbformat_minor": 5
}
