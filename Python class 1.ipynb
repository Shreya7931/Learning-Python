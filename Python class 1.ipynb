{
 "cells": [
  {
   "cell_type": "code",
   "execution_count": 1,
   "id": "272c8a8b-fdf2-41ea-ade8-90925dff959c",
   "metadata": {},
   "outputs": [
    {
     "data": {
      "text/plain": [
       "4"
      ]
     },
     "execution_count": 1,
     "metadata": {},
     "output_type": "execute_result"
    }
   ],
   "source": [
    "2+2"
   ]
  },
  {
   "cell_type": "code",
   "execution_count": 2,
   "id": "03ce49b2-b065-40b2-b684-3bdb6708cd9f",
   "metadata": {},
   "outputs": [
    {
     "data": {
      "text/plain": [
       "10"
      ]
     },
     "execution_count": 2,
     "metadata": {},
     "output_type": "execute_result"
    }
   ],
   "source": [
    "5+5"
   ]
  },
  {
   "cell_type": "code",
   "execution_count": 3,
   "id": "fb1cc9fc-3653-4993-8416-640076141c59",
   "metadata": {},
   "outputs": [
    {
     "data": {
      "text/plain": [
       "20"
      ]
     },
     "execution_count": 3,
     "metadata": {},
     "output_type": "execute_result"
    }
   ],
   "source": [
    "4*5"
   ]
  },
  {
   "cell_type": "code",
   "execution_count": 4,
   "id": "46d319c9-6908-47d0-8b75-4b038ceddcb2",
   "metadata": {},
   "outputs": [],
   "source": [
    "a=10"
   ]
  },
  {
   "cell_type": "code",
   "execution_count": 5,
   "id": "6eb2d6d7-5f48-471b-a111-15678d930ebb",
   "metadata": {},
   "outputs": [
    {
     "data": {
      "text/plain": [
       "10"
      ]
     },
     "execution_count": 5,
     "metadata": {},
     "output_type": "execute_result"
    }
   ],
   "source": [
    "a"
   ]
  },
  {
   "cell_type": "code",
   "execution_count": 6,
   "id": "6476680e-2910-4607-b8d9-d8292ebb6384",
   "metadata": {},
   "outputs": [],
   "source": [
    "shreya=20"
   ]
  },
  {
   "cell_type": "code",
   "execution_count": 7,
   "id": "d8933949-8283-4fe1-94ec-e666241ef26f",
   "metadata": {},
   "outputs": [
    {
     "data": {
      "text/plain": [
       "30"
      ]
     },
     "execution_count": 7,
     "metadata": {},
     "output_type": "execute_result"
    }
   ],
   "source": [
    "shreya+a"
   ]
  },
  {
   "cell_type": "code",
   "execution_count": 8,
   "id": "fe41acef-3a81-4110-8139-fa53a836607c",
   "metadata": {},
   "outputs": [],
   "source": [
    "a=a+10"
   ]
  },
  {
   "cell_type": "code",
   "execution_count": 9,
   "id": "5773032b-d223-48f4-8874-c6e6a29b9bec",
   "metadata": {},
   "outputs": [
    {
     "data": {
      "text/plain": [
       "20"
      ]
     },
     "execution_count": 9,
     "metadata": {},
     "output_type": "execute_result"
    }
   ],
   "source": [
    "a"
   ]
  },
  {
   "cell_type": "code",
   "execution_count": 10,
   "id": "0c38ce0a-823b-42bc-99e7-fd5a2148c5c3",
   "metadata": {},
   "outputs": [
    {
     "data": {
      "text/plain": [
       "int"
      ]
     },
     "execution_count": 10,
     "metadata": {},
     "output_type": "execute_result"
    }
   ],
   "source": [
    "type(a)"
   ]
  },
  {
   "cell_type": "code",
   "execution_count": 11,
   "id": "3bdf2b86-dfa5-4144-8a73-94e8260748a4",
   "metadata": {},
   "outputs": [],
   "source": [
    "b=shreya"
   ]
  },
  {
   "cell_type": "code",
   "execution_count": 12,
   "id": "e5516941-b99b-4e03-9e25-020bf4be0b7d",
   "metadata": {},
   "outputs": [
    {
     "data": {
      "text/plain": [
       "int"
      ]
     },
     "execution_count": 12,
     "metadata": {},
     "output_type": "execute_result"
    }
   ],
   "source": [
    "type(b)\n"
   ]
  },
  {
   "cell_type": "code",
   "execution_count": 13,
   "id": "151701b6-72c3-4909-a723-85ccc8f54a17",
   "metadata": {},
   "outputs": [],
   "source": [
    "b=\"shreya\""
   ]
  },
  {
   "cell_type": "code",
   "execution_count": 14,
   "id": "73060511-eb73-4f84-9e6f-b4a94dc9aa54",
   "metadata": {},
   "outputs": [
    {
     "data": {
      "text/plain": [
       "str"
      ]
     },
     "execution_count": 14,
     "metadata": {},
     "output_type": "execute_result"
    }
   ],
   "source": [
    "type(b)"
   ]
  },
  {
   "cell_type": "code",
   "execution_count": 15,
   "id": "6d744c88-14ae-4540-bc90-8935d06b78e5",
   "metadata": {},
   "outputs": [],
   "source": [
    "c='a'"
   ]
  },
  {
   "cell_type": "code",
   "execution_count": 16,
   "id": "62617c1a-3306-4ce2-a3a6-229b1c29c132",
   "metadata": {},
   "outputs": [
    {
     "data": {
      "text/plain": [
       "str"
      ]
     },
     "execution_count": 16,
     "metadata": {},
     "output_type": "execute_result"
    }
   ],
   "source": [
    "type(c)"
   ]
  },
  {
   "cell_type": "code",
   "execution_count": 17,
   "id": "ebaeee65-fc95-4b63-866c-a6ed86b1815e",
   "metadata": {},
   "outputs": [],
   "source": [
    "d=a"
   ]
  },
  {
   "cell_type": "code",
   "execution_count": 18,
   "id": "3b9c53ac-7b38-4706-a9cd-bcef3d2871c9",
   "metadata": {},
   "outputs": [
    {
     "data": {
      "text/plain": [
       "int"
      ]
     },
     "execution_count": 18,
     "metadata": {},
     "output_type": "execute_result"
    }
   ],
   "source": [
    "type(d)"
   ]
  },
  {
   "cell_type": "code",
   "execution_count": 19,
   "id": "4c8fe39e-7b85-454c-a775-ade440262ee3",
   "metadata": {},
   "outputs": [],
   "source": [
    "d=\"a\""
   ]
  },
  {
   "cell_type": "code",
   "execution_count": 20,
   "id": "e6d8a192-a6e8-47ad-8401-7fa96aae5013",
   "metadata": {},
   "outputs": [
    {
     "data": {
      "text/plain": [
       "str"
      ]
     },
     "execution_count": 20,
     "metadata": {},
     "output_type": "execute_result"
    }
   ],
   "source": [
    "type(d)"
   ]
  },
  {
   "cell_type": "code",
   "execution_count": 25,
   "id": "42c06499-1a31-41ff-bc13-d8d72dc60ada",
   "metadata": {},
   "outputs": [],
   "source": [
    "b=True"
   ]
  },
  {
   "cell_type": "code",
   "execution_count": 22,
   "id": "0c11a708-7b23-458f-88ba-f1c7f858ade4",
   "metadata": {},
   "outputs": [
    {
     "data": {
      "text/plain": [
       "str"
      ]
     },
     "execution_count": 22,
     "metadata": {},
     "output_type": "execute_result"
    }
   ],
   "source": [
    "type(b)"
   ]
  },
  {
   "cell_type": "code",
   "execution_count": 23,
   "id": "a3000e87-223f-4c9a-8221-b260344fc0f1",
   "metadata": {},
   "outputs": [],
   "source": [
    "b=True"
   ]
  },
  {
   "cell_type": "code",
   "execution_count": 24,
   "id": "700c7931-6465-47b5-b671-b830607ff170",
   "metadata": {},
   "outputs": [
    {
     "data": {
      "text/plain": [
       "bool"
      ]
     },
     "execution_count": 24,
     "metadata": {},
     "output_type": "execute_result"
    }
   ],
   "source": [
    "type(b)"
   ]
  },
  {
   "cell_type": "code",
   "execution_count": 26,
   "id": "758df992-6681-4552-b58a-3ca7b7cc8bf8",
   "metadata": {},
   "outputs": [],
   "source": [
    "b=False"
   ]
  },
  {
   "cell_type": "code",
   "execution_count": 27,
   "id": "f589032a-4d5f-41cf-ab70-23eaaf583ae2",
   "metadata": {},
   "outputs": [
    {
     "data": {
      "text/plain": [
       "bool"
      ]
     },
     "execution_count": 27,
     "metadata": {},
     "output_type": "execute_result"
    }
   ],
   "source": [
    "type(b)"
   ]
  },
  {
   "cell_type": "code",
   "execution_count": 28,
   "id": "5da0d85a-c7da-49af-9f37-5b0592bc9d88",
   "metadata": {},
   "outputs": [
    {
     "data": {
      "text/plain": [
       "0"
      ]
     },
     "execution_count": 28,
     "metadata": {},
     "output_type": "execute_result"
    }
   ],
   "source": [
    "b+b"
   ]
  },
  {
   "cell_type": "code",
   "execution_count": 29,
   "id": "9f5129cc-b721-4208-b442-fc582dd43be4",
   "metadata": {},
   "outputs": [
    {
     "data": {
      "text/plain": [
       "1"
      ]
     },
     "execution_count": 29,
     "metadata": {},
     "output_type": "execute_result"
    }
   ],
   "source": [
    "True*True"
   ]
  },
  {
   "cell_type": "code",
   "execution_count": 30,
   "id": "f1814010-cc06-473e-95bd-6f4453881166",
   "metadata": {},
   "outputs": [
    {
     "data": {
      "text/plain": [
       "0"
      ]
     },
     "execution_count": 30,
     "metadata": {},
     "output_type": "execute_result"
    }
   ],
   "source": [
    "True*False"
   ]
  },
  {
   "cell_type": "code",
   "execution_count": 31,
   "id": "b4beb1f7-e113-4289-9a47-acbe057f5d78",
   "metadata": {},
   "outputs": [],
   "source": [
    "v=5+8j"
   ]
  },
  {
   "cell_type": "code",
   "execution_count": 32,
   "id": "37c674f6-8789-48a6-ae36-31db7bd67458",
   "metadata": {},
   "outputs": [
    {
     "data": {
      "text/plain": [
       "complex"
      ]
     },
     "execution_count": 32,
     "metadata": {},
     "output_type": "execute_result"
    }
   ],
   "source": [
    "type(v)"
   ]
  },
  {
   "cell_type": "code",
   "execution_count": 33,
   "id": "63964b90-8662-414e-bac3-725dbb9a6636",
   "metadata": {},
   "outputs": [
    {
     "data": {
      "text/plain": [
       "20"
      ]
     },
     "execution_count": 33,
     "metadata": {},
     "output_type": "execute_result"
    }
   ],
   "source": [
    "shreya.real\n"
   ]
  },
  {
   "cell_type": "code",
   "execution_count": 35,
   "id": "6afcdc44-0f3b-411b-9cef-1094d385b6ca",
   "metadata": {},
   "outputs": [
    {
     "data": {
      "text/plain": [
       "20"
      ]
     },
     "execution_count": 35,
     "metadata": {},
     "output_type": "execute_result"
    }
   ],
   "source": [
    "shreya"
   ]
  },
  {
   "cell_type": "code",
   "execution_count": 39,
   "id": "911ca939-aa79-49ce-8c7b-c926044c1e23",
   "metadata": {},
   "outputs": [
    {
     "data": {
      "text/plain": [
       "20"
      ]
     },
     "execution_count": 39,
     "metadata": {},
     "output_type": "execute_result"
    }
   ],
   "source": [
    "shreya"
   ]
  },
  {
   "cell_type": "code",
   "execution_count": 40,
   "id": "aac3abb3-fded-499b-ac2d-4eb727d47975",
   "metadata": {},
   "outputs": [
    {
     "data": {
      "text/plain": [
       "0"
      ]
     },
     "execution_count": 40,
     "metadata": {},
     "output_type": "execute_result"
    }
   ],
   "source": [
    "shreya.imag"
   ]
  },
  {
   "cell_type": "code",
   "execution_count": 42,
   "id": "cfd1ca39-0295-46f7-aa76-2015dbb5e187",
   "metadata": {},
   "outputs": [
    {
     "data": {
      "text/plain": [
       "complex"
      ]
     },
     "execution_count": 42,
     "metadata": {},
     "output_type": "execute_result"
    }
   ],
   "source": [
    "type(v)"
   ]
  },
  {
   "cell_type": "code",
   "execution_count": 43,
   "id": "afd092f2-7ae1-4162-ba7d-4eb0960fe950",
   "metadata": {},
   "outputs": [
    {
     "data": {
      "text/plain": [
       "8.0"
      ]
     },
     "execution_count": 43,
     "metadata": {},
     "output_type": "execute_result"
    }
   ],
   "source": [
    "v.imag"
   ]
  },
  {
   "cell_type": "code",
   "execution_count": 44,
   "id": "8b5c95e2-81fd-491c-bec6-7b3c2803440f",
   "metadata": {},
   "outputs": [
    {
     "data": {
      "text/plain": [
       "5.0"
      ]
     },
     "execution_count": 44,
     "metadata": {},
     "output_type": "execute_result"
    }
   ],
   "source": [
    "v.real"
   ]
  },
  {
   "cell_type": "code",
   "execution_count": 45,
   "id": "6e2449b8-f8d2-4912-beba-3e27ea496179",
   "metadata": {},
   "outputs": [
    {
     "data": {
      "text/plain": [
       "(5+8j)"
      ]
     },
     "execution_count": 45,
     "metadata": {},
     "output_type": "execute_result"
    }
   ],
   "source": [
    "v"
   ]
  },
  {
   "cell_type": "code",
   "execution_count": 47,
   "id": "f71a1c1b-a16e-4b68-aebb-a1c067ccc06d",
   "metadata": {},
   "outputs": [
    {
     "name": "stdout",
     "output_type": "stream",
     "text": [
      "hello world\n"
     ]
    }
   ],
   "source": [
    "#shift+tab to know the type function\n",
    "#shift+enter to run the program\n",
    "print(\"hello world\")"
   ]
  },
  {
   "cell_type": "code",
   "execution_count": 48,
   "id": "3ee04be0-2c3d-416d-a9fc-c61c9963fa1a",
   "metadata": {},
   "outputs": [],
   "source": [
    "s=\"pwskills\""
   ]
  },
  {
   "cell_type": "code",
   "execution_count": 49,
   "id": "48a640ba-9f82-4b3d-8e29-fd23ade480b8",
   "metadata": {},
   "outputs": [
    {
     "data": {
      "text/plain": [
       "'p'"
      ]
     },
     "execution_count": 49,
     "metadata": {},
     "output_type": "execute_result"
    }
   ],
   "source": [
    "s[0]"
   ]
  },
  {
   "cell_type": "code",
   "execution_count": 50,
   "id": "d688dbe4-d692-4cd5-a617-3365995cb2d6",
   "metadata": {},
   "outputs": [
    {
     "data": {
      "text/plain": [
       "str"
      ]
     },
     "execution_count": 50,
     "metadata": {},
     "output_type": "execute_result"
    }
   ],
   "source": [
    "type(s[0])"
   ]
  },
  {
   "cell_type": "code",
   "execution_count": 51,
   "id": "64635b56-d1d6-439d-8931-b14f616fad46",
   "metadata": {},
   "outputs": [],
   "source": [
    "#pwskills is stored as an array"
   ]
  },
  {
   "cell_type": "code",
   "execution_count": 52,
   "id": "b304106d-8c92-4020-94c7-66cc8ed40f9d",
   "metadata": {},
   "outputs": [
    {
     "data": {
      "text/plain": [
       "'sk'"
      ]
     },
     "execution_count": 52,
     "metadata": {},
     "output_type": "execute_result"
    }
   ],
   "source": [
    "s[2:4]"
   ]
  },
  {
   "cell_type": "code",
   "execution_count": 53,
   "id": "6e6cc7e9-7a38-47e0-9cad-72b001558fb3",
   "metadata": {},
   "outputs": [
    {
     "data": {
      "text/plain": [
       "'kil'"
      ]
     },
     "execution_count": 53,
     "metadata": {},
     "output_type": "execute_result"
    }
   ],
   "source": [
    "s[3:6]"
   ]
  },
  {
   "cell_type": "code",
   "execution_count": 55,
   "id": "c66ff499-6c3e-4c98-8958-cede5e4cb639",
   "metadata": {},
   "outputs": [
    {
     "data": {
      "text/plain": [
       "'s'"
      ]
     },
     "execution_count": 55,
     "metadata": {},
     "output_type": "execute_result"
    }
   ],
   "source": [
    "s[-1]"
   ]
  },
  {
   "cell_type": "code",
   "execution_count": 56,
   "id": "ca0b30ef-616c-43c0-a9f5-20acba425c72",
   "metadata": {},
   "outputs": [
    {
     "data": {
      "text/plain": [
       "'pws'"
      ]
     },
     "execution_count": 56,
     "metadata": {},
     "output_type": "execute_result"
    }
   ],
   "source": [
    "s[0:3]"
   ]
  },
  {
   "cell_type": "code",
   "execution_count": 57,
   "id": "f180b0a4-f542-46ad-bd6b-1ab206a66672",
   "metadata": {},
   "outputs": [
    {
     "data": {
      "text/plain": [
       "'ws'"
      ]
     },
     "execution_count": 57,
     "metadata": {},
     "output_type": "execute_result"
    }
   ],
   "source": [
    "s[1:3]"
   ]
  },
  {
   "cell_type": "code",
   "execution_count": 58,
   "id": "c6f1ecf1-8bf1-4247-899f-c99151cf30ea",
   "metadata": {},
   "outputs": [
    {
     "data": {
      "text/plain": [
       "'pwskills'"
      ]
     },
     "execution_count": 58,
     "metadata": {},
     "output_type": "execute_result"
    }
   ],
   "source": [
    "s[0:]"
   ]
  },
  {
   "cell_type": "code",
   "execution_count": 59,
   "id": "ac64eca7-53d2-4d31-a77c-ff8e28e9e9f0",
   "metadata": {},
   "outputs": [
    {
     "data": {
      "text/plain": [
       "'psil'"
      ]
     },
     "execution_count": 59,
     "metadata": {},
     "output_type": "execute_result"
    }
   ],
   "source": [
    "s[0:8:2]#jumps 2digits in between"
   ]
  },
  {
   "cell_type": "code",
   "execution_count": 60,
   "id": "a7b9f6a0-24ae-4a27-abb5-9758f0b33f94",
   "metadata": {},
   "outputs": [
    {
     "data": {
      "text/plain": [
       "'psil'"
      ]
     },
     "execution_count": 60,
     "metadata": {},
     "output_type": "execute_result"
    }
   ],
   "source": [
    "s[::2]"
   ]
  },
  {
   "cell_type": "code",
   "execution_count": 61,
   "id": "8bb60c7f-959b-45aa-9b02-e0c11ae68c89",
   "metadata": {},
   "outputs": [
    {
     "data": {
      "text/plain": [
       "'sllikswp'"
      ]
     },
     "execution_count": 61,
     "metadata": {},
     "output_type": "execute_result"
    }
   ],
   "source": [
    "s[::-1]\n"
   ]
  },
  {
   "cell_type": "code",
   "execution_count": 62,
   "id": "5d2fa06b-00a6-42cd-ad19-a63af244d873",
   "metadata": {},
   "outputs": [
    {
     "data": {
      "text/plain": [
       "''"
      ]
     },
     "execution_count": 62,
     "metadata": {},
     "output_type": "execute_result"
    }
   ],
   "source": [
    "s[2:7:-1]"
   ]
  },
  {
   "cell_type": "code",
   "execution_count": 63,
   "id": "d8bcd8f1-390c-4a09-8f5b-6f62a9b77a4f",
   "metadata": {},
   "outputs": [
    {
     "data": {
      "text/plain": [
       "'slliksw'"
      ]
     },
     "execution_count": 63,
     "metadata": {},
     "output_type": "execute_result"
    }
   ],
   "source": [
    "s[8:0:-1]"
   ]
  },
  {
   "cell_type": "code",
   "execution_count": 64,
   "id": "b1ec2f85-8912-4603-9bae-3c1b4ff05110",
   "metadata": {},
   "outputs": [
    {
     "data": {
      "text/plain": [
       "''"
      ]
     },
     "execution_count": 64,
     "metadata": {},
     "output_type": "execute_result"
    }
   ],
   "source": [
    "s[8:0]#default jump will be taken +1\n",
    "#not in same direction as 8 to 0 is negative and +1 is positive so null"
   ]
  },
  {
   "cell_type": "code",
   "execution_count": 65,
   "id": "f94aadc4-a1a5-4926-b68b-120ca09ff2e9",
   "metadata": {},
   "outputs": [
    {
     "data": {
      "text/plain": [
       "'slliksw'"
      ]
     },
     "execution_count": 65,
     "metadata": {},
     "output_type": "execute_result"
    }
   ],
   "source": [
    "s[8:0:-1]"
   ]
  },
  {
   "cell_type": "code",
   "execution_count": 66,
   "id": "8a54ca5f-63bc-4145-af63-6a34f1562153",
   "metadata": {},
   "outputs": [
    {
     "data": {
      "text/plain": [
       "''"
      ]
     },
     "execution_count": 66,
     "metadata": {},
     "output_type": "execute_result"
    }
   ],
   "source": [
    "s[-2:-8:1]"
   ]
  },
  {
   "cell_type": "code",
   "execution_count": 67,
   "id": "1b68b44c-3b0c-4e0a-b21d-d2e30d7d05a8",
   "metadata": {},
   "outputs": [
    {
     "data": {
      "text/plain": [
       "'sllikswp'"
      ]
     },
     "execution_count": 67,
     "metadata": {},
     "output_type": "execute_result"
    }
   ],
   "source": [
    "s[::-1]"
   ]
  },
  {
   "cell_type": "code",
   "execution_count": 68,
   "id": "afd51159-4648-4e99-82dd-a6e83e35393a",
   "metadata": {},
   "outputs": [
    {
     "data": {
      "text/plain": [
       "'p'"
      ]
     },
     "execution_count": 68,
     "metadata": {},
     "output_type": "execute_result"
    }
   ],
   "source": [
    "s[-8::-1]"
   ]
  },
  {
   "cell_type": "code",
   "execution_count": 69,
   "id": "2ad1c130-7106-46ff-860c-9884dd1231b9",
   "metadata": {},
   "outputs": [
    {
     "data": {
      "text/plain": [
       "'swp'"
      ]
     },
     "execution_count": 69,
     "metadata": {},
     "output_type": "execute_result"
    }
   ],
   "source": [
    "s[-6::-1]"
   ]
  },
  {
   "cell_type": "code",
   "execution_count": 71,
   "id": "45d43936-97be-448a-851c-48f0e5176130",
   "metadata": {},
   "outputs": [
    {
     "data": {
      "text/plain": [
       "'p'"
      ]
     },
     "execution_count": 71,
     "metadata": {},
     "output_type": "execute_result"
    }
   ],
   "source": [
    "s[0::90]"
   ]
  },
  {
   "cell_type": "code",
   "execution_count": 72,
   "id": "049f9fa8-898e-49cc-821e-13cdd87b996e",
   "metadata": {},
   "outputs": [
    {
     "data": {
      "text/plain": [
       "'pwskills'"
      ]
     },
     "execution_count": 72,
     "metadata": {},
     "output_type": "execute_result"
    }
   ],
   "source": [
    "s[0:90]"
   ]
  },
  {
   "cell_type": "code",
   "execution_count": 73,
   "id": "46ffbb73-7764-4a4b-bd76-5707f27f6306",
   "metadata": {},
   "outputs": [
    {
     "data": {
      "text/plain": [
       "'pwskills'"
      ]
     },
     "execution_count": 73,
     "metadata": {},
     "output_type": "execute_result"
    }
   ],
   "source": [
    "s[:90:]"
   ]
  },
  {
   "cell_type": "code",
   "execution_count": 74,
   "id": "049a7935-c343-45b3-b96a-e30a6cb3e158",
   "metadata": {},
   "outputs": [
    {
     "data": {
      "text/plain": [
       "''"
      ]
     },
     "execution_count": 74,
     "metadata": {},
     "output_type": "execute_result"
    }
   ],
   "source": [
    "s[:-90:]"
   ]
  },
  {
   "cell_type": "code",
   "execution_count": 75,
   "id": "bfea451f-bf00-4263-a56a-2f7cca1ee55e",
   "metadata": {},
   "outputs": [
    {
     "data": {
      "text/plain": [
       "'sllikswp'"
      ]
     },
     "execution_count": 75,
     "metadata": {},
     "output_type": "execute_result"
    }
   ],
   "source": [
    "s[:-90:-1]"
   ]
  },
  {
   "cell_type": "code",
   "execution_count": 76,
   "id": "e66de40c-e3a4-424d-b310-c325336a7e01",
   "metadata": {},
   "outputs": [],
   "source": [
    "c=200"
   ]
  },
  {
   "cell_type": "code",
   "execution_count": 78,
   "id": "38fe233c-da99-4e76-9ff1-82821583dd9a",
   "metadata": {},
   "outputs": [
    {
     "data": {
      "text/plain": [
       "int"
      ]
     },
     "execution_count": 78,
     "metadata": {},
     "output_type": "execute_result"
    }
   ],
   "source": [
    "type(c)#not stored in the form of array"
   ]
  },
  {
   "cell_type": "code",
   "execution_count": 83,
   "id": "0a49b94b-2d6d-42a6-96b7-a9d466c01a1d",
   "metadata": {},
   "outputs": [],
   "source": [
    "s=\"this is shreay\""
   ]
  },
  {
   "cell_type": "code",
   "execution_count": 84,
   "id": "0dacf698-4dfa-49f5-8ef8-c529fd10b4ff",
   "metadata": {},
   "outputs": [
    {
     "data": {
      "text/plain": [
       "14"
      ]
     },
     "execution_count": 84,
     "metadata": {},
     "output_type": "execute_result"
    }
   ],
   "source": [
    "len(s)"
   ]
  },
  {
   "cell_type": "code",
   "execution_count": 85,
   "id": "d3a9983c-25bb-4052-a9c1-64b05a10a941",
   "metadata": {},
   "outputs": [
    {
     "data": {
      "text/plain": [
       "0"
      ]
     },
     "execution_count": 85,
     "metadata": {},
     "output_type": "execute_result"
    }
   ],
   "source": [
    "s.find(s)"
   ]
  },
  {
   "cell_type": "code",
   "execution_count": 86,
   "id": "9f5500e7-9d24-4763-9cac-9154757377bf",
   "metadata": {},
   "outputs": [
    {
     "data": {
      "text/plain": [
       "3"
      ]
     },
     "execution_count": 86,
     "metadata": {},
     "output_type": "execute_result"
    }
   ],
   "source": [
    "s.find('s')"
   ]
  },
  {
   "cell_type": "code",
   "execution_count": 87,
   "id": "1d04547e-0154-4472-a599-923ce00292a5",
   "metadata": {},
   "outputs": [
    {
     "data": {
      "text/plain": [
       "3"
      ]
     },
     "execution_count": 87,
     "metadata": {},
     "output_type": "execute_result"
    }
   ],
   "source": [
    "s.find('s')"
   ]
  },
  {
   "cell_type": "code",
   "execution_count": 88,
   "id": "0f459821-99a2-4ec0-a809-f78f7ac0ffe9",
   "metadata": {},
   "outputs": [
    {
     "data": {
      "text/plain": [
       "2"
      ]
     },
     "execution_count": 88,
     "metadata": {},
     "output_type": "execute_result"
    }
   ],
   "source": [
    "s.find(\"is\")"
   ]
  },
  {
   "cell_type": "code",
   "execution_count": 89,
   "id": "81e362fe-3e3f-408b-bb10-ed1a921d5428",
   "metadata": {},
   "outputs": [
    {
     "data": {
      "text/plain": [
       "-1"
      ]
     },
     "execution_count": 89,
     "metadata": {},
     "output_type": "execute_result"
    }
   ],
   "source": [
    "s.find(\"iS\")"
   ]
  },
  {
   "cell_type": "code",
   "execution_count": 90,
   "id": "09df58fd-44d5-4639-9e6a-7bbabdd289bd",
   "metadata": {},
   "outputs": [
    {
     "data": {
      "text/plain": [
       "int"
      ]
     },
     "execution_count": 90,
     "metadata": {},
     "output_type": "execute_result"
    }
   ],
   "source": [
    "type(-1)"
   ]
  },
  {
   "cell_type": "code",
   "execution_count": 91,
   "id": "d3bbae3a-0ad4-4023-a73f-33be6bfe2a25",
   "metadata": {},
   "outputs": [
    {
     "data": {
      "text/plain": [
       "'this is shreay'"
      ]
     },
     "execution_count": 91,
     "metadata": {},
     "output_type": "execute_result"
    }
   ],
   "source": [
    "s#press tab to find the list of function"
   ]
  },
  {
   "cell_type": "code",
   "execution_count": 92,
   "id": "12a2268f-7a29-497c-96b9-7a9b2e1d67ac",
   "metadata": {},
   "outputs": [],
   "source": [
    "#find is used to find the first occurence\n",
    "#custom is used to find the occurence of not only the first"
   ]
  },
  {
   "cell_type": "code",
   "execution_count": 93,
   "id": "c37ff90d-8090-405d-a065-e0c5d47d4949",
   "metadata": {},
   "outputs": [
    {
     "data": {
      "text/plain": [
       "2"
      ]
     },
     "execution_count": 93,
     "metadata": {},
     "output_type": "execute_result"
    }
   ],
   "source": [
    "s.count(\"is\")"
   ]
  },
  {
   "cell_type": "code",
   "execution_count": 94,
   "id": "23f3e61b-8fe3-469c-8f18-99ee6ce065d1",
   "metadata": {},
   "outputs": [
    {
     "data": {
      "text/plain": [
       "0"
      ]
     },
     "execution_count": 94,
     "metadata": {},
     "output_type": "execute_result"
    }
   ],
   "source": [
    "s.count(\"z\")"
   ]
  },
  {
   "cell_type": "code",
   "execution_count": 95,
   "id": "f96b89a5-2086-42a9-98ff-5ca904891376",
   "metadata": {},
   "outputs": [
    {
     "data": {
      "text/plain": [
       "'This Is Shreay'"
      ]
     },
     "execution_count": 95,
     "metadata": {},
     "output_type": "execute_result"
    }
   ],
   "source": [
    "s.title()#first letter of the word is capitalized"
   ]
  },
  {
   "cell_type": "code",
   "execution_count": 97,
   "id": "aaf17e51-3dc7-4494-b375-3af65ac68f27",
   "metadata": {},
   "outputs": [
    {
     "data": {
      "text/plain": [
       "'This is shreay'"
      ]
     },
     "execution_count": 97,
     "metadata": {},
     "output_type": "execute_result"
    }
   ],
   "source": [
    "s.capitalize()"
   ]
  },
  {
   "cell_type": "code",
   "execution_count": 98,
   "id": "527c1abe-12e8-4ab7-bfb5-c828f23ba5ea",
   "metadata": {},
   "outputs": [
    {
     "data": {
      "text/plain": [
       "'This is shreay'"
      ]
     },
     "execution_count": 98,
     "metadata": {},
     "output_type": "execute_result"
    }
   ],
   "source": [
    "s.capitalize()#starting letters are small letters capitalizes only the first letter"
   ]
  },
  {
   "cell_type": "code",
   "execution_count": 99,
   "id": "126f35d2-8f3a-4fe3-9934-7d09e7a9c39a",
   "metadata": {},
   "outputs": [
    {
     "data": {
      "text/plain": [
       "'this is shreay'"
      ]
     },
     "execution_count": 99,
     "metadata": {},
     "output_type": "execute_result"
    }
   ],
   "source": [
    "s\n"
   ]
  },
  {
   "cell_type": "code",
   "execution_count": 101,
   "id": "cd3b761a-3fc6-4214-8348-145057b2e0e2",
   "metadata": {},
   "outputs": [
    {
     "data": {
      "text/plain": [
       "'this is shreayhappy'"
      ]
     },
     "execution_count": 101,
     "metadata": {},
     "output_type": "execute_result"
    }
   ],
   "source": [
    "s+\"happy\""
   ]
  },
  {
   "cell_type": "code",
   "execution_count": 102,
   "id": "4679866f-f8d7-46ef-a21a-32a974c3bf37",
   "metadata": {},
   "outputs": [
    {
     "data": {
      "text/plain": [
       "'this is shreay1'"
      ]
     },
     "execution_count": 102,
     "metadata": {},
     "output_type": "execute_result"
    }
   ],
   "source": [
    "s+\"1\""
   ]
  },
  {
   "cell_type": "code",
   "execution_count": 103,
   "id": "564c170a-8333-4c05-b826-95b13c6149ce",
   "metadata": {},
   "outputs": [
    {
     "data": {
      "text/plain": [
       "'this is shreaythis is shreaythis is shreaythis is shreay'"
      ]
     },
     "execution_count": 103,
     "metadata": {},
     "output_type": "execute_result"
    }
   ],
   "source": [
    "s*4"
   ]
  },
  {
   "cell_type": "code",
   "execution_count": 105,
   "id": "64f8e53f-c05f-49a3-8c48-ac2dbd360518",
   "metadata": {},
   "outputs": [
    {
     "data": {
      "text/plain": [
       "'hellohellohellohellohellohello'"
      ]
     },
     "execution_count": 105,
     "metadata": {},
     "output_type": "execute_result"
    }
   ],
   "source": [
    "\"hello\"*6"
   ]
  },
  {
   "cell_type": "code",
   "execution_count": 106,
   "id": "c1da32f9-741e-4467-90f3-caea304f1bdf",
   "metadata": {},
   "outputs": [
    {
     "data": {
      "text/plain": [
       "\"don't do copy and paste in my class\""
      ]
     },
     "execution_count": 106,
     "metadata": {},
     "output_type": "execute_result"
    }
   ],
   "source": [
    "\"don't do copy and paste in my class\""
   ]
  },
  {
   "cell_type": "code",
   "execution_count": 109,
   "id": "840c0adf-757d-4e79-9632-4278c416e365",
   "metadata": {},
   "outputs": [
    {
     "data": {
      "text/plain": [
       "\"\\rdon't do copy and paste in class\""
      ]
     },
     "execution_count": 109,
     "metadata": {},
     "output_type": "execute_result"
    }
   ],
   "source": [
    "\"\\rdon't do copy and paste in class\""
   ]
  },
  {
   "cell_type": "code",
   "execution_count": 110,
   "id": "ba0677b6-c5f3-4344-a19f-fae152b10fbd",
   "metadata": {},
   "outputs": [],
   "source": [
    "#ctr+forward slash to convert multiple lines to hash\n",
    "#\"\"\"start and end for multiple line comment"
   ]
  },
  {
   "cell_type": "code",
   "execution_count": 111,
   "id": "a90412ab-b145-4b10-bc79-8f9db1b37d77",
   "metadata": {},
   "outputs": [],
   "source": [
    "s3=\"\"\"aaaaaaaaaaaaaaaaaaaaaaaaaaaaaaaaaaaaaaaaaaaaaaaaaaaaaaaaaaaaaaaaaaaaaaaaaaaaaaaaaaaaaaaaaaaaaaaaaaaaaaaaaaaaaaaaaaaaaaaaaaaaaaaaaaaaaaaaaaaaaaaaaaaaaaaaaaaaaaaabbbbbbbbbbbbbbbbbbbbbbbbbbbbbbbbbbbbbbbbbbbbbbbbbbbbbbbbbbbbbbbbbbbbbbbbbbbbbbbbbbbbbbbbbbbbbbbbbbbbbbbbbbb\"\"\""
   ]
  },
  {
   "cell_type": "code",
   "execution_count": 112,
   "id": "a8189464-d9d2-4f77-8519-3edebbf00a1e",
   "metadata": {},
   "outputs": [
    {
     "data": {
      "text/plain": [
       "'aaaaaaaaaaaaaaaaaaaaaaaaaaaaaaaaaaaaaaaaaaaaaaaaaaaaaaaaaaaaaaaaaaaaaaaaaaaaaaaaaaaaaaaaaaaaaaaaaaaaaaaaaaaaaaaaaaaaaaaaaaaaaaaaaaaaaaaaaaaaaaaaaaaaaaaaaaaaaaaabbbbbbbbbbbbbbbbbbbbbbbbbbbbbbbbbbbbbbbbbbbbbbbbbbbbbbbbbbbbbbbbbbbbbbbbbbbbbbbbbbbbbbbbbbbbbbbbbbbbbbbbbbb'"
      ]
     },
     "execution_count": 112,
     "metadata": {},
     "output_type": "execute_result"
    }
   ],
   "source": [
    "s3"
   ]
  },
  {
   "cell_type": "code",
   "execution_count": 113,
   "id": "5ab161fa-65a2-4550-83d7-2da792871f8d",
   "metadata": {},
   "outputs": [
    {
     "data": {
      "text/plain": [
       "'SI SIHT'"
      ]
     },
     "execution_count": 113,
     "metadata": {},
     "output_type": "execute_result"
    }
   ],
   "source": [
    "s[-8::-1].upper()"
   ]
  },
  {
   "cell_type": "code",
   "execution_count": null,
   "id": "ef0be452-4434-4065-806e-8effc320efbf",
   "metadata": {},
   "outputs": [],
   "source": []
  }
 ],
 "metadata": {
  "kernelspec": {
   "display_name": "Python 3 (ipykernel)",
   "language": "python",
   "name": "python3"
  },
  "language_info": {
   "codemirror_mode": {
    "name": "ipython",
    "version": 3
   },
   "file_extension": ".py",
   "mimetype": "text/x-python",
   "name": "python",
   "nbconvert_exporter": "python",
   "pygments_lexer": "ipython3",
   "version": "3.10.8"
  }
 },
 "nbformat": 4,
 "nbformat_minor": 5
}
