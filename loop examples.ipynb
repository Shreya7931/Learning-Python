{
 "cells": [
  {
   "cell_type": "code",
   "execution_count": 1,
   "id": "6a6fdf94-fd93-4262-b991-25b12fc73557",
   "metadata": {},
   "outputs": [],
   "source": [
    "l=[1,2,3,4,5]"
   ]
  },
  {
   "cell_type": "code",
   "execution_count": 3,
   "id": "4c1be78e-ca6f-48ba-aced-7c118117cf37",
   "metadata": {},
   "outputs": [
    {
     "name": "stdout",
     "output_type": "stream",
     "text": [
      "1 <class 'int'>\n",
      "2 <class 'int'>\n",
      "3 <class 'int'>\n",
      "4 <class 'int'>\n",
      "5 <class 'int'>\n"
     ]
    }
   ],
   "source": [
    "for i in l:\n",
    "    print(i,type(i))"
   ]
  },
  {
   "cell_type": "code",
   "execution_count": 4,
   "id": "44c8ca3e-23c5-4f09-8496-912f582b8e7e",
   "metadata": {},
   "outputs": [],
   "source": [
    "l1=[\"shreya\",\"patil\",\"krish\",\"naik\"]"
   ]
  },
  {
   "cell_type": "code",
   "execution_count": 6,
   "id": "6e929572-e29b-4c95-8ddb-2a409cb7bd8f",
   "metadata": {},
   "outputs": [
    {
     "name": "stdout",
     "output_type": "stream",
     "text": [
      "shreya <class 'str'>\n",
      "patil <class 'str'>\n",
      "krish <class 'str'>\n",
      "naik <class 'str'>\n"
     ]
    }
   ],
   "source": [
    "for i in l1:\n",
    "    print(i,type(i))"
   ]
  },
  {
   "cell_type": "code",
   "execution_count": 7,
   "id": "b96fa8d4-601b-4e1f-8730-9524bc53849a",
   "metadata": {},
   "outputs": [
    {
     "data": {
      "text/plain": [
       "['shreya', 'patil', 'krish', 'naik']"
      ]
     },
     "execution_count": 7,
     "metadata": {},
     "output_type": "execute_result"
    }
   ],
   "source": [
    "l1\n"
   ]
  },
  {
   "cell_type": "code",
   "execution_count": 10,
   "id": "4bcfd6ee-d399-402d-a98e-d57124a0fd50",
   "metadata": {},
   "outputs": [
    {
     "name": "stdout",
     "output_type": "stream",
     "text": [
      "shreya\n",
      "patil\n",
      "krish\n",
      "naik\n",
      "do something\n"
     ]
    }
   ],
   "source": [
    "for i in l1:#first executes for loop and then comes to else\n",
    "    print(i)\n",
    "else:\n",
    "    print(\"do something\")"
   ]
  },
  {
   "cell_type": "code",
   "execution_count": 12,
   "id": "00954d51-fe46-400c-adb6-58f6f3be14de",
   "metadata": {},
   "outputs": [],
   "source": [
    "#else is executed after completion of for loop\n",
    "#if for loop is able to be executeed completely then only else will be executed"
   ]
  },
  {
   "cell_type": "code",
   "execution_count": null,
   "id": "3923044f-e35b-47fe-aeb6-09b3149cf1dc",
   "metadata": {},
   "outputs": [],
   "source": [
    "for i in l1:\n",
    "    if i==\"patil\":\n",
    "        break;\n",
    "    print(i)"
   ]
  },
  {
   "cell_type": "code",
   "execution_count": null,
   "id": "d1ada88d-015d-4118-9406-1b8b42109cc1",
   "metadata": {},
   "outputs": [],
   "source": [
    "for i in l1:\n",
    "    if i==\"patil\":\n",
    "        break\n",
    "    print(i)\n",
    "else:\n",
    "    print(\"this is not valid\")"
   ]
  },
  {
   "cell_type": "code",
   "execution_count": null,
   "id": "ee653234-4a5c-4724-bd27-8329aca4dd4a",
   "metadata": {},
   "outputs": [],
   "source": [
    "l1\n"
   ]
  },
  {
   "cell_type": "code",
   "execution_count": null,
   "id": "0cb318b7-d601-426a-9958-0d06f2940019",
   "metadata": {},
   "outputs": [],
   "source": [
    "l2=[\"shreya\",\"patil\",\"krish\",\"naik\"]"
   ]
  },
  {
   "cell_type": "code",
   "execution_count": null,
   "id": "ac2e5765-0309-4009-b664-734d27ffbf6c",
   "metadata": {},
   "outputs": [],
   "source": [
    "l2"
   ]
  },
  {
   "cell_type": "code",
   "execution_count": 1,
   "id": "43cfc883-226f-40df-b836-fcc04dbc5398",
   "metadata": {},
   "outputs": [
    {
     "ename": "NameError",
     "evalue": "name 'l2' is not defined",
     "output_type": "error",
     "traceback": [
      "\u001b[0;31m---------------------------------------------------------------------------\u001b[0m",
      "\u001b[0;31mNameError\u001b[0m                                 Traceback (most recent call last)",
      "Cell \u001b[0;32mIn[1], line 1\u001b[0m\n\u001b[0;32m----> 1\u001b[0m \u001b[43ml2\u001b[49m\n",
      "\u001b[0;31mNameError\u001b[0m: name 'l2' is not defined"
     ]
    }
   ],
   "source": [
    "l2"
   ]
  },
  {
   "cell_type": "code",
   "execution_count": 2,
   "id": "582c92ef-5520-456d-a5fa-fee88a303568",
   "metadata": {},
   "outputs": [],
   "source": [
    "l2=[\"shreya\",\"patil\",\"krish\",\"naik\"]"
   ]
  },
  {
   "cell_type": "code",
   "execution_count": 3,
   "id": "b3f6d769-58b0-4574-a565-cea0c0d17c0e",
   "metadata": {},
   "outputs": [
    {
     "data": {
      "text/plain": [
       "['shreya', 'patil', 'krish', 'naik']"
      ]
     },
     "execution_count": 3,
     "metadata": {},
     "output_type": "execute_result"
    }
   ],
   "source": [
    "l2"
   ]
  },
  {
   "cell_type": "code",
   "execution_count": 6,
   "id": "bd6c5789-ecea-48f3-8de1-8e98fe4028d6",
   "metadata": {},
   "outputs": [
    {
     "name": "stdout",
     "output_type": "stream",
     "text": [
      "shreya\n",
      "krish\n",
      "naik\n",
      "invalid\n"
     ]
    }
   ],
   "source": [
    "for i in l2:\n",
    "    if i==\"patil\":\n",
    "        continue\n",
    "    print(i)\n",
    "else:\n",
    "    print(\"invalid\")"
   ]
  },
  {
   "cell_type": "code",
   "execution_count": 8,
   "id": "3195cf8b-f557-4b9a-b1d6-6526a6f27b02",
   "metadata": {},
   "outputs": [
    {
     "data": {
      "text/plain": [
       "range(0, 5)"
      ]
     },
     "execution_count": 8,
     "metadata": {},
     "output_type": "execute_result"
    }
   ],
   "source": [
    "range(5)#generator function,help to generate data\n",
    "#generates 0 to 5 excluding 5"
   ]
  },
  {
   "cell_type": "code",
   "execution_count": 9,
   "id": "0106ef82-f1fd-4f68-9636-a859827aaa48",
   "metadata": {},
   "outputs": [
    {
     "data": {
      "text/plain": [
       "[0, 1, 2, 3, 4]"
      ]
     },
     "execution_count": 9,
     "metadata": {},
     "output_type": "execute_result"
    }
   ],
   "source": [
    "list(range(5))"
   ]
  },
  {
   "cell_type": "code",
   "execution_count": 10,
   "id": "18baa10a-730d-449d-86cb-143be3b9174c",
   "metadata": {},
   "outputs": [
    {
     "data": {
      "text/plain": [
       "[0, 1, 2, 3, 4]"
      ]
     },
     "execution_count": 10,
     "metadata": {},
     "output_type": "execute_result"
    }
   ],
   "source": [
    "list(range(0,5,1))"
   ]
  },
  {
   "cell_type": "code",
   "execution_count": 11,
   "id": "b934d6c8-3811-479b-a00d-8e57e4c2f440",
   "metadata": {},
   "outputs": [
    {
     "data": {
      "text/plain": [
       "[0,\n",
       " 2,\n",
       " 4,\n",
       " 6,\n",
       " 8,\n",
       " 10,\n",
       " 12,\n",
       " 14,\n",
       " 16,\n",
       " 18,\n",
       " 20,\n",
       " 22,\n",
       " 24,\n",
       " 26,\n",
       " 28,\n",
       " 30,\n",
       " 32,\n",
       " 34,\n",
       " 36,\n",
       " 38,\n",
       " 40,\n",
       " 42,\n",
       " 44,\n",
       " 46,\n",
       " 48,\n",
       " 50,\n",
       " 52,\n",
       " 54,\n",
       " 56,\n",
       " 58,\n",
       " 60,\n",
       " 62,\n",
       " 64,\n",
       " 66,\n",
       " 68,\n",
       " 70,\n",
       " 72,\n",
       " 74,\n",
       " 76,\n",
       " 78,\n",
       " 80,\n",
       " 82,\n",
       " 84,\n",
       " 86,\n",
       " 88,\n",
       " 90,\n",
       " 92,\n",
       " 94,\n",
       " 96,\n",
       " 98,\n",
       " 100,\n",
       " 102,\n",
       " 104,\n",
       " 106,\n",
       " 108,\n",
       " 110,\n",
       " 112,\n",
       " 114,\n",
       " 116,\n",
       " 118,\n",
       " 120,\n",
       " 122,\n",
       " 124,\n",
       " 126,\n",
       " 128,\n",
       " 130,\n",
       " 132,\n",
       " 134,\n",
       " 136,\n",
       " 138,\n",
       " 140,\n",
       " 142,\n",
       " 144,\n",
       " 146,\n",
       " 148,\n",
       " 150,\n",
       " 152,\n",
       " 154,\n",
       " 156,\n",
       " 158,\n",
       " 160,\n",
       " 162,\n",
       " 164,\n",
       " 166,\n",
       " 168,\n",
       " 170,\n",
       " 172,\n",
       " 174,\n",
       " 176,\n",
       " 178,\n",
       " 180,\n",
       " 182,\n",
       " 184,\n",
       " 186,\n",
       " 188,\n",
       " 190,\n",
       " 192,\n",
       " 194,\n",
       " 196,\n",
       " 198]"
      ]
     },
     "execution_count": 11,
     "metadata": {},
     "output_type": "execute_result"
    }
   ],
   "source": [
    "list(range(0,200,2))"
   ]
  },
  {
   "cell_type": "code",
   "execution_count": 13,
   "id": "a3eba93a-9cd5-4f43-962c-2b25d423f25c",
   "metadata": {},
   "outputs": [
    {
     "data": {
      "text/plain": [
       "[0, 2, 4, 6, 8, 10, 12, 14, 16, 18]"
      ]
     },
     "execution_count": 13,
     "metadata": {},
     "output_type": "execute_result"
    }
   ],
   "source": [
    "list(range(0,20,2))#goes till 19"
   ]
  },
  {
   "cell_type": "code",
   "execution_count": 14,
   "id": "4f1822e4-ec18-41be-ac02-098c5faa938d",
   "metadata": {},
   "outputs": [
    {
     "data": {
      "text/plain": [
       "[-20,\n",
       " -18,\n",
       " -16,\n",
       " -14,\n",
       " -12,\n",
       " -10,\n",
       " -8,\n",
       " -6,\n",
       " -4,\n",
       " -2,\n",
       " 0,\n",
       " 2,\n",
       " 4,\n",
       " 6,\n",
       " 8,\n",
       " 10,\n",
       " 12,\n",
       " 14,\n",
       " 16,\n",
       " 18]"
      ]
     },
     "execution_count": 14,
     "metadata": {},
     "output_type": "execute_result"
    }
   ],
   "source": [
    "list(range(-20,20,2))"
   ]
  },
  {
   "cell_type": "code",
   "execution_count": 15,
   "id": "7b6d5d63-da0c-4164-bed6-f091d5abc3b1",
   "metadata": {},
   "outputs": [
    {
     "data": {
      "text/plain": [
       "['shreya', 'patil', 'krish', 'naik']"
      ]
     },
     "execution_count": 15,
     "metadata": {},
     "output_type": "execute_result"
    }
   ],
   "source": [
    "l2"
   ]
  },
  {
   "cell_type": "code",
   "execution_count": 16,
   "id": "496c7cfb-39b0-44bc-b02f-beca80479873",
   "metadata": {},
   "outputs": [
    {
     "data": {
      "text/plain": [
       "['naik', 'krish', 'patil', 'shreya']"
      ]
     },
     "execution_count": 16,
     "metadata": {},
     "output_type": "execute_result"
    }
   ],
   "source": [
    "l2[::-1]"
   ]
  },
  {
   "cell_type": "code",
   "execution_count": 22,
   "id": "c281e81e-7e33-4eeb-b8bd-091a801dcef4",
   "metadata": {},
   "outputs": [
    {
     "name": "stdout",
     "output_type": "stream",
     "text": [
      "['naik', 'krish', 'patil', 'shreya']\n"
     ]
    }
   ],
   "source": [
    "l3=[]\n",
    "for i in range(-1,-5,-1):\n",
    "    l3.append(l2[i])\n",
    "print(l3)\n"
   ]
  },
  {
   "cell_type": "code",
   "execution_count": 23,
   "id": "a80834e6-9411-4d4f-ac38-0453b0e978a8",
   "metadata": {},
   "outputs": [],
   "source": [
    "l2=[23,5,45,56,67,78,87,88998]"
   ]
  },
  {
   "cell_type": "code",
   "execution_count": 32,
   "id": "a6bc0ad3-8d6e-4094-af10-77ce7e89f825",
   "metadata": {},
   "outputs": [],
   "source": [
    "\n",
    "for i in range(0,len(l2),2):\n",
    "    print(l2[i])\n"
   ]
  },
  {
   "cell_type": "code",
   "execution_count": 34,
   "id": "bde90d21-bf2b-4a91-811a-1d58ad8278aa",
   "metadata": {},
   "outputs": [
    {
     "data": {
      "text/plain": [
       "[]"
      ]
     },
     "execution_count": 34,
     "metadata": {},
     "output_type": "execute_result"
    }
   ],
   "source": [
    "l2"
   ]
  },
  {
   "cell_type": "code",
   "execution_count": 35,
   "id": "dcf5a797-d3ca-4ea4-b5ab-23e8869f0510",
   "metadata": {},
   "outputs": [],
   "source": [
    "l=[1,2,3,4,5]"
   ]
  },
  {
   "cell_type": "code",
   "execution_count": 36,
   "id": "98eb7d68-5ce0-4b36-96c1-371a5188f5b4",
   "metadata": {},
   "outputs": [
    {
     "data": {
      "text/plain": [
       "[1, 2, 3, 4, 5]"
      ]
     },
     "execution_count": 36,
     "metadata": {},
     "output_type": "execute_result"
    }
   ],
   "source": [
    "l"
   ]
  },
  {
   "cell_type": "code",
   "execution_count": 37,
   "id": "5d520d09-8d5d-4fbc-9b3a-d74410f955c0",
   "metadata": {},
   "outputs": [
    {
     "name": "stdout",
     "output_type": "stream",
     "text": [
      "15\n"
     ]
    }
   ],
   "source": [
    "sum=0\n",
    "for i in l:\n",
    "    sum=sum+i\n",
    "print(sum)"
   ]
  },
  {
   "cell_type": "code",
   "execution_count": 38,
   "id": "b45cbf2e-6463-42ae-810d-03abb18f9626",
   "metadata": {},
   "outputs": [],
   "source": [
    "s={1,2,3,4,\"shreya\",\"patil\"}"
   ]
  },
  {
   "cell_type": "code",
   "execution_count": 39,
   "id": "d649c742-8a8a-49ec-aacb-8dde5a2e9167",
   "metadata": {},
   "outputs": [
    {
     "data": {
      "text/plain": [
       "{1, 2, 3, 4, 'patil', 'shreya'}"
      ]
     },
     "execution_count": 39,
     "metadata": {},
     "output_type": "execute_result"
    }
   ],
   "source": [
    "s"
   ]
  },
  {
   "cell_type": "code",
   "execution_count": 40,
   "id": "aa982d54-964b-4c55-a7d7-d86f95a5f99d",
   "metadata": {},
   "outputs": [],
   "source": [
    "s1=\"shreya\"\n"
   ]
  },
  {
   "cell_type": "code",
   "execution_count": 41,
   "id": "95ae9b56-fff8-4792-85a3-f3d00f2ec8d3",
   "metadata": {},
   "outputs": [
    {
     "name": "stdout",
     "output_type": "stream",
     "text": [
      "s\n",
      "h\n",
      "r\n",
      "e\n",
      "y\n",
      "a\n"
     ]
    }
   ],
   "source": [
    "for i in s1:\n",
    "    print(i)"
   ]
  },
  {
   "cell_type": "code",
   "execution_count": 43,
   "id": "ce29367c-c36b-4a75-9c05-e17dfb34ca9f",
   "metadata": {},
   "outputs": [
    {
     "ename": "SyntaxError",
     "evalue": "unterminated string literal (detected at line 1) (4288735293.py, line 1)",
     "output_type": "error",
     "traceback": [
      "\u001b[0;36m  Cell \u001b[0;32mIn[43], line 1\u001b[0;36m\u001b[0m\n\u001b[0;31m    d={\"name\":\"shreya\",\"class\":\"data science masters\",\"topic\":[\"python,\"\"]}\u001b[0m\n\u001b[0m                                                                        ^\u001b[0m\n\u001b[0;31mSyntaxError\u001b[0m\u001b[0;31m:\u001b[0m unterminated string literal (detected at line 1)\n"
     ]
    }
   ],
   "source": [
    "d={\"name\":\"shreya\",\"class\":\"data science masters\",\"topic\":[\"python,\"\"]}"
   ]
  },
  {
   "cell_type": "code",
   "execution_count": null,
   "id": "c95cbf80-5971-4196-823a-9eb8ea60de97",
   "metadata": {},
   "outputs": [],
   "source": []
  }
 ],
 "metadata": {
  "kernelspec": {
   "display_name": "Python 3 (ipykernel)",
   "language": "python",
   "name": "python3"
  },
  "language_info": {
   "codemirror_mode": {
    "name": "ipython",
    "version": 3
   },
   "file_extension": ".py",
   "mimetype": "text/x-python",
   "name": "python",
   "nbconvert_exporter": "python",
   "pygments_lexer": "ipython3",
   "version": "3.10.8"
  }
 },
 "nbformat": 4,
 "nbformat_minor": 5
}
