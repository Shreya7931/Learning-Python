{
 "cells": [
  {
   "cell_type": "code",
   "execution_count": 1,
   "id": "93afc43f-a4c1-4380-aa14-347bbb7eef7a",
   "metadata": {},
   "outputs": [],
   "source": [
    "class test:\n",
    "    \n",
    "    def __init__(self,a,b):\n",
    "        self.a=a\n",
    "        self.b=b\n",
    "    "
   ]
  },
  {
   "cell_type": "code",
   "execution_count": 3,
   "id": "ee014ebe-106a-4d23-b070-72f702d0f5f6",
   "metadata": {},
   "outputs": [],
   "source": [
    "t=test(23,34)"
   ]
  },
  {
   "cell_type": "code",
   "execution_count": 5,
   "id": "e97b98f3-1208-4c0d-96fc-0b3c23fbcc26",
   "metadata": {},
   "outputs": [],
   "source": [
    "t.a=23456789"
   ]
  },
  {
   "cell_type": "code",
   "execution_count": 8,
   "id": "5a1d3178-7023-4f65-bf05-6789ae8dda07",
   "metadata": {},
   "outputs": [
    {
     "data": {
      "text/plain": [
       "23456789"
      ]
     },
     "execution_count": 8,
     "metadata": {},
     "output_type": "execute_result"
    }
   ],
   "source": [
    "t.a#assigned value is shown not the value in the class\n",
    "#so we need to encapsulate it"
   ]
  },
  {
   "cell_type": "code",
   "execution_count": 9,
   "id": "9e5cc662-6e61-409d-ab5e-599acc543692",
   "metadata": {},
   "outputs": [],
   "source": [
    "#encapsulation\n",
    "#inside information should not be avaialable\n",
    "class car:\n",
    "    def __init__(self,year,make,model,speed):\n",
    "        self.__year=year#double underscore hides the variable when the user calls it\n",
    "        self.__make=make\n",
    "        self.__model=model\n",
    "        self.__speed=speed\n",
    "    "
   ]
  },
  {
   "cell_type": "code",
   "execution_count": 10,
   "id": "7d640d2e-30aa-451b-9fe2-de47f51cae83",
   "metadata": {},
   "outputs": [],
   "source": [
    "c=car(2002,\"abc\",\"def\",45)"
   ]
  },
  {
   "cell_type": "code",
   "execution_count": 11,
   "id": "16ac3941-2b4a-4690-b4e9-89a46a847ab7",
   "metadata": {},
   "outputs": [
    {
     "ename": "AttributeError",
     "evalue": "'car' object has no attribute 'year'",
     "output_type": "error",
     "traceback": [
      "\u001b[0;31m---------------------------------------------------------------------------\u001b[0m",
      "\u001b[0;31mAttributeError\u001b[0m                            Traceback (most recent call last)",
      "Cell \u001b[0;32mIn[11], line 1\u001b[0m\n\u001b[0;32m----> 1\u001b[0m \u001b[43mc\u001b[49m\u001b[38;5;241;43m.\u001b[39;49m\u001b[43myear\u001b[49m\n",
      "\u001b[0;31mAttributeError\u001b[0m: 'car' object has no attribute 'year'"
     ]
    }
   ],
   "source": [
    "c.#no hint the variables are not visible\n",
    "#we have hidden."
   ]
  },
  {
   "cell_type": "code",
   "execution_count": 12,
   "id": "370172c9-9006-4190-a11b-59cefffbdb39",
   "metadata": {},
   "outputs": [
    {
     "ename": "AttributeError",
     "evalue": "'car' object has no attribute '__year'",
     "output_type": "error",
     "traceback": [
      "\u001b[0;31m---------------------------------------------------------------------------\u001b[0m",
      "\u001b[0;31mAttributeError\u001b[0m                            Traceback (most recent call last)",
      "Cell \u001b[0;32mIn[12], line 1\u001b[0m\n\u001b[0;32m----> 1\u001b[0m \u001b[43mc\u001b[49m\u001b[38;5;241;43m.\u001b[39;49m\u001b[43m__year\u001b[49m\n",
      "\u001b[0;31mAttributeError\u001b[0m: 'car' object has no attribute '__year'"
     ]
    }
   ],
   "source": [
    "c.__year"
   ]
  },
  {
   "cell_type": "code",
   "execution_count": 14,
   "id": "93f3eb11-f8a4-4e47-bc3e-902929feb672",
   "metadata": {},
   "outputs": [
    {
     "data": {
      "text/plain": [
       "2002"
      ]
     },
     "execution_count": 14,
     "metadata": {},
     "output_type": "execute_result"
    }
   ],
   "source": [
    "c._car__year#_class name and double underscore year can be accessed"
   ]
  },
  {
   "cell_type": "code",
   "execution_count": 17,
   "id": "d51eac8a-b2fa-4b12-85d2-4b6ade2ce8d1",
   "metadata": {},
   "outputs": [],
   "source": [
    "c._car__year=1998#variables also user will not come to know\n",
    "#hence cannot be accessed by the user"
   ]
  },
  {
   "cell_type": "code",
   "execution_count": 16,
   "id": "fd2e1e97-6bb2-482c-bc0f-5ece4b7d2c1d",
   "metadata": {},
   "outputs": [
    {
     "data": {
      "text/plain": [
       "1998"
      ]
     },
     "execution_count": 16,
     "metadata": {},
     "output_type": "execute_result"
    }
   ],
   "source": [
    "c._car__year"
   ]
  },
  {
   "cell_type": "code",
   "execution_count": 24,
   "id": "8d00fc6a-c9ce-4bae-8c42-c9f0436b5810",
   "metadata": {},
   "outputs": [],
   "source": [
    "#encapsulation\n",
    "#inside information should not be avaialable\n",
    "class car:\n",
    "    def __init__(self,year,make,model,speed):\n",
    "        self.__year=year#double underscore hides the variable when the user calls it\n",
    "        self.__make=make\n",
    "        self.__model=model\n",
    "        self.__speed=0\n",
    "    def set_speed(self,speed):\n",
    "        self.__speed=0 if speed<0 else speed\n",
    "    def get_speed(self):\n",
    "        return self.__speed"
   ]
  },
  {
   "cell_type": "code",
   "execution_count": 25,
   "id": "375274f7-02ec-4eb6-94d4-d5065c1d3e2c",
   "metadata": {},
   "outputs": [],
   "source": [
    "t=car(2398,\"drf\",\"jkk\",34)"
   ]
  },
  {
   "cell_type": "code",
   "execution_count": 26,
   "id": "06f01b54-f890-4afe-ab95-570371303303",
   "metadata": {},
   "outputs": [
    {
     "data": {
      "text/plain": [
       "2398"
      ]
     },
     "execution_count": 26,
     "metadata": {},
     "output_type": "execute_result"
    }
   ],
   "source": [
    "t._car__year"
   ]
  },
  {
   "cell_type": "code",
   "execution_count": 27,
   "id": "9ad7acd4-c085-4f8d-8988-f0e35eebb70e",
   "metadata": {},
   "outputs": [],
   "source": [
    "t.set_speed(34567)"
   ]
  },
  {
   "cell_type": "code",
   "execution_count": 28,
   "id": "b579fd1d-f6e4-44a6-b6dc-0e5abe718f65",
   "metadata": {},
   "outputs": [
    {
     "data": {
      "text/plain": [
       "34567"
      ]
     },
     "execution_count": 28,
     "metadata": {},
     "output_type": "execute_result"
    }
   ],
   "source": [
    "t.get_speed()"
   ]
  },
  {
   "cell_type": "code",
   "execution_count": 29,
   "id": "d363f1e8-8a6e-436e-ae4c-9d8cae2f570e",
   "metadata": {},
   "outputs": [],
   "source": [
    "#encapsulation in oops"
   ]
  },
  {
   "cell_type": "code",
   "execution_count": 32,
   "id": "477fe3db-6278-4195-a28b-275981c63785",
   "metadata": {},
   "outputs": [],
   "source": [
    "class bank_account:\n",
    "    def __init__(self,balance):\n",
    "        self.__balance=balance\n",
    "        \n",
    "    def deposit(self,amount):\n",
    "        self.__balance=self.__balance+amount\n",
    "    \n",
    "    def withdraw(self,amount):\n",
    "        if self.__balance>=amount:\n",
    "            self.__balance=self.__balance-amount\n",
    "            return True\n",
    "        else:\n",
    "            return False\n",
    "    def get_balance(self):\n",
    "        return self.__balance"
   ]
  },
  {
   "cell_type": "code",
   "execution_count": 33,
   "id": "67f05420-c855-456b-8e8d-aed28e0e0395",
   "metadata": {},
   "outputs": [],
   "source": [
    "b=bank_account(2000)"
   ]
  },
  {
   "cell_type": "code",
   "execution_count": 34,
   "id": "067399c4-23bf-4f57-85df-ebd4104089ce",
   "metadata": {},
   "outputs": [],
   "source": [
    "b.deposit(4000)"
   ]
  },
  {
   "cell_type": "code",
   "execution_count": 35,
   "id": "4780f81b-081e-4cea-86db-da10e84d226c",
   "metadata": {},
   "outputs": [
    {
     "data": {
      "text/plain": [
       "True"
      ]
     },
     "execution_count": 35,
     "metadata": {},
     "output_type": "execute_result"
    }
   ],
   "source": [
    "b.withdraw(1000)"
   ]
  },
  {
   "cell_type": "code",
   "execution_count": 36,
   "id": "67084140-104f-46de-bb65-2ac4e626fff7",
   "metadata": {},
   "outputs": [
    {
     "data": {
      "text/plain": [
       "5000"
      ]
     },
     "execution_count": 36,
     "metadata": {},
     "output_type": "execute_result"
    }
   ],
   "source": [
    "b.get_balance()"
   ]
  },
  {
   "cell_type": "code",
   "execution_count": 37,
   "id": "804be6fa-348e-4828-8bdb-dd6ef379b1ef",
   "metadata": {},
   "outputs": [
    {
     "data": {
      "text/plain": [
       "5000"
      ]
     },
     "execution_count": 37,
     "metadata": {},
     "output_type": "execute_result"
    }
   ],
   "source": [
    "b._bank_account__balance"
   ]
  },
  {
   "cell_type": "code",
   "execution_count": null,
   "id": "4abdd968-ad5a-438a-a358-0bb0cf32d103",
   "metadata": {},
   "outputs": [],
   "source": [
    "#variables cannot be touched by the user as he will not know.\n",
    "#to hide use double underscore and to access use _class___variable name."
   ]
  }
 ],
 "metadata": {
  "kernelspec": {
   "display_name": "Python 3 (ipykernel)",
   "language": "python",
   "name": "python3"
  },
  "language_info": {
   "codemirror_mode": {
    "name": "ipython",
    "version": 3
   },
   "file_extension": ".py",
   "mimetype": "text/x-python",
   "name": "python",
   "nbconvert_exporter": "python",
   "pygments_lexer": "ipython3",
   "version": "3.10.8"
  }
 },
 "nbformat": 4,
 "nbformat_minor": 5
}
