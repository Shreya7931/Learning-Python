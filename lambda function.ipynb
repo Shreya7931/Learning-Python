{
 "cells": [
  {
   "cell_type": "code",
   "execution_count": 1,
   "id": "6ff35c1a-7bcc-4394-8663-ce23933f3a69",
   "metadata": {},
   "outputs": [],
   "source": [
    "#lambda function"
   ]
  },
  {
   "cell_type": "code",
   "execution_count": 2,
   "id": "6d7e0cb5-000c-4fe2-b4a0-25d58145d7fe",
   "metadata": {},
   "outputs": [],
   "source": [
    "n=3\n",
    "p=2"
   ]
  },
  {
   "cell_type": "code",
   "execution_count": 3,
   "id": "ab9dbdc8-74f3-439c-9567-1ebac37a275a",
   "metadata": {},
   "outputs": [
    {
     "data": {
      "text/plain": [
       "1"
      ]
     },
     "execution_count": 3,
     "metadata": {},
     "output_type": "execute_result"
    }
   ],
   "source": [
    "n^p"
   ]
  },
  {
   "cell_type": "code",
   "execution_count": 4,
   "id": "f441f3b4-a853-40a8-8ec0-da9bd68e1f5b",
   "metadata": {},
   "outputs": [],
   "source": [
    "def test(n,p):\n",
    "    return n**p"
   ]
  },
  {
   "cell_type": "code",
   "execution_count": 5,
   "id": "77c5dbaa-2377-4dd1-9e92-0c31f87b6b51",
   "metadata": {},
   "outputs": [
    {
     "data": {
      "text/plain": [
       "9"
      ]
     },
     "execution_count": 5,
     "metadata": {},
     "output_type": "execute_result"
    }
   ],
   "source": [
    "test(3,2)"
   ]
  },
  {
   "cell_type": "code",
   "execution_count": 10,
   "id": "a2d462fa-58d7-407a-9b65-7a7db315a616",
   "metadata": {},
   "outputs": [],
   "source": [
    "a=lambda n,p:n**p#reserved keyword\n",
    "#one liner function or anonymous function"
   ]
  },
  {
   "cell_type": "code",
   "execution_count": 8,
   "id": "e2956e2a-a270-4395-b04a-85f9e85463a7",
   "metadata": {},
   "outputs": [
    {
     "data": {
      "text/plain": [
       "<function __main__.<lambda>(n, p)>"
      ]
     },
     "execution_count": 8,
     "metadata": {},
     "output_type": "execute_result"
    }
   ],
   "source": [
    "a"
   ]
  },
  {
   "cell_type": "code",
   "execution_count": 9,
   "id": "c39a65f3-ad01-485c-98c0-6ff3f52c86aa",
   "metadata": {},
   "outputs": [
    {
     "data": {
      "text/plain": [
       "9"
      ]
     },
     "execution_count": 9,
     "metadata": {},
     "output_type": "execute_result"
    }
   ],
   "source": [
    "a(3,2)"
   ]
  },
  {
   "cell_type": "code",
   "execution_count": 11,
   "id": "bde04c9e-3ea9-4bbf-9c31-467add2fa0c8",
   "metadata": {},
   "outputs": [],
   "source": [
    "b=lambda a,b:a+b"
   ]
  },
  {
   "cell_type": "code",
   "execution_count": 12,
   "id": "860eba00-b887-4963-b378-f89e85619370",
   "metadata": {},
   "outputs": [
    {
     "data": {
      "text/plain": [
       "7"
      ]
     },
     "execution_count": 12,
     "metadata": {},
     "output_type": "execute_result"
    }
   ],
   "source": [
    "b(3,4)"
   ]
  },
  {
   "cell_type": "code",
   "execution_count": 20,
   "id": "10b3efc4-ed07-47d8-b446-59ec00f89d37",
   "metadata": {},
   "outputs": [],
   "source": [
    "c_to=lambda x:(9/5)*x+32"
   ]
  },
  {
   "cell_type": "code",
   "execution_count": 21,
   "id": "1e00c3fa-91f5-4917-8cfa-48eedc4bd134",
   "metadata": {},
   "outputs": [
    {
     "data": {
      "text/plain": [
       "113.0"
      ]
     },
     "execution_count": 21,
     "metadata": {},
     "output_type": "execute_result"
    }
   ],
   "source": [
    "c_to(45)"
   ]
  },
  {
   "cell_type": "code",
   "execution_count": 24,
   "id": "4be0a36d-5f1f-409d-a349-8c0937b207f3",
   "metadata": {},
   "outputs": [],
   "source": [
    "maxi=lambda x,y: x if x>y else y#return then condition"
   ]
  },
  {
   "cell_type": "code",
   "execution_count": 23,
   "id": "d9684002-b4a9-4d4e-825c-191b572e9469",
   "metadata": {},
   "outputs": [
    {
     "data": {
      "text/plain": [
       "4"
      ]
     },
     "execution_count": 23,
     "metadata": {},
     "output_type": "execute_result"
    }
   ],
   "source": [
    "maxi(3,4)"
   ]
  },
  {
   "cell_type": "code",
   "execution_count": 25,
   "id": "bb8210d9-acad-49d7-8aae-4c2c9d554101",
   "metadata": {},
   "outputs": [],
   "source": [
    "s=\"pwskills\""
   ]
  },
  {
   "cell_type": "code",
   "execution_count": 26,
   "id": "43faf7cb-30fc-46a5-92b9-34fa3316eb3b",
   "metadata": {},
   "outputs": [],
   "source": [
    "d=lambda s:len(s)"
   ]
  },
  {
   "cell_type": "code",
   "execution_count": 27,
   "id": "f360f97b-000b-4a58-ae18-98329653289a",
   "metadata": {},
   "outputs": [
    {
     "data": {
      "text/plain": [
       "8"
      ]
     },
     "execution_count": 27,
     "metadata": {},
     "output_type": "execute_result"
    }
   ],
   "source": [
    "d(s)"
   ]
  },
  {
   "cell_type": "code",
   "execution_count": null,
   "id": "a0eabd00-adf4-4d68-b627-409ec81155ce",
   "metadata": {},
   "outputs": [],
   "source": []
  }
 ],
 "metadata": {
  "kernelspec": {
   "display_name": "Python 3 (ipykernel)",
   "language": "python",
   "name": "python3"
  },
  "language_info": {
   "codemirror_mode": {
    "name": "ipython",
    "version": 3
   },
   "file_extension": ".py",
   "mimetype": "text/x-python",
   "name": "python",
   "nbconvert_exporter": "python",
   "pygments_lexer": "ipython3",
   "version": "3.10.8"
  }
 },
 "nbformat": 4,
 "nbformat_minor": 5
}
